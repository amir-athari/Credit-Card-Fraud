{
 "cells": [
  {
   "cell_type": "markdown",
   "metadata": {},
   "source": [
    "# Training machine learning models on credit card transactions labeled as fraudulent or genuine"
   ]
  },
  {
   "cell_type": "markdown",
   "metadata": {},
   "source": [
    "### The dataset contains transactions made by group credit card holders in September 2013 over a span of two days. There are 284,807 transactions with only 492 frauds, meaning the dataset is highly unbalanced. The positive class (frauds) account for 0.172% of all transactions.\n",
    "\n",
    "### The dataset contains numerical input variables that are the result of a PCA transformation. Due to confidentiality issues, the original features and more background information about the data are not shown. There are 28 features, namely V1, V2, ...V27, which are principal components obtained using PCA, except for the Time and Amount features. The Class feature is the response variable and it takes the value 1 in a case of fraud and 0 otherwise.\n",
    "\n",
    "### There are two additional features, Time and Amount. The Time column signifies the time in seconds between each transaction and the first transaction, whereas the Amount column signifies how much money was transferred in this transaction. "
   ]
  },
  {
   "cell_type": "markdown",
   "metadata": {},
   "source": [
    "### Source: https://www.kaggle.com/mlg-ulb/creditcardfraud/version/3"
   ]
  },
  {
   "cell_type": "markdown",
   "metadata": {},
   "source": [
    "<h7> Shahab Athari, leading Advisor for Control and Economic Analysis in Equinor.com located in Houston, Texas.</h7> "
   ]
  },
  {
   "cell_type": "code",
   "execution_count": 174,
   "metadata": {},
   "outputs": [],
   "source": [
    "#Import Python libraries that will be used in this model\n",
    "%matplotlib inline\n",
    "from scipy.stats import randint as sp_randint\n",
    "from sklearn import ensemble\n",
    "from sklearn import linear_model\n",
    "from sklearn import metrics\n",
    "from sklearn import preprocessing, decomposition\n",
    "from sklearn.calibration import CalibratedClassifierCV\n",
    "from sklearn.cross_validation import train_test_split\n",
    "from sklearn.decomposition import PCA\n",
    "from sklearn.decomposition import PCA as sklearn_pca\n",
    "from sklearn.ensemble import RandomForestClassifier, GradientBoostingClassifier\n",
    "from sklearn.feature_selection import RFE\n",
    "from sklearn.feature_selection import SelectKBest\n",
    "from sklearn.grid_search import RandomizedSearchCV\n",
    "from sklearn.linear_model import LogisticRegression\n",
    "from sklearn.linear_model.stochastic_gradient import SGDClassifier\n",
    "from sklearn.metrics import confusion_matrix, classification_report\n",
    "from sklearn.metrics import accuracy_score, precision_score, recall_score, precision_recall_curve\n",
    "from sklearn.metrics import brier_score_loss\n",
    "from sklearn.model_selection import cross_val_score\n",
    "from sklearn.model_selection import GridSearchCV\n",
    "from sklearn.model_selection import train_test_split,cross_val_score, KFold, cross_val_predict\n",
    "from sklearn.naive_bayes import BernoulliNB\n",
    "from sklearn.naive_bayes import GaussianNB\n",
    "from sklearn.neighbors import KNeighborsClassifier\n",
    "from sklearn.preprocessing import StandardScaler\n",
    "from sklearn.preprocessing import RobustScaler\n",
    "from sklearn.svm import SVC\n",
    "from sklearn.tree import DecisionTreeClassifier\n",
    "from sklearn.utils import resample\n",
    "import matplotlib.pyplot as plt\n",
    "import numpy as np\n",
    "import pandas as pd\n",
    "import random\n",
    "import scipy\n",
    "import seaborn as sns \n",
    "import sklearn\n",
    "import sklearn.cross_validation \n",
    "import sklearn.tree\n",
    "import time\n",
    "import timeit\n",
    "import warnings \n",
    "warnings.simplefilter('ignore')"
   ]
  },
  {
   "cell_type": "code",
   "execution_count": 175,
   "metadata": {},
   "outputs": [
    {
     "data": {
      "text/html": [
       "<div>\n",
       "<style scoped>\n",
       "    .dataframe tbody tr th:only-of-type {\n",
       "        vertical-align: middle;\n",
       "    }\n",
       "\n",
       "    .dataframe tbody tr th {\n",
       "        vertical-align: top;\n",
       "    }\n",
       "\n",
       "    .dataframe thead th {\n",
       "        text-align: right;\n",
       "    }\n",
       "</style>\n",
       "<table border=\"1\" class=\"dataframe\">\n",
       "  <thead>\n",
       "    <tr style=\"text-align: right;\">\n",
       "      <th></th>\n",
       "      <th>Time</th>\n",
       "      <th>V1</th>\n",
       "      <th>V2</th>\n",
       "      <th>V3</th>\n",
       "      <th>V4</th>\n",
       "      <th>V5</th>\n",
       "      <th>V6</th>\n",
       "      <th>V7</th>\n",
       "      <th>V8</th>\n",
       "      <th>V9</th>\n",
       "      <th>...</th>\n",
       "      <th>V21</th>\n",
       "      <th>V22</th>\n",
       "      <th>V23</th>\n",
       "      <th>V24</th>\n",
       "      <th>V25</th>\n",
       "      <th>V26</th>\n",
       "      <th>V27</th>\n",
       "      <th>V28</th>\n",
       "      <th>Amount</th>\n",
       "      <th>Class</th>\n",
       "    </tr>\n",
       "  </thead>\n",
       "  <tbody>\n",
       "    <tr>\n",
       "      <th>0</th>\n",
       "      <td>0.0</td>\n",
       "      <td>-1.359807</td>\n",
       "      <td>-0.072781</td>\n",
       "      <td>2.536347</td>\n",
       "      <td>1.378155</td>\n",
       "      <td>-0.338321</td>\n",
       "      <td>0.462388</td>\n",
       "      <td>0.239599</td>\n",
       "      <td>0.098698</td>\n",
       "      <td>0.363787</td>\n",
       "      <td>...</td>\n",
       "      <td>-0.018307</td>\n",
       "      <td>0.277838</td>\n",
       "      <td>-0.110474</td>\n",
       "      <td>0.066928</td>\n",
       "      <td>0.128539</td>\n",
       "      <td>-0.189115</td>\n",
       "      <td>0.133558</td>\n",
       "      <td>-0.021053</td>\n",
       "      <td>149.62</td>\n",
       "      <td>0</td>\n",
       "    </tr>\n",
       "    <tr>\n",
       "      <th>1</th>\n",
       "      <td>0.0</td>\n",
       "      <td>1.191857</td>\n",
       "      <td>0.266151</td>\n",
       "      <td>0.166480</td>\n",
       "      <td>0.448154</td>\n",
       "      <td>0.060018</td>\n",
       "      <td>-0.082361</td>\n",
       "      <td>-0.078803</td>\n",
       "      <td>0.085102</td>\n",
       "      <td>-0.255425</td>\n",
       "      <td>...</td>\n",
       "      <td>-0.225775</td>\n",
       "      <td>-0.638672</td>\n",
       "      <td>0.101288</td>\n",
       "      <td>-0.339846</td>\n",
       "      <td>0.167170</td>\n",
       "      <td>0.125895</td>\n",
       "      <td>-0.008983</td>\n",
       "      <td>0.014724</td>\n",
       "      <td>2.69</td>\n",
       "      <td>0</td>\n",
       "    </tr>\n",
       "    <tr>\n",
       "      <th>2</th>\n",
       "      <td>1.0</td>\n",
       "      <td>-1.358354</td>\n",
       "      <td>-1.340163</td>\n",
       "      <td>1.773209</td>\n",
       "      <td>0.379780</td>\n",
       "      <td>-0.503198</td>\n",
       "      <td>1.800499</td>\n",
       "      <td>0.791461</td>\n",
       "      <td>0.247676</td>\n",
       "      <td>-1.514654</td>\n",
       "      <td>...</td>\n",
       "      <td>0.247998</td>\n",
       "      <td>0.771679</td>\n",
       "      <td>0.909412</td>\n",
       "      <td>-0.689281</td>\n",
       "      <td>-0.327642</td>\n",
       "      <td>-0.139097</td>\n",
       "      <td>-0.055353</td>\n",
       "      <td>-0.059752</td>\n",
       "      <td>378.66</td>\n",
       "      <td>0</td>\n",
       "    </tr>\n",
       "    <tr>\n",
       "      <th>3</th>\n",
       "      <td>1.0</td>\n",
       "      <td>-0.966272</td>\n",
       "      <td>-0.185226</td>\n",
       "      <td>1.792993</td>\n",
       "      <td>-0.863291</td>\n",
       "      <td>-0.010309</td>\n",
       "      <td>1.247203</td>\n",
       "      <td>0.237609</td>\n",
       "      <td>0.377436</td>\n",
       "      <td>-1.387024</td>\n",
       "      <td>...</td>\n",
       "      <td>-0.108300</td>\n",
       "      <td>0.005274</td>\n",
       "      <td>-0.190321</td>\n",
       "      <td>-1.175575</td>\n",
       "      <td>0.647376</td>\n",
       "      <td>-0.221929</td>\n",
       "      <td>0.062723</td>\n",
       "      <td>0.061458</td>\n",
       "      <td>123.50</td>\n",
       "      <td>0</td>\n",
       "    </tr>\n",
       "    <tr>\n",
       "      <th>4</th>\n",
       "      <td>2.0</td>\n",
       "      <td>-1.158233</td>\n",
       "      <td>0.877737</td>\n",
       "      <td>1.548718</td>\n",
       "      <td>0.403034</td>\n",
       "      <td>-0.407193</td>\n",
       "      <td>0.095921</td>\n",
       "      <td>0.592941</td>\n",
       "      <td>-0.270533</td>\n",
       "      <td>0.817739</td>\n",
       "      <td>...</td>\n",
       "      <td>-0.009431</td>\n",
       "      <td>0.798278</td>\n",
       "      <td>-0.137458</td>\n",
       "      <td>0.141267</td>\n",
       "      <td>-0.206010</td>\n",
       "      <td>0.502292</td>\n",
       "      <td>0.219422</td>\n",
       "      <td>0.215153</td>\n",
       "      <td>69.99</td>\n",
       "      <td>0</td>\n",
       "    </tr>\n",
       "  </tbody>\n",
       "</table>\n",
       "<p>5 rows × 31 columns</p>\n",
       "</div>"
      ],
      "text/plain": [
       "   Time        V1        V2        V3        V4        V5        V6        V7  \\\n",
       "0   0.0 -1.359807 -0.072781  2.536347  1.378155 -0.338321  0.462388  0.239599   \n",
       "1   0.0  1.191857  0.266151  0.166480  0.448154  0.060018 -0.082361 -0.078803   \n",
       "2   1.0 -1.358354 -1.340163  1.773209  0.379780 -0.503198  1.800499  0.791461   \n",
       "3   1.0 -0.966272 -0.185226  1.792993 -0.863291 -0.010309  1.247203  0.237609   \n",
       "4   2.0 -1.158233  0.877737  1.548718  0.403034 -0.407193  0.095921  0.592941   \n",
       "\n",
       "         V8        V9  ...         V21       V22       V23       V24  \\\n",
       "0  0.098698  0.363787  ...   -0.018307  0.277838 -0.110474  0.066928   \n",
       "1  0.085102 -0.255425  ...   -0.225775 -0.638672  0.101288 -0.339846   \n",
       "2  0.247676 -1.514654  ...    0.247998  0.771679  0.909412 -0.689281   \n",
       "3  0.377436 -1.387024  ...   -0.108300  0.005274 -0.190321 -1.175575   \n",
       "4 -0.270533  0.817739  ...   -0.009431  0.798278 -0.137458  0.141267   \n",
       "\n",
       "        V25       V26       V27       V28  Amount  Class  \n",
       "0  0.128539 -0.189115  0.133558 -0.021053  149.62      0  \n",
       "1  0.167170  0.125895 -0.008983  0.014724    2.69      0  \n",
       "2 -0.327642 -0.139097 -0.055353 -0.059752  378.66      0  \n",
       "3  0.647376 -0.221929  0.062723  0.061458  123.50      0  \n",
       "4 -0.206010  0.502292  0.219422  0.215153   69.99      0  \n",
       "\n",
       "[5 rows x 31 columns]"
      ]
     },
     "execution_count": 175,
     "metadata": {},
     "output_type": "execute_result"
    }
   ],
   "source": [
    "path1 = (\"C:/Users/aath/Dropbox/MAEN/DS/data/Kaggle/cc/creditcard.csv\")\n",
    "n = sum(1 for line in open(path1)) - 1 #number of records in file (excludes header)\n",
    "s = 284807 #desired sample size\n",
    "skip = sorted(random.sample(range(1,n+1),n-s)) #the 0-indexed header will not be included in the skip list\n",
    "df = pd.read_csv(path1, skiprows=skip)\n",
    "df.head()"
   ]
  },
  {
   "cell_type": "code",
   "execution_count": 176,
   "metadata": {},
   "outputs": [
    {
     "name": "stdout",
     "output_type": "stream",
     "text": [
      "Total time spanning: 2.0 days\n"
     ]
    }
   ],
   "source": [
    "# Check the timespan of the data \n",
    "print(\"Total time spanning: {:.1f} days\".format(df['Time'].max() / (3600 * 24.0)))"
   ]
  },
  {
   "cell_type": "code",
   "execution_count": 177,
   "metadata": {},
   "outputs": [
    {
     "name": "stdout",
     "output_type": "stream",
     "text": [
      "0.173 % of all transactions are fraud. \n"
     ]
    }
   ],
   "source": [
    "# Check the percentage fraud cases\n",
    "print(\"{:.3f} % of all transactions are fraud. \".format(np.sum(df['Class']) / df.shape[0] * 100))"
   ]
  },
  {
   "cell_type": "markdown",
   "metadata": {},
   "source": [
    "We can see that the feature space is very imbalance and fraud cases are very rare. Becasue of this we should be very careful about our learner selection as the risk of overfitting is very high."
   ]
  },
  {
   "cell_type": "code",
   "execution_count": 178,
   "metadata": {},
   "outputs": [
    {
     "data": {
      "text/plain": [
       "(0, 50000)"
      ]
     },
     "execution_count": 178,
     "metadata": {},
     "output_type": "execute_result"
    },
    {
     "data": {
      "image/png": "[encoded data removed]",
      "text/plain": [
       "<Figure size 1440x360 with 1 Axes>"
      ]
     },
     "metadata": {},
     "output_type": "display_data"
    }
   ],
   "source": [
    "# To show the imbalance in first 50,000 data\n",
    "plt.figure(figsize=(20, 5))\n",
    "sns.set_style(\"whitegrid\")\n",
    "plt.subplot(1, 1, 1)\n",
    "ax = sns.countplot(x=\"Class\", data=df, palette=\"Set2\")\n",
    "ax.set_xlabel('Responses by Class ')\n",
    "ax.set_ylabel('Number of Occurrences')\n",
    "ax.set_xticklabels(['No Fraud','Fraud'], fontsize=10)\n",
    "plt.ylim(0, 50000)"
   ]
  },
  {
   "cell_type": "code",
   "execution_count": 179,
   "metadata": {},
   "outputs": [
    {
     "data": {
      "image/png": "[encoded data removed]",
      "text/plain": [
       "<Figure size 864x1440 with 5 Axes>"
      ]
     },
     "metadata": {},
     "output_type": "display_data"
    }
   ],
   "source": [
    "# let's draw the histogram for first five features:\n",
    "\n",
    "import matplotlib.gridspec as gridspec\n",
    "plt.figure(figsize=(12,5*4))\n",
    "gs = gridspec.GridSpec(5, 1)\n",
    "for i, cn in enumerate(df.columns[:5]):\n",
    "    ax = plt.subplot(gs[i])\n",
    "    sns.distplot(df[cn][df.Class == 1], bins=50)\n",
    "    sns.distplot(df[cn][df.Class == 0], bins=50)\n",
    "    ax.set_xlabel('')\n",
    "    ax.set_title('histogram of feature: ' + str(cn))\n",
    "plt.show()\n",
    "\n",
    "# Above code will raise a warning related to deprecated function. And to avoid seeing this warning\n",
    "# we suppress it using: \n",
    "warnings.simplefilter('ignore')"
   ]
  },
  {
   "cell_type": "markdown",
   "metadata": {},
   "source": [
    "Histograms of 5 features are highly skewed. In addition, the dataset does not have many features, so trimming the tails would lose important information. "
   ]
  },
  {
   "cell_type": "markdown",
   "metadata": {},
   "source": [
    "## Dealing with class imbalance"
   ]
  },
  {
   "cell_type": "markdown",
   "metadata": {},
   "source": [
    "Class imbalance can negatively influence both the evaluatiuon of learning algorithms and also the learning process during the fitting stage. For machine learning algorithms we typically optimize a reward or cost function that is computed as a sum over the training examples that it sees during fitting. Becasue of this the decision rule is likely going to be biased towards the majority class. \n",
    "\n",
    "One way to address this is to assign a larger penalty to wrong predictions on the minority class. Alternatively, we can include upsampling the minority class, downsampling the majority class or generate synthetic training samples. Unfortunately, there's no universally best solution, no technique that works best across different problem domains. In this case we will use the upsampling of the Fraud case."
   ]
  },
  {
   "cell_type": "code",
   "execution_count": 180,
   "metadata": {},
   "outputs": [
    {
     "data": {
      "text/plain": [
       "1    284315\n",
       "0    284315\n",
       "Name: Class, dtype: int64"
      ]
     },
     "execution_count": 180,
     "metadata": {},
     "output_type": "execute_result"
    }
   ],
   "source": [
    "# Create a separate table for each class\n",
    "df_minority = df[df.Class == 1]\n",
    "df_majority = df[df.Class == 0]\n",
    "\n",
    "# Determine the  size of minority class\n",
    "minority_size = len(df[df['Class'] == 1])\n",
    "majority_size = len(df[df['Class'] == 0])\n",
    "\n",
    "# Upsample the minority case\n",
    "minority_upsampled = resample(df_minority, replace=True, n_samples=majority_size, random_state=140)\n",
    "\n",
    "# Combine in a new dataframe 'data' the majority class with the upsampled minority class\n",
    "balanced_df = pd.concat([df_majority,minority_upsampled])\n",
    " \n",
    "# Display new class counts\n",
    "balanced_df.Class.value_counts()"
   ]
  },
  {
   "cell_type": "code",
   "execution_count": 181,
   "metadata": {},
   "outputs": [],
   "source": [
    "# Becasue of high computational cost we will use only a random sample \n",
    "# from previous balanced dataset for futher analysis\n",
    "small_sample_size = 50000\n",
    "small_balanced_df=balanced_df.sample(small_sample_size, random_state=2)"
   ]
  },
  {
   "cell_type": "code",
   "execution_count": 182,
   "metadata": {},
   "outputs": [],
   "source": [
    "# Setup a new dataframe that contains the features per Class, dropping the time\n",
    "features_only = small_balanced_df.drop(['Time'],axis = 1)"
   ]
  },
  {
   "cell_type": "code",
   "execution_count": 183,
   "metadata": {},
   "outputs": [
    {
     "data": {
      "text/html": [
       "<div>\n",
       "<style scoped>\n",
       "    .dataframe tbody tr th:only-of-type {\n",
       "        vertical-align: middle;\n",
       "    }\n",
       "\n",
       "    .dataframe tbody tr th {\n",
       "        vertical-align: top;\n",
       "    }\n",
       "\n",
       "    .dataframe thead th {\n",
       "        text-align: right;\n",
       "    }\n",
       "</style>\n",
       "<table border=\"1\" class=\"dataframe\">\n",
       "  <thead>\n",
       "    <tr style=\"text-align: right;\">\n",
       "      <th></th>\n",
       "      <th>V1</th>\n",
       "      <th>V2</th>\n",
       "      <th>V3</th>\n",
       "      <th>V4</th>\n",
       "      <th>V5</th>\n",
       "      <th>V6</th>\n",
       "      <th>V7</th>\n",
       "      <th>V8</th>\n",
       "      <th>V9</th>\n",
       "      <th>V10</th>\n",
       "      <th>...</th>\n",
       "      <th>V21</th>\n",
       "      <th>V22</th>\n",
       "      <th>V23</th>\n",
       "      <th>V24</th>\n",
       "      <th>V25</th>\n",
       "      <th>V26</th>\n",
       "      <th>V27</th>\n",
       "      <th>V28</th>\n",
       "      <th>Amount</th>\n",
       "      <th>Class</th>\n",
       "    </tr>\n",
       "  </thead>\n",
       "  <tbody>\n",
       "    <tr>\n",
       "      <th>count</th>\n",
       "      <td>50000.000000</td>\n",
       "      <td>50000.000000</td>\n",
       "      <td>50000.000000</td>\n",
       "      <td>50000.000000</td>\n",
       "      <td>50000.000000</td>\n",
       "      <td>50000.000000</td>\n",
       "      <td>50000.000000</td>\n",
       "      <td>50000.000000</td>\n",
       "      <td>50000.000000</td>\n",
       "      <td>50000.000000</td>\n",
       "      <td>...</td>\n",
       "      <td>50000.000000</td>\n",
       "      <td>50000.000000</td>\n",
       "      <td>50000.000000</td>\n",
       "      <td>50000.000000</td>\n",
       "      <td>50000.000000</td>\n",
       "      <td>50000.000000</td>\n",
       "      <td>50000.000000</td>\n",
       "      <td>50000.000000</td>\n",
       "      <td>50000.000000</td>\n",
       "      <td>50000.000000</td>\n",
       "    </tr>\n",
       "    <tr>\n",
       "      <th>mean</th>\n",
       "      <td>-2.366613</td>\n",
       "      <td>1.807080</td>\n",
       "      <td>-3.501406</td>\n",
       "      <td>2.264490</td>\n",
       "      <td>-1.554166</td>\n",
       "      <td>-0.695873</td>\n",
       "      <td>-2.785006</td>\n",
       "      <td>0.276881</td>\n",
       "      <td>-1.286858</td>\n",
       "      <td>-2.827627</td>\n",
       "      <td>...</td>\n",
       "      <td>0.360162</td>\n",
       "      <td>0.010912</td>\n",
       "      <td>-0.015906</td>\n",
       "      <td>-0.054811</td>\n",
       "      <td>0.020844</td>\n",
       "      <td>0.024895</td>\n",
       "      <td>0.083934</td>\n",
       "      <td>0.038658</td>\n",
       "      <td>101.901876</td>\n",
       "      <td>0.499920</td>\n",
       "    </tr>\n",
       "    <tr>\n",
       "      <th>std</th>\n",
       "      <td>5.511105</td>\n",
       "      <td>3.710981</td>\n",
       "      <td>6.184603</td>\n",
       "      <td>3.206984</td>\n",
       "      <td>4.205747</td>\n",
       "      <td>1.758031</td>\n",
       "      <td>5.840225</td>\n",
       "      <td>4.885729</td>\n",
       "      <td>2.324148</td>\n",
       "      <td>4.525958</td>\n",
       "      <td>...</td>\n",
       "      <td>2.820352</td>\n",
       "      <td>1.176923</td>\n",
       "      <td>1.202467</td>\n",
       "      <td>0.565677</td>\n",
       "      <td>0.671749</td>\n",
       "      <td>0.474596</td>\n",
       "      <td>1.012620</td>\n",
       "      <td>0.452836</td>\n",
       "      <td>237.996206</td>\n",
       "      <td>0.500005</td>\n",
       "    </tr>\n",
       "    <tr>\n",
       "      <th>min</th>\n",
       "      <td>-40.042537</td>\n",
       "      <td>-38.430842</td>\n",
       "      <td>-31.103685</td>\n",
       "      <td>-5.416315</td>\n",
       "      <td>-22.105532</td>\n",
       "      <td>-23.496714</td>\n",
       "      <td>-43.557242</td>\n",
       "      <td>-41.044261</td>\n",
       "      <td>-13.434066</td>\n",
       "      <td>-24.588262</td>\n",
       "      <td>...</td>\n",
       "      <td>-22.797604</td>\n",
       "      <td>-8.887017</td>\n",
       "      <td>-36.666000</td>\n",
       "      <td>-2.766638</td>\n",
       "      <td>-6.712624</td>\n",
       "      <td>-1.544086</td>\n",
       "      <td>-9.895244</td>\n",
       "      <td>-8.187460</td>\n",
       "      <td>0.000000</td>\n",
       "      <td>0.000000</td>\n",
       "    </tr>\n",
       "    <tr>\n",
       "      <th>25%</th>\n",
       "      <td>-2.869795</td>\n",
       "      <td>-0.143147</td>\n",
       "      <td>-5.126307</td>\n",
       "      <td>-0.121588</td>\n",
       "      <td>-1.774329</td>\n",
       "      <td>-1.574565</td>\n",
       "      <td>-3.103570</td>\n",
       "      <td>-0.203205</td>\n",
       "      <td>-2.309829</td>\n",
       "      <td>-4.565260</td>\n",
       "      <td>...</td>\n",
       "      <td>-0.167384</td>\n",
       "      <td>-0.532228</td>\n",
       "      <td>-0.239303</td>\n",
       "      <td>-0.403114</td>\n",
       "      <td>-0.315773</td>\n",
       "      <td>-0.285325</td>\n",
       "      <td>-0.063019</td>\n",
       "      <td>-0.058658</td>\n",
       "      <td>1.460000</td>\n",
       "      <td>0.000000</td>\n",
       "    </tr>\n",
       "    <tr>\n",
       "      <th>50%</th>\n",
       "      <td>-0.769172</td>\n",
       "      <td>0.962831</td>\n",
       "      <td>-1.377266</td>\n",
       "      <td>1.314446</td>\n",
       "      <td>-0.432996</td>\n",
       "      <td>-0.654659</td>\n",
       "      <td>-0.659424</td>\n",
       "      <td>0.152908</td>\n",
       "      <td>-0.717418</td>\n",
       "      <td>-0.870997</td>\n",
       "      <td>...</td>\n",
       "      <td>0.150303</td>\n",
       "      <td>0.033958</td>\n",
       "      <td>-0.033496</td>\n",
       "      <td>0.004250</td>\n",
       "      <td>0.049970</td>\n",
       "      <td>-0.015477</td>\n",
       "      <td>0.048731</td>\n",
       "      <td>0.034808</td>\n",
       "      <td>18.400000</td>\n",
       "      <td>0.000000</td>\n",
       "    </tr>\n",
       "    <tr>\n",
       "      <th>75%</th>\n",
       "      <td>1.063102</td>\n",
       "      <td>2.809257</td>\n",
       "      <td>0.337000</td>\n",
       "      <td>4.243069</td>\n",
       "      <td>0.478883</td>\n",
       "      <td>0.074805</td>\n",
       "      <td>0.261768</td>\n",
       "      <td>0.866964</td>\n",
       "      <td>0.174216</td>\n",
       "      <td>0.021653</td>\n",
       "      <td>...</td>\n",
       "      <td>0.650988</td>\n",
       "      <td>0.591928</td>\n",
       "      <td>0.192517</td>\n",
       "      <td>0.370793</td>\n",
       "      <td>0.394050</td>\n",
       "      <td>0.323885</td>\n",
       "      <td>0.453867</td>\n",
       "      <td>0.218690</td>\n",
       "      <td>99.990000</td>\n",
       "      <td>1.000000</td>\n",
       "    </tr>\n",
       "    <tr>\n",
       "      <th>max</th>\n",
       "      <td>2.418802</td>\n",
       "      <td>22.057729</td>\n",
       "      <td>4.069865</td>\n",
       "      <td>12.114672</td>\n",
       "      <td>34.099309</td>\n",
       "      <td>13.055580</td>\n",
       "      <td>25.971058</td>\n",
       "      <td>20.007208</td>\n",
       "      <td>9.125535</td>\n",
       "      <td>13.164571</td>\n",
       "      <td>...</td>\n",
       "      <td>27.202839</td>\n",
       "      <td>8.361985</td>\n",
       "      <td>18.946734</td>\n",
       "      <td>3.998294</td>\n",
       "      <td>5.521140</td>\n",
       "      <td>3.122747</td>\n",
       "      <td>8.708972</td>\n",
       "      <td>15.870474</td>\n",
       "      <td>6982.670000</td>\n",
       "      <td>1.000000</td>\n",
       "    </tr>\n",
       "  </tbody>\n",
       "</table>\n",
       "<p>8 rows × 30 columns</p>\n",
       "</div>"
      ],
      "text/plain": [
       "                 V1            V2            V3            V4            V5  \\\n",
       "count  50000.000000  50000.000000  50000.000000  50000.000000  50000.000000   \n",
       "mean      -2.366613      1.807080     -3.501406      2.264490     -1.554166   \n",
       "std        5.511105      3.710981      6.184603      3.206984      4.205747   \n",
       "min      -40.042537    -38.430842    -31.103685     -5.416315    -22.105532   \n",
       "25%       -2.869795     -0.143147     -5.126307     -0.121588     -1.774329   \n",
       "50%       -0.769172      0.962831     -1.377266      1.314446     -0.432996   \n",
       "75%        1.063102      2.809257      0.337000      4.243069      0.478883   \n",
       "max        2.418802     22.057729      4.069865     12.114672     34.099309   \n",
       "\n",
       "                 V6            V7            V8            V9           V10  \\\n",
       "count  50000.000000  50000.000000  50000.000000  50000.000000  50000.000000   \n",
       "mean      -0.695873     -2.785006      0.276881     -1.286858     -2.827627   \n",
       "std        1.758031      5.840225      4.885729      2.324148      4.525958   \n",
       "min      -23.496714    -43.557242    -41.044261    -13.434066    -24.588262   \n",
       "25%       -1.574565     -3.103570     -0.203205     -2.309829     -4.565260   \n",
       "50%       -0.654659     -0.659424      0.152908     -0.717418     -0.870997   \n",
       "75%        0.074805      0.261768      0.866964      0.174216      0.021653   \n",
       "max       13.055580     25.971058     20.007208      9.125535     13.164571   \n",
       "\n",
       "           ...                V21           V22           V23           V24  \\\n",
       "count      ...       50000.000000  50000.000000  50000.000000  50000.000000   \n",
       "mean       ...           0.360162      0.010912     -0.015906     -0.054811   \n",
       "std        ...           2.820352      1.176923      1.202467      0.565677   \n",
       "min        ...         -22.797604     -8.887017    -36.666000     -2.766638   \n",
       "25%        ...          -0.167384     -0.532228     -0.239303     -0.403114   \n",
       "50%        ...           0.150303      0.033958     -0.033496      0.004250   \n",
       "75%        ...           0.650988      0.591928      0.192517      0.370793   \n",
       "max        ...          27.202839      8.361985     18.946734      3.998294   \n",
       "\n",
       "                V25           V26           V27           V28        Amount  \\\n",
       "count  50000.000000  50000.000000  50000.000000  50000.000000  50000.000000   \n",
       "mean       0.020844      0.024895      0.083934      0.038658    101.901876   \n",
       "std        0.671749      0.474596      1.012620      0.452836    237.996206   \n",
       "min       -6.712624     -1.544086     -9.895244     -8.187460      0.000000   \n",
       "25%       -0.315773     -0.285325     -0.063019     -0.058658      1.460000   \n",
       "50%        0.049970     -0.015477      0.048731      0.034808     18.400000   \n",
       "75%        0.394050      0.323885      0.453867      0.218690     99.990000   \n",
       "max        5.521140      3.122747      8.708972     15.870474   6982.670000   \n",
       "\n",
       "              Class  \n",
       "count  50000.000000  \n",
       "mean       0.499920  \n",
       "std        0.500005  \n",
       "min        0.000000  \n",
       "25%        0.000000  \n",
       "50%        0.000000  \n",
       "75%        1.000000  \n",
       "max        1.000000  \n",
       "\n",
       "[8 rows x 30 columns]"
      ]
     },
     "execution_count": 183,
     "metadata": {},
     "output_type": "execute_result"
    }
   ],
   "source": [
    "#Describe the data using statistics\n",
    "features_only.describe()"
   ]
  },
  {
   "cell_type": "markdown",
   "metadata": {},
   "source": [
    "Above table reconfirmed that the distributions for each feature is highly skewed.\n",
    "We also can see that scale of each feature differs and this can cause suboptimal learning especially when using classification method. Therefore, to improve the predictive accuracy, we will scale the data using a Standard Normal Distribution N(0,1):"
   ]
  },
  {
   "cell_type": "code",
   "execution_count": 184,
   "metadata": {},
   "outputs": [],
   "source": [
    "names = features_only.columns # Create the headings only of the dataframe\n",
    "names = names[:-1] # drop last column of the table"
   ]
  },
  {
   "cell_type": "code",
   "execution_count": 185,
   "metadata": {},
   "outputs": [],
   "source": [
    "# Standardize the feature set\n",
    "from sklearn.preprocessing import MinMaxScaler\n",
    "scaler = MinMaxScaler()\n",
    "features_only[names] = scaler.fit_transform(features_only[names])\n",
    "scaled_features_only = features_only # Scaled features"
   ]
  },
  {
   "cell_type": "markdown",
   "metadata": {},
   "source": [
    "Do we have any similarities between the features? And one way to check that is visually inspection the correlation matrix between the features"
   ]
  },
  {
   "cell_type": "code",
   "execution_count": 186,
   "metadata": {},
   "outputs": [],
   "source": [
    "features_only_scaled = features_only # Create a copy of features"
   ]
  },
  {
   "cell_type": "code",
   "execution_count": 187,
   "metadata": {},
   "outputs": [
    {
     "data": {
      "image/png": "[encoded data removed]",
      "text/plain": [
       "<Figure size 720x720 with 2 Axes>"
      ]
     },
     "metadata": {},
     "output_type": "display_data"
    }
   ],
   "source": [
    "correlation_mat = scaled_features_only.corr()\n",
    "\n",
    "#Plot heatmap\n",
    "plt.figure(figsize=(10, 10))\n",
    "ax = sns.heatmap(correlation_mat)  # use this if want text added to each box annot=True\n",
    "plt.tight_layout()\n",
    "plt.show()"
   ]
  },
  {
   "cell_type": "markdown",
   "metadata": {},
   "source": [
    "Almost all of the features are not similar to one another, meaning our dataset is fairly diverse. This is yet another confirmation that we should keep all our feature space."
   ]
  },
  {
   "cell_type": "markdown",
   "metadata": {},
   "source": [
    "### Training, validation, and testing set preparation\n",
    "Priot to model selection we need to split the data into training, development (i.e. validation), and test set. We are using first 80% of the data as the training and validation set. The remaining 20% will be used as the testing set:"
   ]
  },
  {
   "cell_type": "code",
   "execution_count": 188,
   "metadata": {},
   "outputs": [],
   "source": [
    "TEST_RATIO = 0.20\n",
    "#scaled_features_only.sort_values('Time', inplace = True)\n",
    "TRA_INDEX = int((1-TEST_RATIO) * scaled_features_only.shape[0])\n",
    "train_x = scaled_features_only.iloc[:TRA_INDEX, 1:-2].values\n",
    "train_y = scaled_features_only.iloc[:TRA_INDEX, -1].values\n",
    "test_x = scaled_features_only.iloc[TRA_INDEX:, 1:-2].values\n",
    "test_y = scaled_features_only.iloc[TRA_INDEX:, -1].values\n",
    "\n",
    "# Number of cross validation used for all models\n",
    "CF_no = 5"
   ]
  },
  {
   "cell_type": "markdown",
   "metadata": {},
   "source": [
    "## Logistic regression model"
   ]
  },
  {
   "cell_type": "code",
   "execution_count": 189,
   "metadata": {},
   "outputs": [
    {
     "name": "stdout",
     "output_type": "stream",
     "text": [
      "[0.94 0.94 0.94 0.94 0.94]\n"
     ]
    }
   ],
   "source": [
    "#Start the timer as a measure of the computing effort\n",
    "start_time = time.time()\n",
    "\n",
    "# Check any overfitting problem using Cross Fold validation\n",
    "log_reg = sklearn.linear_model.LogisticRegression()\n",
    "score = sklearn.cross_validation.cross_val_score(log_reg, train_x, train_y, cv=CF_no)\n",
    "print(score)"
   ]
  },
  {
   "cell_type": "code",
   "execution_count": 190,
   "metadata": {},
   "outputs": [
    {
     "name": "stdout",
     "output_type": "stream",
     "text": [
      "{'C': 10, 'penalty': 'l1'}\n",
      "--- 3002 seconds ---\n"
     ]
    }
   ],
   "source": [
    "#Tune parameters\n",
    "# C parameter\n",
    "c_param = [0.1,0.5,1, 2, 5, 10]\n",
    "\n",
    "#Tune the type of penalty used between l1 and l2\n",
    "penalty_type = ['l1','l2']\n",
    "parameters = {'C': c_param, 'penalty': penalty_type}\n",
    "\n",
    "#Fit parameters\n",
    "%timeit  \n",
    "log_reg_tuned = GridSearchCV(log_reg, param_grid=parameters, cv=CF_no)\n",
    "\n",
    "#Fit the tunned classifier in the traiing space\n",
    "log_reg_tuned.fit(train_x, train_y)\n",
    "\n",
    "#Print the best parameters\n",
    "print(log_reg_tuned.best_params_)\n",
    "\n",
    "#Print the time required to fit and evaluate the model\n",
    "print(\"--- %s seconds ---\" % round((time.time() - start_time)))"
   ]
  },
  {
   "cell_type": "code",
   "execution_count": 191,
   "metadata": {},
   "outputs": [],
   "source": [
    "# Check the prediction power of the model\n",
    "pred_y = np.array(log_reg_tuned.predict(test_x))\n",
    "true_y = np.array(test_y)"
   ]
  },
  {
   "cell_type": "markdown",
   "metadata": {},
   "source": [
    "### Evaluating the model\n",
    "Below we will use the confusion matrix which is a way of tabulating the number of misclassifications. Also, we can see the number of predicted classes which were categorized wrongly as true. But before that we need to set up a function that also plots the outcome of this matrix."
   ]
  },
  {
   "cell_type": "code",
   "execution_count": 192,
   "metadata": {},
   "outputs": [],
   "source": [
    "# A function to create confusion matrix. Part 1 of 2\n",
    "# This is part 1 that can be used for all models. Part 2 depends on model specific data\n",
    "\n",
    "import itertools  \n",
    "def plot_confusion_matrix(cm, classes,\n",
    "                          normalize=False,\n",
    "                          title='Confusion matrix',\n",
    "                          cmap=plt.cm.Blues):\n",
    "    \"\"\"\n",
    "    This function prints and plots the confusion matrix.\n",
    "    Normalization can be applied by setting `normalize=True.\n",
    "    \"\"\"\n",
    "    if normalize:\n",
    "        cm = cm.astype('float') / cm.sum(axis=1)[:, np.newaxis]\n",
    "        print(\"Normalized confusion matrix\")\n",
    "    else:\n",
    "        print('Confusion matrix, without normalization')\n",
    "\n",
    "    print(cm)\n",
    "\n",
    "    plt.imshow(cm, interpolation='nearest', cmap=cmap)\n",
    "    plt.title(title)\n",
    "    plt.colorbar()\n",
    "    tick_marks = np.arange(len(classes))\n",
    "    plt.xticks(tick_marks, classes, rotation=45)\n",
    "    plt.yticks(tick_marks, classes)\n",
    "\n",
    "    fmt = '.2f' if normalize else 'd'\n",
    "    thresh = cm.max() / 2.\n",
    "    for i, j in itertools.product(range(cm.shape[0]), range(cm.shape[1])):\n",
    "        plt.text(j, i, format(cm[i, j], fmt),\n",
    "                 horizontalalignment=\"center\",\n",
    "                 color=\"white\" if cm[i, j] > thresh else \"black\")\n",
    "\n",
    "    plt.tight_layout()\n",
    "    plt.ylabel('True label')\n",
    "    plt.xlabel('Predicted label')"
   ]
  },
  {
   "cell_type": "code",
   "execution_count": 193,
   "metadata": {},
   "outputs": [
    {
     "name": "stdout",
     "output_type": "stream",
     "text": [
      "Confusion matrix, without normalization\n",
      "[[4914  123]\n",
      " [ 406 4557]]\n"
     ]
    },
    {
     "data": {
      "image/png": "[encoded data removed]",
      "text/plain": [
       "<Figure size 432x288 with 2 Axes>"
      ]
     },
     "metadata": {},
     "output_type": "display_data"
    }
   ],
   "source": [
    "# A function to create confusion matrix. Part 2 of 2\n",
    "class_names = ['No Fraud', 'Fraud']\n",
    "np.set_printoptions(precision=2)\n",
    "\n",
    "cnf_matrix = confusion_matrix(true_y, pred_y)\n",
    "plt.figure()\n",
    "plot_confusion_matrix(cnf_matrix, classes=class_names, \n",
    "                      title='Confusion matrix')\n",
    "plt.show()\n",
    "\n",
    "# IMPORTANT: first argument is true values, second argument is predicted values\n",
    "# this produces a 2x2 numpy array (matrix)"
   ]
  },
  {
   "cell_type": "code",
   "execution_count": 194,
   "metadata": {},
   "outputs": [
    {
     "name": "stdout",
     "output_type": "stream",
     "text": [
      "             precision    recall  f1-score   support\n",
      "\n",
      "    class 0       0.92      0.98      0.95      5037\n",
      "    class 1       0.97      0.92      0.95      4963\n",
      "\n",
      "avg / total       0.95      0.95      0.95     10000\n",
      "\n"
     ]
    }
   ],
   "source": [
    "target_names = ['class 0', 'class 1', 'class 2']\n",
    "print(classification_report(true_y, pred_y, target_names=target_names))"
   ]
  },
  {
   "cell_type": "code",
   "execution_count": 195,
   "metadata": {},
   "outputs": [
    {
     "name": "stdout",
     "output_type": "stream",
     "text": [
      "True Positives (TP): We correctly predicted the fraud: 4557. \n",
      "True Negatives (TN): we correctly predicted that no fraud: 4914. \n",
      "False Positives (FP): we incorrectly predicted that it is a fraud or Type I error: 123. \n",
      "False Negatives (FN): we incorrectly predicted that it is not a fraud or Type II error: 406. \n",
      "===================================================\n",
      "Overall, how often is the classifier correct (accuracy)? 0.9471. \n",
      "Overall, how often is the classifier incorrect? 0.0529. \n",
      "When the actual value is positive, how often is the prediction correct (sensitivity or recall)? 0.918194640338505.\n",
      "When the actual value is negative, how often is the prediction correct (specificity)? 0.9755807027992853.\n",
      "When the actual value is negative, how often is the prediction incorrect (false positive rate)? 0.024419297200714712.\n",
      "When a positive value is predicted, how often is the prediction correct (precision)? 0.9737179487179487.\n"
     ]
    }
   ],
   "source": [
    "# Metrics computed from a confusion matrix\n",
    "\n",
    "#cnf_matrix_metrics = metrics.confusion_matrix(test_y, pred_y)\n",
    "#[row, column]\n",
    "TP = cnf_matrix[1, 1]\n",
    "TN = cnf_matrix[0, 0]\n",
    "FP = cnf_matrix[0, 1]\n",
    "FN = cnf_matrix[1, 0]\n",
    "\n",
    "# Classification Accuracy: Overall, how often is the classifier correct?\n",
    "# use float to perform true division, not integer division\n",
    "\n",
    "print(\"True Positives (TP): We correctly predicted the fraud: {}. \".format(TP))\n",
    "print(\"True Negatives (TN): we correctly predicted that no fraud: {}. \".format(TN))\n",
    "print(\"False Positives (FP): we incorrectly predicted that it is a fraud or Type I error: {}. \".format(FP))\n",
    "print(\"False Negatives (FN): we incorrectly predicted that it is not a fraud or Type II error: {}. \".format(FN))\n",
    "\n",
    "print(\"===================================================\")\n",
    "\n",
    "# Classification Accuracy: Overall, how often is the classifier correct?\n",
    "print(\"Overall, how often is the classifier correct (accuracy)? {}. \".format((TP + TN) / float(TP + TN + FP + FN)))      \n",
    "print(\"Overall, how often is the classifier incorrect? {}. \".format((FP + FN) / float(TP + TN + FP + FN))) \n",
    "print(\"When the actual value is positive, how often is the prediction correct (sensitivity or recall)? {}.\".format(TP / float(FN + TP))) \n",
    "print(\"When the actual value is negative, how often is the prediction correct (specificity)? {}.\".format(TN / (TN + FP))) \n",
    "print(\"When the actual value is negative, how often is the prediction incorrect (false positive rate)? {}.\".format(FP / float(TN + FP))) \n",
    "print(\"When a positive value is predicted, how often is the prediction correct (precision)? {}.\".format(TP / float(TP + FP))) "
   ]
  },
  {
   "cell_type": "code",
   "execution_count": 196,
   "metadata": {},
   "outputs": [],
   "source": [
    "# Which metrics should you focus on?\n",
    "# This is the case of fraud detection therefore we should optimize for sensitivity or recall:\n",
    "# FN is in this case more important as false positives (normal transactions that are marked as possible fraud\n",
    "# are more acceptable than false negatives where actual fraud has happened and we fail to detect"
   ]
  },
  {
   "cell_type": "markdown",
   "metadata": {},
   "source": [
    "Next, we will try a different model to see if we can reduce this error."
   ]
  },
  {
   "cell_type": "markdown",
   "metadata": {},
   "source": [
    "## Decision Tree"
   ]
  },
  {
   "cell_type": "code",
   "execution_count": 197,
   "metadata": {},
   "outputs": [
    {
     "name": "stdout",
     "output_type": "stream",
     "text": [
      "[1. 1. 1. 1. 1.]\n"
     ]
    }
   ],
   "source": [
    "#Start the timer as a measure of the computing effort\n",
    "start_time = time.time()\n",
    "\n",
    "D_tree = DecisionTreeClassifier(random_state=37)\n",
    "score = sklearn.cross_validation.cross_val_score(D_tree, train_x, train_y, cv=CF_no)\n",
    "print(score)"
   ]
  },
  {
   "cell_type": "code",
   "execution_count": 198,
   "metadata": {},
   "outputs": [
    {
     "name": "stdout",
     "output_type": "stream",
     "text": [
      "{'criterion': 'gini', 'max_depth': 15, 'min_samples_leaf': 3}\n",
      "--- 16 seconds ---\n"
     ]
    }
   ],
   "source": [
    "D_tree = DecisionTreeClassifier(random_state=37)\n",
    "params = {\"max_depth\": [2, 5, 10, 15], \"min_samples_leaf\": sp_randint(1, 5), \n",
    "          \"criterion\": [\"gini\", \"entropy\"]}\n",
    "\n",
    "D_tree_tuned = RandomizedSearchCV(D_tree, params)\n",
    "D_tree_tuned.fit(train_x,train_y)\n",
    "\n",
    "#Print the best parameters\n",
    "print(D_tree_tuned.best_params_)  \n",
    "\n",
    "#Print the time required to fit and evaluate the model\n",
    "print(\"--- %s seconds ---\" % round((time.time() - start_time)))"
   ]
  },
  {
   "cell_type": "code",
   "execution_count": 199,
   "metadata": {},
   "outputs": [],
   "source": [
    "# Check the prediction power of the model\n",
    "pred_y = np.array(D_tree_tuned.predict(test_x))\n",
    "true_y = np.array(test_y)"
   ]
  },
  {
   "cell_type": "code",
   "execution_count": 200,
   "metadata": {},
   "outputs": [
    {
     "name": "stdout",
     "output_type": "stream",
     "text": [
      "Confusion matrix, without normalization\n",
      "[[5011   26]\n",
      " [   0 4963]]\n"
     ]
    },
    {
     "data": {
      "image/png": "[encoded data removed]",
      "text/plain": [
       "<Figure size 432x288 with 2 Axes>"
      ]
     },
     "metadata": {},
     "output_type": "display_data"
    }
   ],
   "source": [
    "class_names = ['No Fraud', 'Fraud']\n",
    "np.set_printoptions(precision=2)\n",
    "\n",
    "cnf_matrix = confusion_matrix(true_y, pred_y)\n",
    "plt.figure()\n",
    "plot_confusion_matrix(cnf_matrix, classes=class_names, \n",
    "                      title='Confusion matrix')\n",
    "plt.show()"
   ]
  },
  {
   "cell_type": "code",
   "execution_count": 201,
   "metadata": {},
   "outputs": [
    {
     "name": "stdout",
     "output_type": "stream",
     "text": [
      "             precision    recall  f1-score   support\n",
      "\n",
      "    class 0       1.00      0.99      1.00      5037\n",
      "    class 1       0.99      1.00      1.00      4963\n",
      "\n",
      "avg / total       1.00      1.00      1.00     10000\n",
      "\n"
     ]
    }
   ],
   "source": [
    "target_names = ['class 0', 'class 1', 'class 2']\n",
    "print(classification_report(true_y, pred_y, target_names=target_names))"
   ]
  },
  {
   "cell_type": "code",
   "execution_count": 202,
   "metadata": {},
   "outputs": [
    {
     "name": "stdout",
     "output_type": "stream",
     "text": [
      "True Positives (TP): We correctly predicted the fraud: 4963. \n",
      "True Negatives (TN): we correctly predicted that no fraud: 5011. \n",
      "False Positives (FP): we incorrectly predicted that it is a fraud or Type I error: 26. \n",
      "False Negatives (FN): we incorrectly predicted that it is not a fraud or Type II error: 0. \n",
      "===================================================\n",
      "Overall, how often is the classifier correct (accuracy)? 0.9974. \n",
      "Overall, how often is the classifier incorrect? 0.0026. \n",
      "When the actual value is positive, how often is the prediction correct (sensitivity or recall)? 1.0.\n",
      "When the actual value is negative, how often is the prediction correct (specificity)? 0.9948381973396864.\n",
      "When the actual value is negative, how often is the prediction incorrect (false positive rate)? 0.005161802660313679.\n",
      "When a positive value is predicted, how often is the prediction correct (precision)? 0.9947885347765083.\n"
     ]
    }
   ],
   "source": [
    "# Metrics computed from a confusion matrix\n",
    "\n",
    "#cnf_matrix_metrics = metrics.confusion_matrix(test_y, pred_y)\n",
    "#[row, column]\n",
    "TP = cnf_matrix[1, 1]\n",
    "TN = cnf_matrix[0, 0]\n",
    "FP = cnf_matrix[0, 1]\n",
    "FN = cnf_matrix[1, 0]\n",
    "\n",
    "# Classification Accuracy: Overall, how often is the classifier correct?\n",
    "# use float to perform true division, not integer division\n",
    "\n",
    "print(\"True Positives (TP): We correctly predicted the fraud: {}. \".format(TP))\n",
    "print(\"True Negatives (TN): we correctly predicted that no fraud: {}. \".format(TN))\n",
    "print(\"False Positives (FP): we incorrectly predicted that it is a fraud or Type I error: {}. \".format(FP))\n",
    "print(\"False Negatives (FN): we incorrectly predicted that it is not a fraud or Type II error: {}. \".format(FN))\n",
    "\n",
    "print(\"===================================================\")\n",
    "\n",
    "# Classification Accuracy: Overall, how often is the classifier correct?\n",
    "print(\"Overall, how often is the classifier correct (accuracy)? {}. \".format((TP + TN) / float(TP + TN + FP + FN)))      \n",
    "print(\"Overall, how often is the classifier incorrect? {}. \".format((FP + FN) / float(TP + TN + FP + FN))) \n",
    "print(\"When the actual value is positive, how often is the prediction correct (sensitivity or recall)? {}.\".format(TP / float(FN + TP))) \n",
    "print(\"When the actual value is negative, how often is the prediction correct (specificity)? {}.\".format(TN / (TN + FP))) \n",
    "print(\"When the actual value is negative, how often is the prediction incorrect (false positive rate)? {}.\".format(FP / float(TN + FP))) \n",
    "print(\"When a positive value is predicted, how often is the prediction correct (precision)? {}.\".format(TP / float(TP + FP))) "
   ]
  },
  {
   "cell_type": "code",
   "execution_count": null,
   "metadata": {},
   "outputs": [],
   "source": []
  },
  {
   "cell_type": "markdown",
   "metadata": {},
   "source": [
    "## Random Forest"
   ]
  },
  {
   "cell_type": "code",
   "execution_count": 203,
   "metadata": {},
   "outputs": [
    {
     "name": "stdout",
     "output_type": "stream",
     "text": [
      "Scores of cross fold validation: [1. 1. 1. 1. 1.]  by 5 number of foldings \n"
     ]
    }
   ],
   "source": [
    "#Start the timer as a measure of the computing effort\n",
    "start_time = time.time()\n",
    "\n",
    "Random_f = ensemble.RandomForestClassifier()\n",
    "\n",
    "# Fold Cross validation\n",
    "score = sklearn.cross_validation.cross_val_score(Random_f, train_x, train_y, cv=CF_no)\n",
    "\n",
    "# Fold Cross validation\n",
    "print(\"Scores of cross fold validation: {}\".format(score), \" by {} number of foldings \".format(CF_no))"
   ]
  },
  {
   "cell_type": "code",
   "execution_count": 204,
   "metadata": {},
   "outputs": [
    {
     "name": "stdout",
     "output_type": "stream",
     "text": [
      "[0.06 0.02 0.09 0.01 0.01 0.15 0.01 0.04 0.03 0.14 0.06 0.01 0.09 0.01\n",
      " 0.01 0.14 0.01 0.02 0.01 0.04 0.01 0.   0.01 0.01 0.01 0.01 0.01]\n",
      "--- 6 seconds ---\n"
     ]
    }
   ],
   "source": [
    "Random_f.fit(train_x, train_y)\n",
    "RandomForestClassifier(bootstrap=True, class_weight=None, criterion='gini',\n",
    "            max_depth=2, max_features='auto', max_leaf_nodes=None,\n",
    "            min_impurity_decrease=0.0, min_impurity_split=None,\n",
    "            min_samples_leaf=1, min_samples_split=2,\n",
    "            min_weight_fraction_leaf=0.0, n_estimators=10, n_jobs=1,\n",
    "            oob_score=False, random_state=0, verbose=0, warm_start=False)\n",
    "print(Random_f.feature_importances_)\n",
    "\n",
    "#Print the time required to fit and evaluate the model\n",
    "print(\"--- %s seconds ---\" % round((time.time() - start_time)))"
   ]
  },
  {
   "cell_type": "code",
   "execution_count": 205,
   "metadata": {},
   "outputs": [],
   "source": [
    "# Check the prediction power of the model\n",
    "pred_y = np.array(Random_f.predict(test_x))\n",
    "true_y = np.array(test_y)"
   ]
  },
  {
   "cell_type": "code",
   "execution_count": 206,
   "metadata": {},
   "outputs": [
    {
     "name": "stdout",
     "output_type": "stream",
     "text": [
      "Confusion matrix, without normalization\n",
      "[[5034    3]\n",
      " [   0 4963]]\n"
     ]
    },
    {
     "data": {
      "image/png": "[encoded data removed]",
      "text/plain": [
       "<Figure size 432x288 with 2 Axes>"
      ]
     },
     "metadata": {},
     "output_type": "display_data"
    }
   ],
   "source": [
    "class_names = ['No Fraud', 'Fraud']\n",
    "np.set_printoptions(precision=2)\n",
    "\n",
    "cnf_matrix = confusion_matrix(true_y, pred_y)\n",
    "plt.figure()\n",
    "plot_confusion_matrix(cnf_matrix, classes=class_names, \n",
    "                      title='Confusion matrix')\n",
    "plt.show()"
   ]
  },
  {
   "cell_type": "code",
   "execution_count": 207,
   "metadata": {},
   "outputs": [
    {
     "name": "stdout",
     "output_type": "stream",
     "text": [
      "True Positives (TP): We correctly predicted the fraud: 4963. \n",
      "True Negatives (TN): we correctly predicted that no fraud: 5034. \n",
      "False Positives (FP): we incorrectly predicted that it is a fraud or Type I error: 3. \n",
      "False Negatives (FN): we incorrectly predicted that it is not a fraud or Type II error: 0. \n",
      "===================================================\n",
      "Overall, how often is the classifier correct (accuracy)? 0.9997. \n",
      "Overall, how often is the classifier incorrect? 0.0003. \n",
      "When the actual value is positive, how often is the prediction correct (sensitivity or recall)? 1.0.\n",
      "When the actual value is negative, how often is the prediction correct (specificity)? 0.9994044073853484.\n",
      "When the actual value is negative, how often is the prediction incorrect (false positive rate)? 0.0005955926146515784.\n",
      "When a positive value is predicted, how often is the prediction correct (precision)? 0.9993958920660492.\n"
     ]
    }
   ],
   "source": [
    "# Metrics computed from a confusion matrix\n",
    "\n",
    "#cnf_matrix_metrics = metrics.confusion_matrix(test_y, pred_y)\n",
    "#[row, column]\n",
    "TP = cnf_matrix[1, 1]\n",
    "TN = cnf_matrix[0, 0]\n",
    "FP = cnf_matrix[0, 1]\n",
    "FN = cnf_matrix[1, 0]\n",
    "\n",
    "# Classification Accuracy: Overall, how often is the classifier correct?\n",
    "# use float to perform true division, not integer division\n",
    "\n",
    "print(\"True Positives (TP): We correctly predicted the fraud: {}. \".format(TP))\n",
    "print(\"True Negatives (TN): we correctly predicted that no fraud: {}. \".format(TN))\n",
    "print(\"False Positives (FP): we incorrectly predicted that it is a fraud or Type I error: {}. \".format(FP))\n",
    "print(\"False Negatives (FN): we incorrectly predicted that it is not a fraud or Type II error: {}. \".format(FN))\n",
    "\n",
    "print(\"===================================================\")\n",
    "\n",
    "# Classification Accuracy: Overall, how often is the classifier correct?\n",
    "print(\"Overall, how often is the classifier correct (accuracy)? {}. \".format((TP + TN) / float(TP + TN + FP + FN)))      \n",
    "print(\"Overall, how often is the classifier incorrect? {}. \".format((FP + FN) / float(TP + TN + FP + FN))) \n",
    "print(\"When the actual value is positive, how often is the prediction correct (sensitivity or recall)? {}.\".format(TP / float(FN + TP))) \n",
    "print(\"When the actual value is negative, how often is the prediction correct (specificity)? {}.\".format(TN / (TN + FP))) \n",
    "print(\"When the actual value is negative, how often is the prediction incorrect (false positive rate)? {}.\".format(FP / float(TN + FP))) \n",
    "print(\"When a positive value is predicted, how often is the prediction correct (precision)? {}.\".format(TP / float(TP + FP))) "
   ]
  },
  {
   "cell_type": "code",
   "execution_count": 208,
   "metadata": {},
   "outputs": [],
   "source": [
    "# Which metrics should you focus on?\n",
    "# This is the case of fraud detection therefore we should optimize for sensitivity or recall:\n",
    "# FN is in this case more important as false positives (normal transactions that are marked as possible fraud\n",
    "# are more acceptable than false negatives where actual fraud has happened and we fail to detect"
   ]
  },
  {
   "cell_type": "markdown",
   "metadata": {},
   "source": [
    "We try another model."
   ]
  },
  {
   "cell_type": "markdown",
   "metadata": {},
   "source": [
    "## Naive Bayes"
   ]
  },
  {
   "cell_type": "code",
   "execution_count": 209,
   "metadata": {},
   "outputs": [],
   "source": [
    "# Prepare dataframe tables\n",
    "X = scaled_features_only.iloc[:, 1:-2].values\n",
    "y = scaled_features_only.iloc[:, -1].values"
   ]
  },
  {
   "cell_type": "code",
   "execution_count": 211,
   "metadata": {},
   "outputs": [],
   "source": [
    "X_train = scaled_features_only.iloc[:TRA_INDEX, 1:-2].values\n",
    "y_train = scaled_features_only.iloc[:TRA_INDEX, -1].values\n",
    "X_test = scaled_features_only.iloc[TRA_INDEX:, 1:-2].values\n",
    "y_test = scaled_features_only.iloc[TRA_INDEX:, -1].values"
   ]
  },
  {
   "cell_type": "markdown",
   "metadata": {},
   "source": [
    "In this classification exercise we are also interested in the associated probabilities. These probabilities give us a some kind of confidence on the prediction. However, not all classifiers provide well-calibrated probabilities, some being over-confident while others being under-confident. Thus, a separate calibration of predicted probabilities is often desirable as a postprocessing. Below we use different calibration methods to evaluate the quality of the returned probabilities using Brier’s score."
   ]
  },
  {
   "cell_type": "code",
   "execution_count": 212,
   "metadata": {},
   "outputs": [
    {
     "name": "stdout",
     "output_type": "stream",
     "text": [
      "Brier scores: (the smaller the better)\n",
      "No calibration: 0.078\n",
      "With isotonic calibration: 0.076\n",
      "With sigmoid calibration: 0.070\n",
      "--- 1 seconds ---\n"
     ]
    }
   ],
   "source": [
    "# Use the Brier score which measures the accuracy of probabilistic predictions. \n",
    "# It is applicable to tasks in which predictions must assign probabilities to a set of mutually \n",
    "# exclusive discrete outcomes.”\n",
    "# This function returns a score of the mean square difference between \n",
    "# the actual outcome and the predicted probability of the possible outcome. \n",
    "# The actual outcome has to be 1 or 0 (true or false), while the predicted probability of the actual \n",
    "# outcome can be a value between 0 and 1.\n",
    "\n",
    "# The brier score loss is also between 0 to 1 and the lower the score (the mean square difference is smaller), \n",
    "# the more accurate the prediction is. \n",
    "# It can be thought of as a measure of the “calibration” of a set of probabilistic predictions.\n",
    "\n",
    "#Start the timer as a measure of the computing effort\n",
    "start_time = time.time()\n",
    "\n",
    "# Gaussian Naive-Bayes with no calibration\n",
    "clf = GaussianNB()\n",
    "clf.fit(X_train, y_train)  # GaussianNB itself does not support sample-weights\n",
    "prob_pos_clf = clf.predict_proba(X_test)[:, 1]\n",
    "\n",
    "# Gaussian Naive-Bayes with isotonic calibration\n",
    "clf_isotonic = CalibratedClassifierCV(clf, cv=CF_no, method='isotonic')\n",
    "clf_isotonic.fit(X_train, y_train) #, sw_train)\n",
    "prob_pos_isotonic = clf_isotonic.predict_proba(X_test)[:, 1]\n",
    "\n",
    "# Gaussian Naive-Bayes with sigmoid calibration\n",
    "clf_sigmoid = CalibratedClassifierCV(clf, cv=CF_no, method='sigmoid')\n",
    "clf_sigmoid.fit(X_train, y_train) #, sw_train)\n",
    "prob_pos_sigmoid = clf_sigmoid.predict_proba(X_test)[:, 1]\n",
    "\n",
    "print(\"Brier scores: (the smaller the better)\")\n",
    "\n",
    "clf_score = brier_score_loss(y_test, prob_pos_clf) # , sw_test)\n",
    "print(\"No calibration: %1.3f\" % clf_score)\n",
    "\n",
    "clf_isotonic_score = brier_score_loss(y_test, prob_pos_isotonic) # , sw_test)\n",
    "print(\"With isotonic calibration: %1.3f\" % clf_isotonic_score)\n",
    "\n",
    "clf_sigmoid_score = brier_score_loss(y_test, prob_pos_sigmoid) # , sw_test)\n",
    "print(\"With sigmoid calibration: %1.3f\" % clf_sigmoid_score)\n",
    "\n",
    "\n",
    "#Print the time required to fit and evaluate the model\n",
    "print(\"--- %s seconds ---\" % round((time.time() - start_time)))"
   ]
  },
  {
   "cell_type": "markdown",
   "metadata": {},
   "source": [
    "Based on Brier scores isotoic calibration is working best. "
   ]
  },
  {
   "cell_type": "code",
   "execution_count": 213,
   "metadata": {},
   "outputs": [
    {
     "data": {
      "image/png": "[encoded data removed]",
      "text/plain": [
       "<Figure size 432x288 with 1 Axes>"
      ]
     },
     "metadata": {},
     "output_type": "display_data"
    }
   ],
   "source": [
    "# Plot the predicted probabilities\n",
    "plt.figure()\n",
    "order = np.lexsort((prob_pos_clf, ))\n",
    "plt.plot(prob_pos_clf[order], 'r', label='No calibration (%1.3f)' % clf_score)\n",
    "\n",
    "plt.plot(prob_pos_isotonic[order], 'g', linewidth=3,\n",
    "         label='Isotonic calibration (%1.3f)' % clf_isotonic_score)\n",
    "\n",
    "plt.plot(prob_pos_sigmoid[order], 'b', linewidth=3,\n",
    "         label='Sigmoid calibration (%1.3f)' % clf_sigmoid_score)\n",
    "\n",
    "plt.plot(np.linspace(0, y_test.size, 51)[1::2], y_test[order].reshape(25, -1).mean(1),\n",
    "         'k', linewidth=3, label=r'Empirical')\n",
    "\n",
    "plt.ylim([-0.05, 1.05])\n",
    "plt.xlabel(\"Instances sorted according to predicted probability \"\n",
    "           \"(uncalibrated GNB)\")\n",
    "plt.ylabel(\"P(y=1)\")\n",
    "plt.legend(loc=\"upper left\")\n",
    "plt.title(\"Gaussian naive Bayes probabilities\")\n",
    "\n",
    "plt.show()"
   ]
  },
  {
   "cell_type": "markdown",
   "metadata": {},
   "source": [
    "Below we continue using Naive Bayes caliberated with isotonic method. "
   ]
  },
  {
   "cell_type": "code",
   "execution_count": 214,
   "metadata": {},
   "outputs": [
    {
     "name": "stdout",
     "output_type": "stream",
     "text": [
      "Computational efforts: 0.0 seconds ---\n",
      "Accuracy: 0.9205. \n",
      "Precision: 0.9727767695099818. \n",
      "Recall: 0.8639935522869232. \n"
     ]
    }
   ],
   "source": [
    "# We see isotonic calibration is performing best and below we run model evaluation on this version of Naive Bayes\n",
    "\n",
    "y_pred_test = clf_sigmoid.predict(X_test)\n",
    "\n",
    "#Print the time required to fit and evaluate the model\n",
    "start_time = time.time()\n",
    "print(\"Computational efforts: %s seconds ---\" % (time.time() - start_time))\n",
    "\n",
    "clf_isotonic_accuracy = accuracy_score(y_pred=y_pred_test, y_true=y_test)\n",
    "clf_isotonic_precision = precision_score(y_pred=y_pred_test, y_true=y_test)\n",
    "clf_isotonic_recall = recall_score(y_pred=y_pred_test, y_true=y_test)\n",
    "\n",
    "print(\"Accuracy: {}. \".format(clf_isotonic_accuracy))\n",
    "print(\"Precision: {}. \".format(clf_isotonic_precision))\n",
    "print(\"Recall: {}. \".format(clf_isotonic_recall))"
   ]
  },
  {
   "cell_type": "code",
   "execution_count": 215,
   "metadata": {},
   "outputs": [
    {
     "name": "stdout",
     "output_type": "stream",
     "text": [
      "Confusion matrix, without normalization\n",
      "[[4917  120]\n",
      " [ 675 4288]]\n"
     ]
    },
    {
     "data": {
      "image/png": "[encoded data removed]",
      "text/plain": [
       "<Figure size 432x288 with 2 Axes>"
      ]
     },
     "metadata": {},
     "output_type": "display_data"
    }
   ],
   "source": [
    "# Confusion matrix\n",
    "\n",
    "cnf_matrix = confusion_matrix(y_pred=y_pred_test, y_true=y_test)\n",
    "plt.figure()\n",
    "plot_confusion_matrix(cnf_matrix, classes=class_names, \n",
    "                      title='Confusion matrix')\n",
    "plt.show()"
   ]
  },
  {
   "cell_type": "markdown",
   "metadata": {},
   "source": [
    "So far, Naive Bayes performs worst among the models and because of the nature of this business the performance of this model is not acceptable."
   ]
  },
  {
   "cell_type": "markdown",
   "metadata": {},
   "source": [
    "## KNeighbors "
   ]
  },
  {
   "cell_type": "code",
   "execution_count": 216,
   "metadata": {},
   "outputs": [
    {
     "name": "stdout",
     "output_type": "stream",
     "text": [
      "Best Hyper Parameters: {'n_neighbors': 3, 'weights': 'distance'}\n",
      "--- 582 seconds ---\n"
     ]
    }
   ],
   "source": [
    "# from sklearn import preprocessing, model_selection, neighbors\n",
    "# from sklearn.metrics import confusion_matrix, average_precision_score\n",
    "\n",
    "#Start the timer as a measure of the computing effort\n",
    "start_time = time.time()\n",
    "\n",
    "KNN = KNeighborsClassifier()  #initialize the KNN classifier\n",
    "\n",
    "# Create range of values to fit parameters\n",
    "neighbors = [3,5,7]\n",
    "weight_sys = ['distance','uniform']\n",
    "parameters = {'n_neighbors': neighbors, 'weights': weight_sys}\n",
    "\n",
    "# Fit parameters using gridsearch\n",
    "clf = GridSearchCV(KNN, param_grid=parameters, cv=CF_no)\n",
    "\n",
    "#Fit the tunned model on the training set\n",
    "clf.fit(train_x,train_y)\n",
    "\n",
    "# Print the best hyperparameters set\n",
    "print(\"Best Hyper Parameters:\", clf.best_params_)\n",
    "\n",
    "#Initialize the model on test dataset\n",
    "clf.fit(test_x, test_y)\n",
    "\n",
    "# Predict on test dataset\n",
    "y_pred = clf.predict(test_x)\n",
    "\n",
    "# Check the prediction power of the model\n",
    "pred_y = np.array(clf.predict(test_x))\n",
    "true_y = np.array(test_y)\n",
    "\n",
    "#Print the time required to fit and evaluate the model\n",
    "print(\"--- %s seconds ---\" % round((time.time() - start_time)))"
   ]
  },
  {
   "cell_type": "code",
   "execution_count": 217,
   "metadata": {},
   "outputs": [
    {
     "name": "stdout",
     "output_type": "stream",
     "text": [
      "Confusion matrix, without normalization\n",
      "[[5037    0]\n",
      " [   0 4963]]\n"
     ]
    },
    {
     "data": {
      "image/png": "[encoded data removed]",
      "text/plain": [
       "<Figure size 432x288 with 2 Axes>"
      ]
     },
     "metadata": {},
     "output_type": "display_data"
    }
   ],
   "source": [
    "class_names = ['No Fraud', 'Fraud']\n",
    "np.set_printoptions(precision=2)\n",
    "\n",
    "cnf_matrix = confusion_matrix(true_y, pred_y)\n",
    "plt.figure()\n",
    "plot_confusion_matrix(cnf_matrix, classes=class_names, \n",
    "                      title='Confusion matrix')\n",
    "plt.show()"
   ]
  },
  {
   "cell_type": "code",
   "execution_count": 218,
   "metadata": {},
   "outputs": [
    {
     "name": "stdout",
     "output_type": "stream",
     "text": [
      "True Positives (TP): We correctly predicted the fraud: 4963. \n",
      "True Negatives (TN): we correctly predicted that no fraud: 5037. \n",
      "False Positives (FP): we incorrectly predicted that it is a fraud or Type I error: 0. \n",
      "False Negatives (FN): we incorrectly predicted that it is not a fraud or Type II error: 0. \n",
      "===================================================\n",
      "Overall, how often is the classifier correct (accuracy)? 1.0. \n",
      "Overall, how often is the classifier incorrect? 0.0. \n",
      "When the actual value is positive, how often is the prediction correct (sensitivity or recall)? 1.0.\n",
      "When the actual value is negative, how often is the prediction correct (specificity)? 1.0.\n",
      "When the actual value is negative, how often is the prediction incorrect (false positive rate)? 0.0.\n",
      "When a positive value is predicted, how often is the prediction correct (precision)? 1.0.\n"
     ]
    }
   ],
   "source": [
    "# Metrics computed from a confusion matrix\n",
    "\n",
    "#cnf_matrix_metrics = metrics.confusion_matrix(test_y, pred_y)\n",
    "#[row, column]\n",
    "TP = cnf_matrix[1, 1]\n",
    "TN = cnf_matrix[0, 0]\n",
    "FP = cnf_matrix[0, 1]\n",
    "FN = cnf_matrix[1, 0]\n",
    "\n",
    "# Classification Accuracy: Overall, how often is the classifier correct?\n",
    "# use float to perform true division, not integer division\n",
    "\n",
    "print(\"True Positives (TP): We correctly predicted the fraud: {}. \".format(TP))\n",
    "print(\"True Negatives (TN): we correctly predicted that no fraud: {}. \".format(TN))\n",
    "print(\"False Positives (FP): we incorrectly predicted that it is a fraud or Type I error: {}. \".format(FP))\n",
    "print(\"False Negatives (FN): we incorrectly predicted that it is not a fraud or Type II error: {}. \".format(FN))\n",
    "\n",
    "print(\"===================================================\")\n",
    "\n",
    "# Classification Accuracy: Overall, how often is the classifier correct?\n",
    "print(\"Overall, how often is the classifier correct (accuracy)? {}. \".format((TP + TN) / float(TP + TN + FP + FN)))      \n",
    "print(\"Overall, how often is the classifier incorrect? {}. \".format((FP + FN) / float(TP + TN + FP + FN))) \n",
    "print(\"When the actual value is positive, how often is the prediction correct (sensitivity or recall)? {}.\".format(TP / float(FN + TP))) \n",
    "print(\"When the actual value is negative, how often is the prediction correct (specificity)? {}.\".format(TN / (TN + FP))) \n",
    "print(\"When the actual value is negative, how often is the prediction incorrect (false positive rate)? {}.\".format(FP / float(TN + FP))) \n",
    "print(\"When a positive value is predicted, how often is the prediction correct (precision)? {}.\".format(TP / float(TP + FP))) "
   ]
  },
  {
   "cell_type": "code",
   "execution_count": 219,
   "metadata": {},
   "outputs": [],
   "source": [
    "# Which metrics should you focus on?\n",
    "# This is the case of fraud detection therefore we should optimize for sensitivity or recall:\n",
    "# FN is in this case more important as false positives (normal transactions that are marked as possible fraud\n",
    "# are more acceptable than false negatives where actual fraud has happened and we fail to detect"
   ]
  },
  {
   "cell_type": "code",
   "execution_count": null,
   "metadata": {},
   "outputs": [],
   "source": []
  },
  {
   "cell_type": "markdown",
   "metadata": {},
   "source": [
    "## Support Vector Machine"
   ]
  },
  {
   "cell_type": "code",
   "execution_count": 221,
   "metadata": {},
   "outputs": [
    {
     "name": "stdout",
     "output_type": "stream",
     "text": [
      "--- 16 seconds ---\n"
     ]
    }
   ],
   "source": [
    "# Because of high cost of computation cost we do not tune the parameters here\n",
    "# Otherwise here are the code in case we can afford it\n",
    "## parameters = {'kernel':('linear', 'rbf'), 'C':[1, 10]}\n",
    "## Fit parameters using gridsearch\n",
    "## svc_tuned = GridSearchCV(svc, parameters, cv=CF_no)\n",
    "\n",
    "#Start the timer as a measure of the computing effort\n",
    "start_time = time.time()\n",
    "\n",
    "# # Initialize and fit the model\n",
    "svm = SVC(kernel = 'linear')\n",
    "svm.fit(train_x, train_y)\n",
    "\n",
    "# Predict on test dataset\n",
    "y_pred = svm.predict(test_x)\n",
    "\n",
    "# Check the prediction power of the model\n",
    "pred_y = np.array(svm.predict(test_x))\n",
    "true_y = np.array(test_y)\n",
    "\n",
    "#Print the time required to fit and evaluate the model\n",
    "print(\"--- %s seconds ---\" % round((time.time() - start_time)))"
   ]
  },
  {
   "cell_type": "code",
   "execution_count": 222,
   "metadata": {},
   "outputs": [
    {
     "name": "stdout",
     "output_type": "stream",
     "text": [
      "Confusion matrix, without normalization\n",
      "[[4951   86]\n",
      " [ 444 4519]]\n"
     ]
    },
    {
     "data": {
      "image/png": "[encoded data removed]",
      "text/plain": [
       "<Figure size 432x288 with 2 Axes>"
      ]
     },
     "metadata": {},
     "output_type": "display_data"
    }
   ],
   "source": [
    "class_names = ['No Fraud', 'Fraud']\n",
    "np.set_printoptions(precision=2)\n",
    "\n",
    "cnf_matrix = confusion_matrix(true_y, pred_y)\n",
    "plt.figure()\n",
    "plot_confusion_matrix(cnf_matrix, classes=class_names, \n",
    "                      title='Confusion matrix')\n",
    "plt.show()"
   ]
  },
  {
   "cell_type": "code",
   "execution_count": 223,
   "metadata": {},
   "outputs": [
    {
     "name": "stdout",
     "output_type": "stream",
     "text": [
      "True Positives (TP): We correctly predicted the fraud: 4519. \n",
      "True Negatives (TN): we correctly predicted that no fraud: 4951. \n",
      "False Positives (FP): we incorrectly predicted that it is a fraud or Type I error: 86. \n",
      "False Negatives (FN): we incorrectly predicted that it is not a fraud or Type II error: 444. \n",
      "===================================================\n",
      "Overall, how often is the classifier correct (accuracy)? 0.947. \n",
      "Overall, how often is the classifier incorrect? 0.053. \n",
      "When the actual value is positive, how often is the prediction correct (sensitivity or recall)? 0.9105379810598428.\n",
      "When the actual value is negative, how often is the prediction correct (specificity)? 0.9829263450466548.\n",
      "When the actual value is negative, how often is the prediction incorrect (false positive rate)? 0.017073654953345244.\n",
      "When a positive value is predicted, how often is the prediction correct (precision)? 0.9813246471226927.\n"
     ]
    }
   ],
   "source": [
    "# Metrics computed from a confusion matrix\n",
    "\n",
    "#cnf_matrix_metrics = metrics.confusion_matrix(test_y, pred_y)\n",
    "#[row, column]\n",
    "TP = cnf_matrix[1, 1]\n",
    "TN = cnf_matrix[0, 0]\n",
    "FP = cnf_matrix[0, 1]\n",
    "FN = cnf_matrix[1, 0]\n",
    "\n",
    "# Classification Accuracy: Overall, how often is the classifier correct?\n",
    "# use float to perform true division, not integer division\n",
    "\n",
    "print(\"True Positives (TP): We correctly predicted the fraud: {}. \".format(TP))\n",
    "print(\"True Negatives (TN): we correctly predicted that no fraud: {}. \".format(TN))\n",
    "print(\"False Positives (FP): we incorrectly predicted that it is a fraud or Type I error: {}. \".format(FP))\n",
    "print(\"False Negatives (FN): we incorrectly predicted that it is not a fraud or Type II error: {}. \".format(FN))\n",
    "\n",
    "print(\"===================================================\")\n",
    "\n",
    "# Classification Accuracy: Overall, how often is the classifier correct?\n",
    "print(\"Overall, how often is the classifier correct (accuracy)? {}. \".format((TP + TN) / float(TP + TN + FP + FN)))      \n",
    "print(\"Overall, how often is the classifier incorrect? {}. \".format((FP + FN) / float(TP + TN + FP + FN))) \n",
    "print(\"When the actual value is positive, how often is the prediction correct (sensitivity or recall)? {}.\".format(TP / float(FN + TP))) \n",
    "print(\"When the actual value is negative, how often is the prediction correct (specificity)? {}.\".format(TN / (TN + FP))) \n",
    "print(\"When the actual value is negative, how often is the prediction incorrect (false positive rate)? {}.\".format(FP / float(TN + FP))) \n",
    "print(\"When a positive value is predicted, how often is the prediction correct (precision)? {}.\".format(TP / float(TP + FP))) "
   ]
  },
  {
   "cell_type": "markdown",
   "metadata": {},
   "source": [
    "## Gradient Boost"
   ]
  },
  {
   "cell_type": "code",
   "execution_count": 224,
   "metadata": {},
   "outputs": [
    {
     "name": "stdout",
     "output_type": "stream",
     "text": [
      "Accuracy: [0.9727991845991845]\n"
     ]
    }
   ],
   "source": [
    "# Here we collect the cross-validation average accuracy \n",
    "# for a number of estimators in the range (1, 20). \n",
    "# The loss function is the default one (multinomial negative log-likelihood):\n",
    "\n",
    "Gradient_score_mean = []\n",
    "max_estimators = 20\n",
    "for i in range(1, max_estimators):\n",
    "    score = cross_val_score(GradientBoostingClassifier(n_estimators=i, learning_rate=5.0/float(i)),\n",
    "                            test_x, test_y, cv=10, scoring='accuracy').mean()\n",
    "Gradient_score_mean.append(score)\n",
    "print(\"Accuracy: {}\".format(Gradient_score_mean))"
   ]
  },
  {
   "cell_type": "code",
   "execution_count": 225,
   "metadata": {},
   "outputs": [
    {
     "name": "stdout",
     "output_type": "stream",
     "text": [
      "--- 4 seconds ---\n"
     ]
    }
   ],
   "source": [
    "# Start the timer as a measure of the computing effort\n",
    "start_time = time.time()\n",
    "\n",
    "# We'll make 20 iterations, use 2-deep trees, and set our loss function.\n",
    "params = {'n_estimators': 20,\n",
    "          'max_depth': 2,\n",
    "          'loss': 'deviance'}\n",
    "\n",
    "# Initialize and fit the model.\n",
    "Gradeboost = ensemble.GradientBoostingClassifier(**params)\n",
    "Gradeboost.fit(train_x, train_y)\n",
    "\n",
    "# Predict on test dataset\n",
    "y_pred = clf.predict(test_x)\n",
    "\n",
    "# Check the prediction power of the model\n",
    "pred_y = np.array(clf.predict(test_x))\n",
    "true_y = np.array(test_y)\n",
    "\n",
    "#Print the time required to fit and evaluate the model\n",
    "print(\"--- %s seconds ---\" % round((time.time() - start_time)))"
   ]
  },
  {
   "cell_type": "code",
   "execution_count": 226,
   "metadata": {},
   "outputs": [
    {
     "name": "stdout",
     "output_type": "stream",
     "text": [
      "Confusion matrix, without normalization\n",
      "[[5037    0]\n",
      " [   0 4963]]\n"
     ]
    },
    {
     "data": {
      "image/png": "[encoded data removed]",
      "text/plain": [
       "<Figure size 432x288 with 2 Axes>"
      ]
     },
     "metadata": {},
     "output_type": "display_data"
    }
   ],
   "source": [
    "class_names = ['No Fraud', 'Fraud']\n",
    "np.set_printoptions(precision=2)\n",
    "\n",
    "cnf_matrix = confusion_matrix(true_y, pred_y)\n",
    "plt.figure()\n",
    "plot_confusion_matrix(cnf_matrix, classes=class_names, \n",
    "                      title='Confusion matrix')\n",
    "plt.show()"
   ]
  },
  {
   "cell_type": "code",
   "execution_count": 227,
   "metadata": {},
   "outputs": [
    {
     "name": "stdout",
     "output_type": "stream",
     "text": [
      "True Positives (TP): We correctly predicted the fraud: 4963. \n",
      "True Negatives (TN): we correctly predicted that no fraud: 5037. \n",
      "False Positives (FP): we incorrectly predicted that it is a fraud or Type I error: 0. \n",
      "False Negatives (FN): we incorrectly predicted that it is not a fraud or Type II error: 0. \n",
      "===================================================\n",
      "Overall, how often is the classifier correct (accuracy)? 1.0. \n",
      "Overall, how often is the classifier incorrect? 0.0. \n",
      "When the actual value is positive, how often is the prediction correct (sensitivity or recall)? 1.0.\n",
      "When the actual value is negative, how often is the prediction correct (specificity)? 1.0.\n",
      "When the actual value is negative, how often is the prediction incorrect (false positive rate)? 0.0.\n",
      "When a positive value is predicted, how often is the prediction correct (precision)? 1.0.\n"
     ]
    }
   ],
   "source": [
    "# Metrics computed from a confusion matrix\n",
    "\n",
    "#cnf_matrix_metrics = metrics.confusion_matrix(test_y, pred_y)\n",
    "#[row, column]\n",
    "TP = cnf_matrix[1, 1]\n",
    "TN = cnf_matrix[0, 0]\n",
    "FP = cnf_matrix[0, 1]\n",
    "FN = cnf_matrix[1, 0]\n",
    "\n",
    "# Classification Accuracy: Overall, how often is the classifier correct?\n",
    "# use float to perform true division, not integer division\n",
    "\n",
    "print(\"True Positives (TP): We correctly predicted the fraud: {}. \".format(TP))\n",
    "print(\"True Negatives (TN): we correctly predicted that no fraud: {}. \".format(TN))\n",
    "print(\"False Positives (FP): we incorrectly predicted that it is a fraud or Type I error: {}. \".format(FP))\n",
    "print(\"False Negatives (FN): we incorrectly predicted that it is not a fraud or Type II error: {}. \".format(FN))\n",
    "\n",
    "print(\"===================================================\")\n",
    "\n",
    "# Classification Accuracy: Overall, how often is the classifier correct?\n",
    "print(\"Overall, how often is the classifier correct (accuracy)? {}. \".format((TP + TN) / float(TP + TN + FP + FN)))      \n",
    "print(\"Overall, how often is the classifier incorrect? {}. \".format((FP + FN) / float(TP + TN + FP + FN))) \n",
    "print(\"When the actual value is positive, how often is the prediction correct (sensitivity or recall)? {}.\".format(TP / float(FN + TP))) \n",
    "print(\"When the actual value is negative, how often is the prediction correct (specificity)? {}.\".format(TN / (TN + FP))) \n",
    "print(\"When the actual value is negative, how often is the prediction incorrect (false positive rate)? {}.\".format(FP / float(TN + FP))) \n",
    "print(\"When a positive value is predicted, how often is the prediction correct (precision)? {}.\".format(TP / float(TP + FP))) "
   ]
  },
  {
   "cell_type": "markdown",
   "metadata": {},
   "source": [
    "The best models with 0% recalls are Random Forest, K Neighbohrs and Gradient Boosting. "
   ]
  },
  {
   "cell_type": "code",
   "execution_count": null,
   "metadata": {},
   "outputs": [],
   "source": []
  }
 ],
 "metadata": {
  "kernelspec": {
   "display_name": "Python 3",
   "language": "python",
   "name": "python3"
  },
  "language_info": {
   "codemirror_mode": {
    "name": "ipython",
    "version": 3
   },
   "file_extension": ".py",
   "mimetype": "text/x-python",
   "name": "python",
   "nbconvert_exporter": "python",
   "pygments_lexer": "ipython3",
   "version": "3.6.5"
  }
 },
 "nbformat": 4,
 "nbformat_minor": 2
}
