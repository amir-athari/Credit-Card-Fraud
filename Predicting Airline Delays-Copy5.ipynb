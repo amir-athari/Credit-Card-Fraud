{
 "cells": [
  {
   "cell_type": "markdown",
   "metadata": {},
   "source": [
    "# Predicting Airline Delays"
   ]
  },
  {
   "cell_type": "markdown",
   "metadata": {},
   "source": [
    "## Airline On-Time Statistics and Delay Causes\n",
    "### The U.S. Department of Transportation's (DOT) Bureau of Transportation Statistics (BTS) tracks the on-time performance of domestic flights operated by large air carriers. Summary information on the number of on-time, delayed, canceled and diverted flights appears in DOT's monthly Air Travel Consumer Report, published about 30 days after the month's end, as well as in summary tables posted on this website. BTS began collecting details on the causes of flight delays in June 2003. Summary statistics and raw data are made available to the public at the time the Air Travel Consumer Report is released.\n",
    "\n",
    "### Here we will look at 2003 data and see if can predict how late flights will be. For this analysis we assume a flight only counts as late if it is more than 30 minutes late."
   ]
  },
  {
   "cell_type": "markdown",
   "metadata": {},
   "source": [
    "### Source: http://stat-computing.org/dataexpo/2009/the-data.html"
   ]
  },
  {
   "cell_type": "markdown",
   "metadata": {},
   "source": [
    "<h7> Shahab Athari, leading Advisor for Control and Economic Analysis in Equinor.com located in Houston, Texas.</h7> "
   ]
  },
  {
   "cell_type": "code",
   "execution_count": 1,
   "metadata": {},
   "outputs": [
    {
     "name": "stderr",
     "output_type": "stream",
     "text": [
      "C:\\Users\\aath\\AppData\\Local\\Continuum\\anaconda3\\lib\\site-packages\\sklearn\\cross_validation.py:41: DeprecationWarning: This module was deprecated in version 0.18 in favor of the model_selection module into which all the refactored classes and functions are moved. Also note that the interface of the new CV iterators are different from that of this module. This module will be removed in 0.20.\n",
      "  \"This module will be removed in 0.20.\", DeprecationWarning)\n",
      "C:\\Users\\aath\\AppData\\Local\\Continuum\\anaconda3\\lib\\site-packages\\sklearn\\grid_search.py:42: DeprecationWarning: This module was deprecated in version 0.18 in favor of the model_selection module into which all the refactored classes and functions are moved. This module will be removed in 0.20.\n",
      "  DeprecationWarning)\n"
     ]
    }
   ],
   "source": [
    "#Import Python libraries that will be used in this model\n",
    "%matplotlib inline\n",
    "from IPython.display import Image\n",
    "from scipy.stats import randint as sp_randint\n",
    "from sklearn import ensemble\n",
    "from sklearn import linear_model\n",
    "from sklearn import metrics\n",
    "from sklearn import preprocessing, decomposition\n",
    "from sklearn.calibration import CalibratedClassifierCV\n",
    "from sklearn.decomposition import PCA\n",
    "from sklearn.decomposition import PCA as sklearn_pca\n",
    "from sklearn.ensemble import RandomForestClassifier, GradientBoostingClassifier\n",
    "from sklearn.feature_selection import RFE, SelectKBest\n",
    "#from sklearn.feature_selection import SelectKBest\n",
    "from sklearn.grid_search import RandomizedSearchCV\n",
    "from sklearn.linear_model import LogisticRegression\n",
    "from sklearn.linear_model.stochastic_gradient import SGDClassifier\n",
    "from sklearn.metrics import confusion_matrix, classification_report\n",
    "from sklearn.metrics import accuracy_score, precision_score, recall_score, precision_recall_curve\n",
    "from sklearn.metrics import brier_score_loss\n",
    "from sklearn.model_selection import cross_val_score\n",
    "from sklearn.model_selection import GridSearchCV\n",
    "from sklearn.model_selection import train_test_split,cross_val_score, KFold, cross_val_predict\n",
    "from sklearn.naive_bayes import BernoulliNB, GaussianNB\n",
    "from sklearn.neighbors import KNeighborsClassifier\n",
    "from sklearn.preprocessing import StandardScaler, RobustScaler\n",
    "from sklearn.svm import SVC\n",
    "from sklearn.tree import DecisionTreeClassifier\n",
    "from sklearn.utils import resample\n",
    "from scipy import stats\n",
    "import graphviz\n",
    "import matplotlib.pyplot as plt\n",
    "import numpy as np\n",
    "import pandas as pd\n",
    "import pydotplus\n",
    "import random\n",
    "import scipy\n",
    "import seaborn as sns \n",
    "import sklearn\n",
    "import sklearn.cross_validation \n",
    "import sklearn.tree\n",
    "import time\n",
    "import timeit\n",
    "import warnings \n",
    "warnings.simplefilter('ignore')\n",
    "sns.set(style=\"ticks\", color_codes=True)"
   ]
  },
  {
   "cell_type": "code",
   "execution_count": 2,
   "metadata": {},
   "outputs": [
    {
     "data": {
      "text/html": [
       "<div>\n",
       "<style scoped>\n",
       "    .dataframe tbody tr th:only-of-type {\n",
       "        vertical-align: middle;\n",
       "    }\n",
       "\n",
       "    .dataframe tbody tr th {\n",
       "        vertical-align: top;\n",
       "    }\n",
       "\n",
       "    .dataframe thead th {\n",
       "        text-align: right;\n",
       "    }\n",
       "</style>\n",
       "<table border=\"1\" class=\"dataframe\">\n",
       "  <thead>\n",
       "    <tr style=\"text-align: right;\">\n",
       "      <th></th>\n",
       "      <th>Year</th>\n",
       "      <th>Month</th>\n",
       "      <th>DayofMonth</th>\n",
       "      <th>DayOfWeek</th>\n",
       "      <th>DepTime</th>\n",
       "      <th>CRSDepTime</th>\n",
       "      <th>ArrTime</th>\n",
       "      <th>CRSArrTime</th>\n",
       "      <th>UniqueCarrier</th>\n",
       "      <th>FlightNum</th>\n",
       "      <th>...</th>\n",
       "      <th>TaxiIn</th>\n",
       "      <th>TaxiOut</th>\n",
       "      <th>Cancelled</th>\n",
       "      <th>CancellationCode</th>\n",
       "      <th>Diverted</th>\n",
       "      <th>CarrierDelay</th>\n",
       "      <th>WeatherDelay</th>\n",
       "      <th>NASDelay</th>\n",
       "      <th>SecurityDelay</th>\n",
       "      <th>LateAircraftDelay</th>\n",
       "    </tr>\n",
       "  </thead>\n",
       "  <tbody>\n",
       "    <tr>\n",
       "      <th>0</th>\n",
       "      <td>2008</td>\n",
       "      <td>1</td>\n",
       "      <td>3</td>\n",
       "      <td>4</td>\n",
       "      <td>1725.0</td>\n",
       "      <td>1620</td>\n",
       "      <td>1940.0</td>\n",
       "      <td>1850</td>\n",
       "      <td>WN</td>\n",
       "      <td>2803</td>\n",
       "      <td>...</td>\n",
       "      <td>4.0</td>\n",
       "      <td>15.0</td>\n",
       "      <td>0</td>\n",
       "      <td>NaN</td>\n",
       "      <td>0</td>\n",
       "      <td>50.0</td>\n",
       "      <td>0.0</td>\n",
       "      <td>0.0</td>\n",
       "      <td>0.0</td>\n",
       "      <td>0.0</td>\n",
       "    </tr>\n",
       "    <tr>\n",
       "      <th>1</th>\n",
       "      <td>2008</td>\n",
       "      <td>1</td>\n",
       "      <td>3</td>\n",
       "      <td>4</td>\n",
       "      <td>2047.0</td>\n",
       "      <td>2005</td>\n",
       "      <td>2209.0</td>\n",
       "      <td>2115</td>\n",
       "      <td>WN</td>\n",
       "      <td>2367</td>\n",
       "      <td>...</td>\n",
       "      <td>7.0</td>\n",
       "      <td>30.0</td>\n",
       "      <td>0</td>\n",
       "      <td>NaN</td>\n",
       "      <td>0</td>\n",
       "      <td>15.0</td>\n",
       "      <td>0.0</td>\n",
       "      <td>12.0</td>\n",
       "      <td>0.0</td>\n",
       "      <td>27.0</td>\n",
       "    </tr>\n",
       "    <tr>\n",
       "      <th>2</th>\n",
       "      <td>2008</td>\n",
       "      <td>1</td>\n",
       "      <td>3</td>\n",
       "      <td>4</td>\n",
       "      <td>1928.0</td>\n",
       "      <td>1855</td>\n",
       "      <td>2034.0</td>\n",
       "      <td>2015</td>\n",
       "      <td>WN</td>\n",
       "      <td>298</td>\n",
       "      <td>...</td>\n",
       "      <td>4.0</td>\n",
       "      <td>8.0</td>\n",
       "      <td>0</td>\n",
       "      <td>NaN</td>\n",
       "      <td>0</td>\n",
       "      <td>9.0</td>\n",
       "      <td>0.0</td>\n",
       "      <td>0.0</td>\n",
       "      <td>0.0</td>\n",
       "      <td>10.0</td>\n",
       "    </tr>\n",
       "    <tr>\n",
       "      <th>3</th>\n",
       "      <td>2008</td>\n",
       "      <td>1</td>\n",
       "      <td>3</td>\n",
       "      <td>4</td>\n",
       "      <td>922.0</td>\n",
       "      <td>855</td>\n",
       "      <td>1102.0</td>\n",
       "      <td>1000</td>\n",
       "      <td>WN</td>\n",
       "      <td>574</td>\n",
       "      <td>...</td>\n",
       "      <td>4.0</td>\n",
       "      <td>52.0</td>\n",
       "      <td>0</td>\n",
       "      <td>NaN</td>\n",
       "      <td>0</td>\n",
       "      <td>13.0</td>\n",
       "      <td>0.0</td>\n",
       "      <td>35.0</td>\n",
       "      <td>0.0</td>\n",
       "      <td>14.0</td>\n",
       "    </tr>\n",
       "    <tr>\n",
       "      <th>4</th>\n",
       "      <td>2008</td>\n",
       "      <td>1</td>\n",
       "      <td>3</td>\n",
       "      <td>4</td>\n",
       "      <td>1331.0</td>\n",
       "      <td>1245</td>\n",
       "      <td>1528.0</td>\n",
       "      <td>1455</td>\n",
       "      <td>WN</td>\n",
       "      <td>2284</td>\n",
       "      <td>...</td>\n",
       "      <td>5.0</td>\n",
       "      <td>11.0</td>\n",
       "      <td>0</td>\n",
       "      <td>NaN</td>\n",
       "      <td>0</td>\n",
       "      <td>4.0</td>\n",
       "      <td>0.0</td>\n",
       "      <td>0.0</td>\n",
       "      <td>0.0</td>\n",
       "      <td>29.0</td>\n",
       "    </tr>\n",
       "    <tr>\n",
       "      <th>5</th>\n",
       "      <td>2008</td>\n",
       "      <td>1</td>\n",
       "      <td>3</td>\n",
       "      <td>4</td>\n",
       "      <td>1544.0</td>\n",
       "      <td>1525</td>\n",
       "      <td>1744.0</td>\n",
       "      <td>1740</td>\n",
       "      <td>WN</td>\n",
       "      <td>1063</td>\n",
       "      <td>...</td>\n",
       "      <td>5.0</td>\n",
       "      <td>10.0</td>\n",
       "      <td>0</td>\n",
       "      <td>NaN</td>\n",
       "      <td>0</td>\n",
       "      <td>NaN</td>\n",
       "      <td>NaN</td>\n",
       "      <td>NaN</td>\n",
       "      <td>NaN</td>\n",
       "      <td>NaN</td>\n",
       "    </tr>\n",
       "    <tr>\n",
       "      <th>6</th>\n",
       "      <td>2008</td>\n",
       "      <td>1</td>\n",
       "      <td>3</td>\n",
       "      <td>4</td>\n",
       "      <td>1440.0</td>\n",
       "      <td>1425</td>\n",
       "      <td>1655.0</td>\n",
       "      <td>1635</td>\n",
       "      <td>WN</td>\n",
       "      <td>718</td>\n",
       "      <td>...</td>\n",
       "      <td>20.0</td>\n",
       "      <td>10.0</td>\n",
       "      <td>0</td>\n",
       "      <td>NaN</td>\n",
       "      <td>0</td>\n",
       "      <td>2.0</td>\n",
       "      <td>0.0</td>\n",
       "      <td>5.0</td>\n",
       "      <td>0.0</td>\n",
       "      <td>13.0</td>\n",
       "    </tr>\n",
       "    <tr>\n",
       "      <th>7</th>\n",
       "      <td>2008</td>\n",
       "      <td>1</td>\n",
       "      <td>3</td>\n",
       "      <td>4</td>\n",
       "      <td>2114.0</td>\n",
       "      <td>2025</td>\n",
       "      <td>2246.0</td>\n",
       "      <td>2155</td>\n",
       "      <td>WN</td>\n",
       "      <td>172</td>\n",
       "      <td>...</td>\n",
       "      <td>7.0</td>\n",
       "      <td>17.0</td>\n",
       "      <td>0</td>\n",
       "      <td>NaN</td>\n",
       "      <td>0</td>\n",
       "      <td>22.0</td>\n",
       "      <td>0.0</td>\n",
       "      <td>2.0</td>\n",
       "      <td>0.0</td>\n",
       "      <td>27.0</td>\n",
       "    </tr>\n",
       "    <tr>\n",
       "      <th>8</th>\n",
       "      <td>2008</td>\n",
       "      <td>1</td>\n",
       "      <td>3</td>\n",
       "      <td>4</td>\n",
       "      <td>2052.0</td>\n",
       "      <td>1930</td>\n",
       "      <td>2319.0</td>\n",
       "      <td>2200</td>\n",
       "      <td>WN</td>\n",
       "      <td>163</td>\n",
       "      <td>...</td>\n",
       "      <td>4.0</td>\n",
       "      <td>10.0</td>\n",
       "      <td>0</td>\n",
       "      <td>NaN</td>\n",
       "      <td>0</td>\n",
       "      <td>15.0</td>\n",
       "      <td>0.0</td>\n",
       "      <td>0.0</td>\n",
       "      <td>0.0</td>\n",
       "      <td>64.0</td>\n",
       "    </tr>\n",
       "    <tr>\n",
       "      <th>9</th>\n",
       "      <td>2008</td>\n",
       "      <td>1</td>\n",
       "      <td>3</td>\n",
       "      <td>4</td>\n",
       "      <td>1147.0</td>\n",
       "      <td>1145</td>\n",
       "      <td>1417.0</td>\n",
       "      <td>1425</td>\n",
       "      <td>WN</td>\n",
       "      <td>3067</td>\n",
       "      <td>...</td>\n",
       "      <td>8.0</td>\n",
       "      <td>7.0</td>\n",
       "      <td>0</td>\n",
       "      <td>NaN</td>\n",
       "      <td>0</td>\n",
       "      <td>NaN</td>\n",
       "      <td>NaN</td>\n",
       "      <td>NaN</td>\n",
       "      <td>NaN</td>\n",
       "      <td>NaN</td>\n",
       "    </tr>\n",
       "  </tbody>\n",
       "</table>\n",
       "<p>10 rows × 29 columns</p>\n",
       "</div>"
      ],
      "text/plain": [
       "   Year  Month  DayofMonth  DayOfWeek  DepTime  CRSDepTime  ArrTime  \\\n",
       "0  2008      1           3          4   1725.0        1620   1940.0   \n",
       "1  2008      1           3          4   2047.0        2005   2209.0   \n",
       "2  2008      1           3          4   1928.0        1855   2034.0   \n",
       "3  2008      1           3          4    922.0         855   1102.0   \n",
       "4  2008      1           3          4   1331.0        1245   1528.0   \n",
       "5  2008      1           3          4   1544.0        1525   1744.0   \n",
       "6  2008      1           3          4   1440.0        1425   1655.0   \n",
       "7  2008      1           3          4   2114.0        2025   2246.0   \n",
       "8  2008      1           3          4   2052.0        1930   2319.0   \n",
       "9  2008      1           3          4   1147.0        1145   1417.0   \n",
       "\n",
       "   CRSArrTime UniqueCarrier  FlightNum        ...         TaxiIn  TaxiOut  \\\n",
       "0        1850            WN       2803        ...            4.0     15.0   \n",
       "1        2115            WN       2367        ...            7.0     30.0   \n",
       "2        2015            WN        298        ...            4.0      8.0   \n",
       "3        1000            WN        574        ...            4.0     52.0   \n",
       "4        1455            WN       2284        ...            5.0     11.0   \n",
       "5        1740            WN       1063        ...            5.0     10.0   \n",
       "6        1635            WN        718        ...           20.0     10.0   \n",
       "7        2155            WN        172        ...            7.0     17.0   \n",
       "8        2200            WN        163        ...            4.0     10.0   \n",
       "9        1425            WN       3067        ...            8.0      7.0   \n",
       "\n",
       "   Cancelled  CancellationCode  Diverted  CarrierDelay WeatherDelay NASDelay  \\\n",
       "0          0               NaN         0          50.0          0.0      0.0   \n",
       "1          0               NaN         0          15.0          0.0     12.0   \n",
       "2          0               NaN         0           9.0          0.0      0.0   \n",
       "3          0               NaN         0          13.0          0.0     35.0   \n",
       "4          0               NaN         0           4.0          0.0      0.0   \n",
       "5          0               NaN         0           NaN          NaN      NaN   \n",
       "6          0               NaN         0           2.0          0.0      5.0   \n",
       "7          0               NaN         0          22.0          0.0      2.0   \n",
       "8          0               NaN         0          15.0          0.0      0.0   \n",
       "9          0               NaN         0           NaN          NaN      NaN   \n",
       "\n",
       "   SecurityDelay  LateAircraftDelay  \n",
       "0            0.0                0.0  \n",
       "1            0.0               27.0  \n",
       "2            0.0               10.0  \n",
       "3            0.0               14.0  \n",
       "4            0.0               29.0  \n",
       "5            NaN                NaN  \n",
       "6            0.0               13.0  \n",
       "7            0.0               27.0  \n",
       "8            0.0               64.0  \n",
       "9            NaN                NaN  \n",
       "\n",
       "[10 rows x 29 columns]"
      ]
     },
     "execution_count": 2,
     "metadata": {},
     "output_type": "execute_result"
    }
   ],
   "source": [
    "path1 = (\"C:/Users/aath/Dropbox/MAEN/DS/data/airline/2008.csv\")\n",
    "n = sum(1 for line in open(path1)) - 1 #number of records in file (excludes header)\n",
    "s = 100000 #desired sample size\n",
    "skip = sorted(random.sample(range(1,n+1),n-s)) #the 0-indexed header will not be included in the skip list\n",
    "raw = pd.read_csv(path1, skiprows=skip)\n",
    "raw.head(10)"
   ]
  },
  {
   "cell_type": "code",
   "execution_count": 3,
   "metadata": {},
   "outputs": [
    {
     "name": "stdout",
     "output_type": "stream",
     "text": [
      "Total rows of data: 7009728\n",
      "Dataframe dimensions: (100000, 29)\n"
     ]
    }
   ],
   "source": [
    "print('Total rows of data:', n)\n",
    "print('Dataframe dimensions:', raw.shape)"
   ]
  },
  {
   "cell_type": "code",
   "execution_count": 4,
   "metadata": {},
   "outputs": [],
   "source": [
    "df = raw.copy() # Copy into a new dataframe"
   ]
  },
  {
   "cell_type": "code",
   "execution_count": 5,
   "metadata": {},
   "outputs": [
    {
     "data": {
      "text/html": [
       "<div>\n",
       "<style scoped>\n",
       "    .dataframe tbody tr th:only-of-type {\n",
       "        vertical-align: middle;\n",
       "    }\n",
       "\n",
       "    .dataframe tbody tr th {\n",
       "        vertical-align: top;\n",
       "    }\n",
       "\n",
       "    .dataframe thead th {\n",
       "        text-align: right;\n",
       "    }\n",
       "</style>\n",
       "<table border=\"1\" class=\"dataframe\">\n",
       "  <thead>\n",
       "    <tr style=\"text-align: right;\">\n",
       "      <th></th>\n",
       "      <th>variable</th>\n",
       "      <th>missing values</th>\n",
       "      <th>filling factor (%)</th>\n",
       "    </tr>\n",
       "  </thead>\n",
       "  <tbody>\n",
       "    <tr>\n",
       "      <th>0</th>\n",
       "      <td>CancellationCode</td>\n",
       "      <td>98008</td>\n",
       "      <td>1.992</td>\n",
       "    </tr>\n",
       "    <tr>\n",
       "      <th>1</th>\n",
       "      <td>LateAircraftDelay</td>\n",
       "      <td>78233</td>\n",
       "      <td>21.767</td>\n",
       "    </tr>\n",
       "    <tr>\n",
       "      <th>2</th>\n",
       "      <td>NASDelay</td>\n",
       "      <td>78233</td>\n",
       "      <td>21.767</td>\n",
       "    </tr>\n",
       "    <tr>\n",
       "      <th>3</th>\n",
       "      <td>WeatherDelay</td>\n",
       "      <td>78233</td>\n",
       "      <td>21.767</td>\n",
       "    </tr>\n",
       "    <tr>\n",
       "      <th>4</th>\n",
       "      <td>CarrierDelay</td>\n",
       "      <td>78233</td>\n",
       "      <td>21.767</td>\n",
       "    </tr>\n",
       "    <tr>\n",
       "      <th>5</th>\n",
       "      <td>SecurityDelay</td>\n",
       "      <td>78233</td>\n",
       "      <td>21.767</td>\n",
       "    </tr>\n",
       "    <tr>\n",
       "      <th>6</th>\n",
       "      <td>AirTime</td>\n",
       "      <td>2232</td>\n",
       "      <td>97.768</td>\n",
       "    </tr>\n",
       "    <tr>\n",
       "      <th>7</th>\n",
       "      <td>ActualElapsedTime</td>\n",
       "      <td>2232</td>\n",
       "      <td>97.768</td>\n",
       "    </tr>\n",
       "    <tr>\n",
       "      <th>8</th>\n",
       "      <td>ArrDelay</td>\n",
       "      <td>2232</td>\n",
       "      <td>97.768</td>\n",
       "    </tr>\n",
       "    <tr>\n",
       "      <th>9</th>\n",
       "      <td>ArrTime</td>\n",
       "      <td>2190</td>\n",
       "      <td>97.810</td>\n",
       "    </tr>\n",
       "    <tr>\n",
       "      <th>10</th>\n",
       "      <td>TaxiIn</td>\n",
       "      <td>2190</td>\n",
       "      <td>97.810</td>\n",
       "    </tr>\n",
       "    <tr>\n",
       "      <th>11</th>\n",
       "      <td>TaxiOut</td>\n",
       "      <td>1987</td>\n",
       "      <td>98.013</td>\n",
       "    </tr>\n",
       "    <tr>\n",
       "      <th>12</th>\n",
       "      <td>DepDelay</td>\n",
       "      <td>1972</td>\n",
       "      <td>98.028</td>\n",
       "    </tr>\n",
       "    <tr>\n",
       "      <th>13</th>\n",
       "      <td>DepTime</td>\n",
       "      <td>1972</td>\n",
       "      <td>98.028</td>\n",
       "    </tr>\n",
       "    <tr>\n",
       "      <th>14</th>\n",
       "      <td>TailNum</td>\n",
       "      <td>1198</td>\n",
       "      <td>98.802</td>\n",
       "    </tr>\n",
       "    <tr>\n",
       "      <th>15</th>\n",
       "      <td>CRSElapsedTime</td>\n",
       "      <td>20</td>\n",
       "      <td>99.980</td>\n",
       "    </tr>\n",
       "    <tr>\n",
       "      <th>16</th>\n",
       "      <td>FlightNum</td>\n",
       "      <td>0</td>\n",
       "      <td>100.000</td>\n",
       "    </tr>\n",
       "    <tr>\n",
       "      <th>17</th>\n",
       "      <td>Month</td>\n",
       "      <td>0</td>\n",
       "      <td>100.000</td>\n",
       "    </tr>\n",
       "    <tr>\n",
       "      <th>18</th>\n",
       "      <td>DayofMonth</td>\n",
       "      <td>0</td>\n",
       "      <td>100.000</td>\n",
       "    </tr>\n",
       "    <tr>\n",
       "      <th>19</th>\n",
       "      <td>DayOfWeek</td>\n",
       "      <td>0</td>\n",
       "      <td>100.000</td>\n",
       "    </tr>\n",
       "  </tbody>\n",
       "</table>\n",
       "</div>"
      ],
      "text/plain": [
       "             variable  missing values  filling factor (%)\n",
       "0    CancellationCode           98008               1.992\n",
       "1   LateAircraftDelay           78233              21.767\n",
       "2            NASDelay           78233              21.767\n",
       "3        WeatherDelay           78233              21.767\n",
       "4        CarrierDelay           78233              21.767\n",
       "5       SecurityDelay           78233              21.767\n",
       "6             AirTime            2232              97.768\n",
       "7   ActualElapsedTime            2232              97.768\n",
       "8            ArrDelay            2232              97.768\n",
       "9             ArrTime            2190              97.810\n",
       "10             TaxiIn            2190              97.810\n",
       "11            TaxiOut            1987              98.013\n",
       "12           DepDelay            1972              98.028\n",
       "13            DepTime            1972              98.028\n",
       "14            TailNum            1198              98.802\n",
       "15     CRSElapsedTime              20              99.980\n",
       "16          FlightNum               0             100.000\n",
       "17              Month               0             100.000\n",
       "18         DayofMonth               0             100.000\n",
       "19          DayOfWeek               0             100.000"
      ]
     },
     "execution_count": 5,
     "metadata": {},
     "output_type": "execute_result"
    }
   ],
   "source": [
    "# Check the completness of the dataset\n",
    "null_df = df.isnull().sum(axis=0).reset_index()\n",
    "null_df.columns = ['variable', 'missing values']\n",
    "null_df['filling factor (%)']=(df.shape[0]-null_df['missing values'])/df.shape[0]*100\n",
    "null_df.sort_values('filling factor (%)').reset_index(drop = True).head(20)"
   ]
  },
  {
   "cell_type": "markdown",
   "metadata": {},
   "source": [
    "CancellationCode has the largest missing value and we will drop it here. Next five columns miss more than 80% of their values. And since all of these are related to delays we use columns mean values to fill the missing values."
   ]
  },
  {
   "cell_type": "code",
   "execution_count": 6,
   "metadata": {},
   "outputs": [],
   "source": [
    "df = df.drop(['CancellationCode'], axis = 1)\n",
    "df = df.reset_index(drop=True)\n",
    "df = df.fillna(df.mean())\n",
    "df = df.drop(['TailNum'], axis = 1)  # Remove TailNum column all together \n",
    "df = df.reset_index(drop=True)"
   ]
  },
  {
   "cell_type": "code",
   "execution_count": 7,
   "metadata": {},
   "outputs": [
    {
     "data": {
      "image/png": "[encoded data removed]",
      "text/plain": [
       "<Figure size 720x720 with 2 Axes>"
      ]
     },
     "metadata": {},
     "output_type": "display_data"
    }
   ],
   "source": [
    "# By using correlation matrix we can start identifying factors that can help to predict lateness  \n",
    "correlation_mat = df.corr()\n",
    "\n",
    "#Plot heatmap\n",
    "plt.figure(figsize=(10, 10))\n",
    "ax = sns.heatmap(correlation_mat)  # use this if want text added to each box annot=True\n",
    "plt.tight_layout()\n",
    "plt.show()"
   ]
  },
  {
   "cell_type": "code",
   "execution_count": 8,
   "metadata": {},
   "outputs": [],
   "source": [
    "#Drop Variables which do not have correlation with arrival delays/cannot be predicted until the flight\n",
    "df.drop(['Year', 'Month', 'DayofMonth', 'DayOfWeek', 'FlightNum',\n",
    "         'Cancelled', 'Diverted', 'SecurityDelay'],axis=1, inplace=True)\n",
    "df = df.reset_index(drop=True)"
   ]
  },
  {
   "cell_type": "code",
   "execution_count": 9,
   "metadata": {},
   "outputs": [
    {
     "data": {
      "text/plain": [
       "{dtype('int64'): Index(['CRSDepTime', 'CRSArrTime', 'Distance'], dtype='object'),\n",
       " dtype('float64'): Index(['DepTime', 'ArrTime', 'ActualElapsedTime', 'CRSElapsedTime', 'AirTime',\n",
       "        'ArrDelay', 'DepDelay', 'TaxiIn', 'TaxiOut', 'CarrierDelay',\n",
       "        'WeatherDelay', 'NASDelay', 'LateAircraftDelay'],\n",
       "       dtype='object'),\n",
       " dtype('O'): Index(['UniqueCarrier', 'Origin', 'Dest'], dtype='object')}"
      ]
     },
     "execution_count": 9,
     "metadata": {},
     "output_type": "execute_result"
    }
   ],
   "source": [
    "# Check the data type of each column by groupby\n",
    "df.columns.to_series().groupby(df.dtypes).groups"
   ]
  },
  {
   "cell_type": "code",
   "execution_count": 10,
   "metadata": {},
   "outputs": [
    {
     "data": {
      "image/png": "[encoded data removed]",
      "text/plain": [
       "<Figure size 720x720 with 2 Axes>"
      ]
     },
     "metadata": {},
     "output_type": "display_data"
    }
   ],
   "source": [
    "# Revisit the heatmap once more\n",
    "# By using correlation matrix we can start identifying factors that can help to predict lateness  \n",
    "correlation_mat = df.corr()\n",
    "\n",
    "#Plot heatmap\n",
    "plt.figure(figsize=(10, 10))\n",
    "ax = sns.heatmap(correlation_mat)  # use this if want text added to each box annot=True\n",
    "plt.tight_layout()\n",
    "plt.show()"
   ]
  },
  {
   "cell_type": "code",
   "execution_count": 11,
   "metadata": {},
   "outputs": [],
   "source": [
    "df[['CRSDepTime', 'CRSArrTime', 'CRSElapsedTime', \n",
    "    'Distance']] = df[['CRSDepTime', 'CRSArrTime', \n",
    "                       'CRSElapsedTime', 'Distance']].values.astype(float)"
   ]
  },
  {
   "cell_type": "code",
   "execution_count": 12,
   "metadata": {},
   "outputs": [
    {
     "data": {
      "text/html": [
       "<div>\n",
       "<style scoped>\n",
       "    .dataframe tbody tr th:only-of-type {\n",
       "        vertical-align: middle;\n",
       "    }\n",
       "\n",
       "    .dataframe tbody tr th {\n",
       "        vertical-align: top;\n",
       "    }\n",
       "\n",
       "    .dataframe thead tr th {\n",
       "        text-align: left;\n",
       "    }\n",
       "\n",
       "    .dataframe thead tr:last-of-type th {\n",
       "        text-align: right;\n",
       "    }\n",
       "</style>\n",
       "<table border=\"1\" class=\"dataframe\">\n",
       "  <thead>\n",
       "    <tr>\n",
       "      <th></th>\n",
       "      <th colspan=\"4\" halign=\"left\">ArrDelay</th>\n",
       "      <th colspan=\"3\" halign=\"left\">DepDelay</th>\n",
       "    </tr>\n",
       "    <tr>\n",
       "      <th></th>\n",
       "      <th>min</th>\n",
       "      <th>max</th>\n",
       "      <th>mean</th>\n",
       "      <th>count</th>\n",
       "      <th>min</th>\n",
       "      <th>max</th>\n",
       "      <th>mean</th>\n",
       "    </tr>\n",
       "    <tr>\n",
       "      <th>UniqueCarrier</th>\n",
       "      <th></th>\n",
       "      <th></th>\n",
       "      <th></th>\n",
       "      <th></th>\n",
       "      <th></th>\n",
       "      <th></th>\n",
       "      <th></th>\n",
       "    </tr>\n",
       "  </thead>\n",
       "  <tbody>\n",
       "    <tr>\n",
       "      <th>9E</th>\n",
       "      <td>-55</td>\n",
       "      <td>462</td>\n",
       "      <td>4</td>\n",
       "      <td>3791</td>\n",
       "      <td>-29</td>\n",
       "      <td>452</td>\n",
       "      <td>6</td>\n",
       "    </tr>\n",
       "    <tr>\n",
       "      <th>AA</th>\n",
       "      <td>-57</td>\n",
       "      <td>1088</td>\n",
       "      <td>12</td>\n",
       "      <td>8514</td>\n",
       "      <td>-19</td>\n",
       "      <td>1092</td>\n",
       "      <td>13</td>\n",
       "    </tr>\n",
       "    <tr>\n",
       "      <th>AQ</th>\n",
       "      <td>-40</td>\n",
       "      <td>64</td>\n",
       "      <td>-3</td>\n",
       "      <td>122</td>\n",
       "      <td>-18</td>\n",
       "      <td>58</td>\n",
       "      <td>-2</td>\n",
       "    </tr>\n",
       "    <tr>\n",
       "      <th>AS</th>\n",
       "      <td>-47</td>\n",
       "      <td>301</td>\n",
       "      <td>4</td>\n",
       "      <td>2172</td>\n",
       "      <td>-33</td>\n",
       "      <td>291</td>\n",
       "      <td>6</td>\n",
       "    </tr>\n",
       "    <tr>\n",
       "      <th>B6</th>\n",
       "      <td>-55</td>\n",
       "      <td>626</td>\n",
       "      <td>11</td>\n",
       "      <td>2801</td>\n",
       "      <td>-23</td>\n",
       "      <td>629</td>\n",
       "      <td>12</td>\n",
       "    </tr>\n",
       "    <tr>\n",
       "      <th>CO</th>\n",
       "      <td>-49</td>\n",
       "      <td>666</td>\n",
       "      <td>11</td>\n",
       "      <td>4278</td>\n",
       "      <td>-25</td>\n",
       "      <td>685</td>\n",
       "      <td>13</td>\n",
       "    </tr>\n",
       "    <tr>\n",
       "      <th>DL</th>\n",
       "      <td>-53</td>\n",
       "      <td>337</td>\n",
       "      <td>7</td>\n",
       "      <td>6374</td>\n",
       "      <td>-21</td>\n",
       "      <td>340</td>\n",
       "      <td>7</td>\n",
       "    </tr>\n",
       "    <tr>\n",
       "      <th>EV</th>\n",
       "      <td>-41</td>\n",
       "      <td>657</td>\n",
       "      <td>10</td>\n",
       "      <td>4073</td>\n",
       "      <td>-35</td>\n",
       "      <td>650</td>\n",
       "      <td>12</td>\n",
       "    </tr>\n",
       "    <tr>\n",
       "      <th>F9</th>\n",
       "      <td>-51</td>\n",
       "      <td>484</td>\n",
       "      <td>6</td>\n",
       "      <td>1385</td>\n",
       "      <td>-15</td>\n",
       "      <td>482</td>\n",
       "      <td>6</td>\n",
       "    </tr>\n",
       "    <tr>\n",
       "      <th>FL</th>\n",
       "      <td>-48</td>\n",
       "      <td>362</td>\n",
       "      <td>9</td>\n",
       "      <td>3769</td>\n",
       "      <td>-34</td>\n",
       "      <td>370</td>\n",
       "      <td>9</td>\n",
       "    </tr>\n",
       "    <tr>\n",
       "      <th>HA</th>\n",
       "      <td>-43</td>\n",
       "      <td>309</td>\n",
       "      <td>0</td>\n",
       "      <td>875</td>\n",
       "      <td>-27</td>\n",
       "      <td>295</td>\n",
       "      <td>0</td>\n",
       "    </tr>\n",
       "    <tr>\n",
       "      <th>MQ</th>\n",
       "      <td>-56</td>\n",
       "      <td>898</td>\n",
       "      <td>9</td>\n",
       "      <td>7076</td>\n",
       "      <td>-25</td>\n",
       "      <td>892</td>\n",
       "      <td>10</td>\n",
       "    </tr>\n",
       "    <tr>\n",
       "      <th>NW</th>\n",
       "      <td>-43</td>\n",
       "      <td>2453</td>\n",
       "      <td>7</td>\n",
       "      <td>4842</td>\n",
       "      <td>-22</td>\n",
       "      <td>2467</td>\n",
       "      <td>6</td>\n",
       "    </tr>\n",
       "    <tr>\n",
       "      <th>OH</th>\n",
       "      <td>-58</td>\n",
       "      <td>471</td>\n",
       "      <td>12</td>\n",
       "      <td>2795</td>\n",
       "      <td>-25</td>\n",
       "      <td>410</td>\n",
       "      <td>11</td>\n",
       "    </tr>\n",
       "    <tr>\n",
       "      <th>OO</th>\n",
       "      <td>-43</td>\n",
       "      <td>701</td>\n",
       "      <td>6</td>\n",
       "      <td>8124</td>\n",
       "      <td>-33</td>\n",
       "      <td>697</td>\n",
       "      <td>7</td>\n",
       "    </tr>\n",
       "    <tr>\n",
       "      <th>UA</th>\n",
       "      <td>-58</td>\n",
       "      <td>759</td>\n",
       "      <td>12</td>\n",
       "      <td>6386</td>\n",
       "      <td>-18</td>\n",
       "      <td>758</td>\n",
       "      <td>15</td>\n",
       "    </tr>\n",
       "    <tr>\n",
       "      <th>US</th>\n",
       "      <td>-47</td>\n",
       "      <td>876</td>\n",
       "      <td>3</td>\n",
       "      <td>6359</td>\n",
       "      <td>-21</td>\n",
       "      <td>886</td>\n",
       "      <td>6</td>\n",
       "    </tr>\n",
       "    <tr>\n",
       "      <th>WN</th>\n",
       "      <td>-53</td>\n",
       "      <td>602</td>\n",
       "      <td>5</td>\n",
       "      <td>17335</td>\n",
       "      <td>-13</td>\n",
       "      <td>620</td>\n",
       "      <td>10</td>\n",
       "    </tr>\n",
       "    <tr>\n",
       "      <th>XE</th>\n",
       "      <td>-59</td>\n",
       "      <td>439</td>\n",
       "      <td>9</td>\n",
       "      <td>5298</td>\n",
       "      <td>-18</td>\n",
       "      <td>472</td>\n",
       "      <td>10</td>\n",
       "    </tr>\n",
       "    <tr>\n",
       "      <th>YV</th>\n",
       "      <td>-44</td>\n",
       "      <td>433</td>\n",
       "      <td>12</td>\n",
       "      <td>3631</td>\n",
       "      <td>-45</td>\n",
       "      <td>435</td>\n",
       "      <td>12</td>\n",
       "    </tr>\n",
       "  </tbody>\n",
       "</table>\n",
       "</div>"
      ],
      "text/plain": [
       "              ArrDelay                   DepDelay           \n",
       "                   min   max mean  count      min   max mean\n",
       "UniqueCarrier                                               \n",
       "9E                 -55   462    4   3791      -29   452    6\n",
       "AA                 -57  1088   12   8514      -19  1092   13\n",
       "AQ                 -40    64   -3    122      -18    58   -2\n",
       "AS                 -47   301    4   2172      -33   291    6\n",
       "B6                 -55   626   11   2801      -23   629   12\n",
       "CO                 -49   666   11   4278      -25   685   13\n",
       "DL                 -53   337    7   6374      -21   340    7\n",
       "EV                 -41   657   10   4073      -35   650   12\n",
       "F9                 -51   484    6   1385      -15   482    6\n",
       "FL                 -48   362    9   3769      -34   370    9\n",
       "HA                 -43   309    0    875      -27   295    0\n",
       "MQ                 -56   898    9   7076      -25   892   10\n",
       "NW                 -43  2453    7   4842      -22  2467    6\n",
       "OH                 -58   471   12   2795      -25   410   11\n",
       "OO                 -43   701    6   8124      -33   697    7\n",
       "UA                 -58   759   12   6386      -18   758   15\n",
       "US                 -47   876    3   6359      -21   886    6\n",
       "WN                 -53   602    5  17335      -13   620   10\n",
       "XE                 -59   439    9   5298      -18   472   10\n",
       "YV                 -44   433   12   3631      -45   435   12"
      ]
     },
     "execution_count": 12,
     "metadata": {},
     "output_type": "execute_result"
    }
   ],
   "source": [
    "# Group and aggreate delay values for airlines. \n",
    "df.groupby(['UniqueCarrier'])\\\n",
    "                      .agg({'ArrDelay':['min', 'max', 'mean', 'count'],\n",
    "                            'DepDelay':['min', 'max', 'mean']}).astype(int)"
   ]
  },
  {
   "cell_type": "code",
   "execution_count": 13,
   "metadata": {},
   "outputs": [
    {
     "data": {
      "text/html": [
       "<div>\n",
       "<style scoped>\n",
       "    .dataframe tbody tr th:only-of-type {\n",
       "        vertical-align: middle;\n",
       "    }\n",
       "\n",
       "    .dataframe tbody tr th {\n",
       "        vertical-align: top;\n",
       "    }\n",
       "\n",
       "    .dataframe thead tr th {\n",
       "        text-align: left;\n",
       "    }\n",
       "\n",
       "    .dataframe thead tr:last-of-type th {\n",
       "        text-align: right;\n",
       "    }\n",
       "</style>\n",
       "<table border=\"1\" class=\"dataframe\">\n",
       "  <thead>\n",
       "    <tr>\n",
       "      <th></th>\n",
       "      <th colspan=\"4\" halign=\"left\">ArrDelay</th>\n",
       "      <th colspan=\"3\" halign=\"left\">DepDelay</th>\n",
       "    </tr>\n",
       "    <tr>\n",
       "      <th></th>\n",
       "      <th>min</th>\n",
       "      <th>max</th>\n",
       "      <th>mean</th>\n",
       "      <th>count</th>\n",
       "      <th>min</th>\n",
       "      <th>max</th>\n",
       "      <th>mean</th>\n",
       "    </tr>\n",
       "    <tr>\n",
       "      <th>Origin</th>\n",
       "      <th></th>\n",
       "      <th></th>\n",
       "      <th></th>\n",
       "      <th></th>\n",
       "      <th></th>\n",
       "      <th></th>\n",
       "      <th></th>\n",
       "    </tr>\n",
       "  </thead>\n",
       "  <tbody>\n",
       "    <tr>\n",
       "      <th>ABE</th>\n",
       "      <td>-29.0</td>\n",
       "      <td>187.000000</td>\n",
       "      <td>6.906019</td>\n",
       "      <td>74</td>\n",
       "      <td>-15.0</td>\n",
       "      <td>200.00000</td>\n",
       "      <td>6.613247</td>\n",
       "    </tr>\n",
       "    <tr>\n",
       "      <th>ABI</th>\n",
       "      <td>-20.0</td>\n",
       "      <td>541.000000</td>\n",
       "      <td>12.838528</td>\n",
       "      <td>35</td>\n",
       "      <td>-12.0</td>\n",
       "      <td>539.00000</td>\n",
       "      <td>16.346479</td>\n",
       "    </tr>\n",
       "    <tr>\n",
       "      <th>ABQ</th>\n",
       "      <td>-30.0</td>\n",
       "      <td>357.000000</td>\n",
       "      <td>2.337182</td>\n",
       "      <td>559</td>\n",
       "      <td>-14.0</td>\n",
       "      <td>360.00000</td>\n",
       "      <td>5.438534</td>\n",
       "    </tr>\n",
       "    <tr>\n",
       "      <th>ABY</th>\n",
       "      <td>-24.0</td>\n",
       "      <td>71.000000</td>\n",
       "      <td>1.000000</td>\n",
       "      <td>16</td>\n",
       "      <td>-10.0</td>\n",
       "      <td>67.00000</td>\n",
       "      <td>1.062500</td>\n",
       "    </tr>\n",
       "    <tr>\n",
       "      <th>ACK</th>\n",
       "      <td>-16.0</td>\n",
       "      <td>8.348478</td>\n",
       "      <td>-5.930304</td>\n",
       "      <td>5</td>\n",
       "      <td>-5.0</td>\n",
       "      <td>10.12675</td>\n",
       "      <td>4.225350</td>\n",
       "    </tr>\n",
       "    <tr>\n",
       "      <th>ACT</th>\n",
       "      <td>-17.0</td>\n",
       "      <td>12.000000</td>\n",
       "      <td>-5.156250</td>\n",
       "      <td>32</td>\n",
       "      <td>-8.0</td>\n",
       "      <td>15.00000</td>\n",
       "      <td>-1.218750</td>\n",
       "    </tr>\n",
       "    <tr>\n",
       "      <th>ACV</th>\n",
       "      <td>-24.0</td>\n",
       "      <td>192.000000</td>\n",
       "      <td>18.053375</td>\n",
       "      <td>44</td>\n",
       "      <td>-19.0</td>\n",
       "      <td>163.00000</td>\n",
       "      <td>13.821062</td>\n",
       "    </tr>\n",
       "    <tr>\n",
       "      <th>ACY</th>\n",
       "      <td>-4.0</td>\n",
       "      <td>-4.000000</td>\n",
       "      <td>-4.000000</td>\n",
       "      <td>1</td>\n",
       "      <td>5.0</td>\n",
       "      <td>5.00000</td>\n",
       "      <td>5.000000</td>\n",
       "    </tr>\n",
       "    <tr>\n",
       "      <th>ADK</th>\n",
       "      <td>-39.0</td>\n",
       "      <td>-27.000000</td>\n",
       "      <td>-33.000000</td>\n",
       "      <td>2</td>\n",
       "      <td>-33.0</td>\n",
       "      <td>-19.00000</td>\n",
       "      <td>-26.000000</td>\n",
       "    </tr>\n",
       "    <tr>\n",
       "      <th>ADQ</th>\n",
       "      <td>-21.0</td>\n",
       "      <td>57.000000</td>\n",
       "      <td>6.625000</td>\n",
       "      <td>8</td>\n",
       "      <td>-16.0</td>\n",
       "      <td>54.00000</td>\n",
       "      <td>9.750000</td>\n",
       "    </tr>\n",
       "    <tr>\n",
       "      <th>AEX</th>\n",
       "      <td>-21.0</td>\n",
       "      <td>237.000000</td>\n",
       "      <td>12.483871</td>\n",
       "      <td>31</td>\n",
       "      <td>-11.0</td>\n",
       "      <td>183.00000</td>\n",
       "      <td>10.354839</td>\n",
       "    </tr>\n",
       "    <tr>\n",
       "      <th>AGS</th>\n",
       "      <td>-27.0</td>\n",
       "      <td>42.000000</td>\n",
       "      <td>-3.105263</td>\n",
       "      <td>38</td>\n",
       "      <td>-10.0</td>\n",
       "      <td>39.00000</td>\n",
       "      <td>0.157895</td>\n",
       "    </tr>\n",
       "    <tr>\n",
       "      <th>AKN</th>\n",
       "      <td>8.0</td>\n",
       "      <td>14.000000</td>\n",
       "      <td>11.000000</td>\n",
       "      <td>2</td>\n",
       "      <td>8.0</td>\n",
       "      <td>13.00000</td>\n",
       "      <td>10.500000</td>\n",
       "    </tr>\n",
       "    <tr>\n",
       "      <th>ALB</th>\n",
       "      <td>-41.0</td>\n",
       "      <td>213.000000</td>\n",
       "      <td>5.008756</td>\n",
       "      <td>199</td>\n",
       "      <td>-16.0</td>\n",
       "      <td>182.00000</td>\n",
       "      <td>6.927808</td>\n",
       "    </tr>\n",
       "    <tr>\n",
       "      <th>ALO</th>\n",
       "      <td>-4.0</td>\n",
       "      <td>150.000000</td>\n",
       "      <td>38.837120</td>\n",
       "      <td>4</td>\n",
       "      <td>-7.0</td>\n",
       "      <td>132.00000</td>\n",
       "      <td>32.781687</td>\n",
       "    </tr>\n",
       "    <tr>\n",
       "      <th>AMA</th>\n",
       "      <td>-19.0</td>\n",
       "      <td>292.000000</td>\n",
       "      <td>5.875406</td>\n",
       "      <td>112</td>\n",
       "      <td>-10.0</td>\n",
       "      <td>236.00000</td>\n",
       "      <td>7.082621</td>\n",
       "    </tr>\n",
       "    <tr>\n",
       "      <th>ANC</th>\n",
       "      <td>-47.0</td>\n",
       "      <td>372.000000</td>\n",
       "      <td>2.843077</td>\n",
       "      <td>297</td>\n",
       "      <td>-16.0</td>\n",
       "      <td>377.00000</td>\n",
       "      <td>5.488642</td>\n",
       "    </tr>\n",
       "    <tr>\n",
       "      <th>ASE</th>\n",
       "      <td>-22.0</td>\n",
       "      <td>174.000000</td>\n",
       "      <td>10.296037</td>\n",
       "      <td>78</td>\n",
       "      <td>-14.0</td>\n",
       "      <td>168.00000</td>\n",
       "      <td>10.727699</td>\n",
       "    </tr>\n",
       "    <tr>\n",
       "      <th>ATL</th>\n",
       "      <td>-42.0</td>\n",
       "      <td>362.000000</td>\n",
       "      <td>10.428847</td>\n",
       "      <td>5952</td>\n",
       "      <td>-34.0</td>\n",
       "      <td>370.00000</td>\n",
       "      <td>11.399470</td>\n",
       "    </tr>\n",
       "    <tr>\n",
       "      <th>ATW</th>\n",
       "      <td>-24.0</td>\n",
       "      <td>203.000000</td>\n",
       "      <td>7.591732</td>\n",
       "      <td>92</td>\n",
       "      <td>-15.0</td>\n",
       "      <td>200.00000</td>\n",
       "      <td>7.574861</td>\n",
       "    </tr>\n",
       "    <tr>\n",
       "      <th>AUS</th>\n",
       "      <td>-37.0</td>\n",
       "      <td>210.000000</td>\n",
       "      <td>5.702466</td>\n",
       "      <td>703</td>\n",
       "      <td>-12.0</td>\n",
       "      <td>216.00000</td>\n",
       "      <td>6.823994</td>\n",
       "    </tr>\n",
       "    <tr>\n",
       "      <th>AVL</th>\n",
       "      <td>-32.0</td>\n",
       "      <td>223.000000</td>\n",
       "      <td>-2.226768</td>\n",
       "      <td>60</td>\n",
       "      <td>-14.0</td>\n",
       "      <td>210.00000</td>\n",
       "      <td>2.939671</td>\n",
       "    </tr>\n",
       "    <tr>\n",
       "      <th>AVP</th>\n",
       "      <td>-28.0</td>\n",
       "      <td>212.000000</td>\n",
       "      <td>13.618256</td>\n",
       "      <td>41</td>\n",
       "      <td>-10.0</td>\n",
       "      <td>201.00000</td>\n",
       "      <td>16.320165</td>\n",
       "    </tr>\n",
       "    <tr>\n",
       "      <th>AZO</th>\n",
       "      <td>-26.0</td>\n",
       "      <td>244.000000</td>\n",
       "      <td>2.000000</td>\n",
       "      <td>60</td>\n",
       "      <td>-14.0</td>\n",
       "      <td>233.00000</td>\n",
       "      <td>2.716667</td>\n",
       "    </tr>\n",
       "    <tr>\n",
       "      <th>BDL</th>\n",
       "      <td>-47.0</td>\n",
       "      <td>373.000000</td>\n",
       "      <td>7.624856</td>\n",
       "      <td>420</td>\n",
       "      <td>-13.0</td>\n",
       "      <td>366.00000</td>\n",
       "      <td>10.099732</td>\n",
       "    </tr>\n",
       "    <tr>\n",
       "      <th>BET</th>\n",
       "      <td>-19.0</td>\n",
       "      <td>90.000000</td>\n",
       "      <td>8.923077</td>\n",
       "      <td>13</td>\n",
       "      <td>-16.0</td>\n",
       "      <td>89.00000</td>\n",
       "      <td>9.846154</td>\n",
       "    </tr>\n",
       "    <tr>\n",
       "      <th>BFL</th>\n",
       "      <td>-33.0</td>\n",
       "      <td>32.000000</td>\n",
       "      <td>-5.020833</td>\n",
       "      <td>48</td>\n",
       "      <td>-12.0</td>\n",
       "      <td>23.00000</td>\n",
       "      <td>-3.562500</td>\n",
       "    </tr>\n",
       "    <tr>\n",
       "      <th>BGM</th>\n",
       "      <td>-20.0</td>\n",
       "      <td>19.000000</td>\n",
       "      <td>-4.865152</td>\n",
       "      <td>10</td>\n",
       "      <td>-8.0</td>\n",
       "      <td>31.00000</td>\n",
       "      <td>0.012675</td>\n",
       "    </tr>\n",
       "    <tr>\n",
       "      <th>BGR</th>\n",
       "      <td>-24.0</td>\n",
       "      <td>271.000000</td>\n",
       "      <td>26.341077</td>\n",
       "      <td>45</td>\n",
       "      <td>-29.0</td>\n",
       "      <td>195.00000</td>\n",
       "      <td>22.247261</td>\n",
       "    </tr>\n",
       "    <tr>\n",
       "      <th>BHM</th>\n",
       "      <td>-33.0</td>\n",
       "      <td>170.000000</td>\n",
       "      <td>5.112130</td>\n",
       "      <td>337</td>\n",
       "      <td>-29.0</td>\n",
       "      <td>166.00000</td>\n",
       "      <td>6.326451</td>\n",
       "    </tr>\n",
       "    <tr>\n",
       "      <th>...</th>\n",
       "      <td>...</td>\n",
       "      <td>...</td>\n",
       "      <td>...</td>\n",
       "      <td>...</td>\n",
       "      <td>...</td>\n",
       "      <td>...</td>\n",
       "      <td>...</td>\n",
       "    </tr>\n",
       "    <tr>\n",
       "      <th>SPI</th>\n",
       "      <td>-27.0</td>\n",
       "      <td>224.000000</td>\n",
       "      <td>25.000000</td>\n",
       "      <td>11</td>\n",
       "      <td>-16.0</td>\n",
       "      <td>224.00000</td>\n",
       "      <td>27.454545</td>\n",
       "    </tr>\n",
       "    <tr>\n",
       "      <th>SPS</th>\n",
       "      <td>-25.0</td>\n",
       "      <td>152.000000</td>\n",
       "      <td>8.936480</td>\n",
       "      <td>26</td>\n",
       "      <td>-9.0</td>\n",
       "      <td>149.00000</td>\n",
       "      <td>12.543337</td>\n",
       "    </tr>\n",
       "    <tr>\n",
       "      <th>SRQ</th>\n",
       "      <td>-30.0</td>\n",
       "      <td>234.000000</td>\n",
       "      <td>12.079208</td>\n",
       "      <td>101</td>\n",
       "      <td>-13.0</td>\n",
       "      <td>248.00000</td>\n",
       "      <td>11.821782</td>\n",
       "    </tr>\n",
       "    <tr>\n",
       "      <th>STL</th>\n",
       "      <td>-46.0</td>\n",
       "      <td>331.000000</td>\n",
       "      <td>8.491314</td>\n",
       "      <td>860</td>\n",
       "      <td>-15.0</td>\n",
       "      <td>444.00000</td>\n",
       "      <td>10.431559</td>\n",
       "    </tr>\n",
       "    <tr>\n",
       "      <th>STT</th>\n",
       "      <td>-30.0</td>\n",
       "      <td>61.000000</td>\n",
       "      <td>-0.448276</td>\n",
       "      <td>29</td>\n",
       "      <td>-15.0</td>\n",
       "      <td>53.00000</td>\n",
       "      <td>1.068966</td>\n",
       "    </tr>\n",
       "    <tr>\n",
       "      <th>STX</th>\n",
       "      <td>-15.0</td>\n",
       "      <td>17.000000</td>\n",
       "      <td>1.750000</td>\n",
       "      <td>4</td>\n",
       "      <td>-9.0</td>\n",
       "      <td>3.00000</td>\n",
       "      <td>-4.250000</td>\n",
       "    </tr>\n",
       "    <tr>\n",
       "      <th>SUN</th>\n",
       "      <td>-31.0</td>\n",
       "      <td>15.000000</td>\n",
       "      <td>-8.832935</td>\n",
       "      <td>38</td>\n",
       "      <td>-20.0</td>\n",
       "      <td>11.00000</td>\n",
       "      <td>-4.786138</td>\n",
       "    </tr>\n",
       "    <tr>\n",
       "      <th>SUX</th>\n",
       "      <td>-12.0</td>\n",
       "      <td>-8.000000</td>\n",
       "      <td>-10.000000</td>\n",
       "      <td>2</td>\n",
       "      <td>-10.0</td>\n",
       "      <td>-6.00000</td>\n",
       "      <td>-8.000000</td>\n",
       "    </tr>\n",
       "    <tr>\n",
       "      <th>SWF</th>\n",
       "      <td>-30.0</td>\n",
       "      <td>156.000000</td>\n",
       "      <td>3.789372</td>\n",
       "      <td>71</td>\n",
       "      <td>-18.0</td>\n",
       "      <td>120.00000</td>\n",
       "      <td>5.202539</td>\n",
       "    </tr>\n",
       "    <tr>\n",
       "      <th>SYR</th>\n",
       "      <td>-40.0</td>\n",
       "      <td>181.000000</td>\n",
       "      <td>5.702958</td>\n",
       "      <td>167</td>\n",
       "      <td>-22.0</td>\n",
       "      <td>174.00000</td>\n",
       "      <td>5.931180</td>\n",
       "    </tr>\n",
       "    <tr>\n",
       "      <th>TEX</th>\n",
       "      <td>-17.0</td>\n",
       "      <td>19.000000</td>\n",
       "      <td>3.750000</td>\n",
       "      <td>4</td>\n",
       "      <td>-5.0</td>\n",
       "      <td>15.00000</td>\n",
       "      <td>2.250000</td>\n",
       "    </tr>\n",
       "    <tr>\n",
       "      <th>TLH</th>\n",
       "      <td>-26.0</td>\n",
       "      <td>444.000000</td>\n",
       "      <td>14.228012</td>\n",
       "      <td>82</td>\n",
       "      <td>-15.0</td>\n",
       "      <td>401.00000</td>\n",
       "      <td>14.076262</td>\n",
       "    </tr>\n",
       "    <tr>\n",
       "      <th>TOL</th>\n",
       "      <td>-28.0</td>\n",
       "      <td>229.000000</td>\n",
       "      <td>19.090326</td>\n",
       "      <td>26</td>\n",
       "      <td>-14.0</td>\n",
       "      <td>213.00000</td>\n",
       "      <td>20.312567</td>\n",
       "    </tr>\n",
       "    <tr>\n",
       "      <th>TPA</th>\n",
       "      <td>-39.0</td>\n",
       "      <td>355.000000</td>\n",
       "      <td>6.585605</td>\n",
       "      <td>1214</td>\n",
       "      <td>-15.0</td>\n",
       "      <td>292.00000</td>\n",
       "      <td>8.970984</td>\n",
       "    </tr>\n",
       "    <tr>\n",
       "      <th>TRI</th>\n",
       "      <td>-35.0</td>\n",
       "      <td>219.000000</td>\n",
       "      <td>15.333333</td>\n",
       "      <td>30</td>\n",
       "      <td>-10.0</td>\n",
       "      <td>205.00000</td>\n",
       "      <td>14.633333</td>\n",
       "    </tr>\n",
       "    <tr>\n",
       "      <th>TUL</th>\n",
       "      <td>-28.0</td>\n",
       "      <td>282.000000</td>\n",
       "      <td>4.960047</td>\n",
       "      <td>347</td>\n",
       "      <td>-17.0</td>\n",
       "      <td>262.00000</td>\n",
       "      <td>6.207533</td>\n",
       "    </tr>\n",
       "    <tr>\n",
       "      <th>TUS</th>\n",
       "      <td>-34.0</td>\n",
       "      <td>266.000000</td>\n",
       "      <td>3.550113</td>\n",
       "      <td>374</td>\n",
       "      <td>-15.0</td>\n",
       "      <td>270.00000</td>\n",
       "      <td>5.062853</td>\n",
       "    </tr>\n",
       "    <tr>\n",
       "      <th>TVC</th>\n",
       "      <td>-31.0</td>\n",
       "      <td>335.000000</td>\n",
       "      <td>14.901031</td>\n",
       "      <td>47</td>\n",
       "      <td>-17.0</td>\n",
       "      <td>319.00000</td>\n",
       "      <td>13.385676</td>\n",
       "    </tr>\n",
       "    <tr>\n",
       "      <th>TWF</th>\n",
       "      <td>-23.0</td>\n",
       "      <td>60.000000</td>\n",
       "      <td>2.367424</td>\n",
       "      <td>20</td>\n",
       "      <td>-15.0</td>\n",
       "      <td>56.00000</td>\n",
       "      <td>5.650000</td>\n",
       "    </tr>\n",
       "    <tr>\n",
       "      <th>TXK</th>\n",
       "      <td>-16.0</td>\n",
       "      <td>210.000000</td>\n",
       "      <td>5.520000</td>\n",
       "      <td>25</td>\n",
       "      <td>-9.0</td>\n",
       "      <td>213.00000</td>\n",
       "      <td>9.200000</td>\n",
       "    </tr>\n",
       "    <tr>\n",
       "      <th>TYR</th>\n",
       "      <td>-13.0</td>\n",
       "      <td>137.000000</td>\n",
       "      <td>13.973939</td>\n",
       "      <td>25</td>\n",
       "      <td>-9.0</td>\n",
       "      <td>131.00000</td>\n",
       "      <td>14.965070</td>\n",
       "    </tr>\n",
       "    <tr>\n",
       "      <th>TYS</th>\n",
       "      <td>-30.0</td>\n",
       "      <td>262.000000</td>\n",
       "      <td>11.187161</td>\n",
       "      <td>207</td>\n",
       "      <td>-21.0</td>\n",
       "      <td>248.00000</td>\n",
       "      <td>11.489760</td>\n",
       "    </tr>\n",
       "    <tr>\n",
       "      <th>VLD</th>\n",
       "      <td>-18.0</td>\n",
       "      <td>83.000000</td>\n",
       "      <td>6.125000</td>\n",
       "      <td>8</td>\n",
       "      <td>-9.0</td>\n",
       "      <td>89.00000</td>\n",
       "      <td>8.500000</td>\n",
       "    </tr>\n",
       "    <tr>\n",
       "      <th>VPS</th>\n",
       "      <td>-28.0</td>\n",
       "      <td>173.000000</td>\n",
       "      <td>8.254149</td>\n",
       "      <td>84</td>\n",
       "      <td>-16.0</td>\n",
       "      <td>152.00000</td>\n",
       "      <td>7.084842</td>\n",
       "    </tr>\n",
       "    <tr>\n",
       "      <th>WRG</th>\n",
       "      <td>-16.0</td>\n",
       "      <td>276.000000</td>\n",
       "      <td>35.625000</td>\n",
       "      <td>8</td>\n",
       "      <td>-21.0</td>\n",
       "      <td>278.00000</td>\n",
       "      <td>34.750000</td>\n",
       "    </tr>\n",
       "    <tr>\n",
       "      <th>WYS</th>\n",
       "      <td>-16.0</td>\n",
       "      <td>-9.000000</td>\n",
       "      <td>-13.666667</td>\n",
       "      <td>3</td>\n",
       "      <td>-8.0</td>\n",
       "      <td>-2.00000</td>\n",
       "      <td>-5.666667</td>\n",
       "    </tr>\n",
       "    <tr>\n",
       "      <th>XNA</th>\n",
       "      <td>-29.0</td>\n",
       "      <td>221.000000</td>\n",
       "      <td>10.917609</td>\n",
       "      <td>201</td>\n",
       "      <td>-14.0</td>\n",
       "      <td>233.00000</td>\n",
       "      <td>11.287996</td>\n",
       "    </tr>\n",
       "    <tr>\n",
       "      <th>YAK</th>\n",
       "      <td>-32.0</td>\n",
       "      <td>169.000000</td>\n",
       "      <td>-0.916667</td>\n",
       "      <td>12</td>\n",
       "      <td>-28.0</td>\n",
       "      <td>161.00000</td>\n",
       "      <td>-0.416667</td>\n",
       "    </tr>\n",
       "    <tr>\n",
       "      <th>YKM</th>\n",
       "      <td>-23.0</td>\n",
       "      <td>-17.000000</td>\n",
       "      <td>-20.000000</td>\n",
       "      <td>2</td>\n",
       "      <td>-5.0</td>\n",
       "      <td>1.00000</td>\n",
       "      <td>-2.000000</td>\n",
       "    </tr>\n",
       "    <tr>\n",
       "      <th>YUM</th>\n",
       "      <td>-25.0</td>\n",
       "      <td>56.000000</td>\n",
       "      <td>2.334022</td>\n",
       "      <td>44</td>\n",
       "      <td>-17.0</td>\n",
       "      <td>63.00000</td>\n",
       "      <td>1.483034</td>\n",
       "    </tr>\n",
       "  </tbody>\n",
       "</table>\n",
       "<p>298 rows × 7 columns</p>\n",
       "</div>"
      ],
      "text/plain": [
       "       ArrDelay                              DepDelay                      \n",
       "            min         max       mean count      min        max       mean\n",
       "Origin                                                                     \n",
       "ABE       -29.0  187.000000   6.906019    74    -15.0  200.00000   6.613247\n",
       "ABI       -20.0  541.000000  12.838528    35    -12.0  539.00000  16.346479\n",
       "ABQ       -30.0  357.000000   2.337182   559    -14.0  360.00000   5.438534\n",
       "ABY       -24.0   71.000000   1.000000    16    -10.0   67.00000   1.062500\n",
       "ACK       -16.0    8.348478  -5.930304     5     -5.0   10.12675   4.225350\n",
       "ACT       -17.0   12.000000  -5.156250    32     -8.0   15.00000  -1.218750\n",
       "ACV       -24.0  192.000000  18.053375    44    -19.0  163.00000  13.821062\n",
       "ACY        -4.0   -4.000000  -4.000000     1      5.0    5.00000   5.000000\n",
       "ADK       -39.0  -27.000000 -33.000000     2    -33.0  -19.00000 -26.000000\n",
       "ADQ       -21.0   57.000000   6.625000     8    -16.0   54.00000   9.750000\n",
       "AEX       -21.0  237.000000  12.483871    31    -11.0  183.00000  10.354839\n",
       "AGS       -27.0   42.000000  -3.105263    38    -10.0   39.00000   0.157895\n",
       "AKN         8.0   14.000000  11.000000     2      8.0   13.00000  10.500000\n",
       "ALB       -41.0  213.000000   5.008756   199    -16.0  182.00000   6.927808\n",
       "ALO        -4.0  150.000000  38.837120     4     -7.0  132.00000  32.781687\n",
       "AMA       -19.0  292.000000   5.875406   112    -10.0  236.00000   7.082621\n",
       "ANC       -47.0  372.000000   2.843077   297    -16.0  377.00000   5.488642\n",
       "ASE       -22.0  174.000000  10.296037    78    -14.0  168.00000  10.727699\n",
       "ATL       -42.0  362.000000  10.428847  5952    -34.0  370.00000  11.399470\n",
       "ATW       -24.0  203.000000   7.591732    92    -15.0  200.00000   7.574861\n",
       "AUS       -37.0  210.000000   5.702466   703    -12.0  216.00000   6.823994\n",
       "AVL       -32.0  223.000000  -2.226768    60    -14.0  210.00000   2.939671\n",
       "AVP       -28.0  212.000000  13.618256    41    -10.0  201.00000  16.320165\n",
       "AZO       -26.0  244.000000   2.000000    60    -14.0  233.00000   2.716667\n",
       "BDL       -47.0  373.000000   7.624856   420    -13.0  366.00000  10.099732\n",
       "BET       -19.0   90.000000   8.923077    13    -16.0   89.00000   9.846154\n",
       "BFL       -33.0   32.000000  -5.020833    48    -12.0   23.00000  -3.562500\n",
       "BGM       -20.0   19.000000  -4.865152    10     -8.0   31.00000   0.012675\n",
       "BGR       -24.0  271.000000  26.341077    45    -29.0  195.00000  22.247261\n",
       "BHM       -33.0  170.000000   5.112130   337    -29.0  166.00000   6.326451\n",
       "...         ...         ...        ...   ...      ...        ...        ...\n",
       "SPI       -27.0  224.000000  25.000000    11    -16.0  224.00000  27.454545\n",
       "SPS       -25.0  152.000000   8.936480    26     -9.0  149.00000  12.543337\n",
       "SRQ       -30.0  234.000000  12.079208   101    -13.0  248.00000  11.821782\n",
       "STL       -46.0  331.000000   8.491314   860    -15.0  444.00000  10.431559\n",
       "STT       -30.0   61.000000  -0.448276    29    -15.0   53.00000   1.068966\n",
       "STX       -15.0   17.000000   1.750000     4     -9.0    3.00000  -4.250000\n",
       "SUN       -31.0   15.000000  -8.832935    38    -20.0   11.00000  -4.786138\n",
       "SUX       -12.0   -8.000000 -10.000000     2    -10.0   -6.00000  -8.000000\n",
       "SWF       -30.0  156.000000   3.789372    71    -18.0  120.00000   5.202539\n",
       "SYR       -40.0  181.000000   5.702958   167    -22.0  174.00000   5.931180\n",
       "TEX       -17.0   19.000000   3.750000     4     -5.0   15.00000   2.250000\n",
       "TLH       -26.0  444.000000  14.228012    82    -15.0  401.00000  14.076262\n",
       "TOL       -28.0  229.000000  19.090326    26    -14.0  213.00000  20.312567\n",
       "TPA       -39.0  355.000000   6.585605  1214    -15.0  292.00000   8.970984\n",
       "TRI       -35.0  219.000000  15.333333    30    -10.0  205.00000  14.633333\n",
       "TUL       -28.0  282.000000   4.960047   347    -17.0  262.00000   6.207533\n",
       "TUS       -34.0  266.000000   3.550113   374    -15.0  270.00000   5.062853\n",
       "TVC       -31.0  335.000000  14.901031    47    -17.0  319.00000  13.385676\n",
       "TWF       -23.0   60.000000   2.367424    20    -15.0   56.00000   5.650000\n",
       "TXK       -16.0  210.000000   5.520000    25     -9.0  213.00000   9.200000\n",
       "TYR       -13.0  137.000000  13.973939    25     -9.0  131.00000  14.965070\n",
       "TYS       -30.0  262.000000  11.187161   207    -21.0  248.00000  11.489760\n",
       "VLD       -18.0   83.000000   6.125000     8     -9.0   89.00000   8.500000\n",
       "VPS       -28.0  173.000000   8.254149    84    -16.0  152.00000   7.084842\n",
       "WRG       -16.0  276.000000  35.625000     8    -21.0  278.00000  34.750000\n",
       "WYS       -16.0   -9.000000 -13.666667     3     -8.0   -2.00000  -5.666667\n",
       "XNA       -29.0  221.000000  10.917609   201    -14.0  233.00000  11.287996\n",
       "YAK       -32.0  169.000000  -0.916667    12    -28.0  161.00000  -0.416667\n",
       "YKM       -23.0  -17.000000 -20.000000     2     -5.0    1.00000  -2.000000\n",
       "YUM       -25.0   56.000000   2.334022    44    -17.0   63.00000   1.483034\n",
       "\n",
       "[298 rows x 7 columns]"
      ]
     },
     "execution_count": 13,
     "metadata": {},
     "output_type": "execute_result"
    }
   ],
   "source": [
    "# Group and aggreate delay values for airlines. \n",
    "df.groupby(['Origin'])\\\n",
    "                      .agg({'ArrDelay':['min', 'max', 'mean', 'count'],\n",
    "                            'DepDelay':['min', 'max', 'mean']})"
   ]
  },
  {
   "cell_type": "code",
   "execution_count": 14,
   "metadata": {},
   "outputs": [],
   "source": [
    "# Define lateness as 30 minitues or more lateness beyond scheduled arrival time\n",
    "df['ArrLate'] =  df['ArrDelay'].apply(lambda x: 0 if x<30 else 1)"
   ]
  },
  {
   "cell_type": "code",
   "execution_count": 15,
   "metadata": {
    "scrolled": true
   },
   "outputs": [
    {
     "data": {
      "image/png": "[encoded data removed]",
      "text/plain": [
       "<Figure size 432x288 with 1 Axes>"
      ]
     },
     "metadata": {},
     "output_type": "display_data"
    }
   ],
   "source": [
    "# Show departure delays per airlines\n",
    "ax = sns.stripplot(y=df['UniqueCarrier'], x=df['DepDelay'])"
   ]
  },
  {
   "cell_type": "code",
   "execution_count": 16,
   "metadata": {},
   "outputs": [
    {
     "data": {
      "image/png": "[encoded data removed]",
      "text/plain": [
       "<Figure size 432x288 with 1 Axes>"
      ]
     },
     "metadata": {},
     "output_type": "display_data"
    }
   ],
   "source": [
    "# Show arrival delays per airlines\n",
    "ax = sns.stripplot(y=df['UniqueCarrier'], x=df['ArrDelay'])"
   ]
  },
  {
   "cell_type": "code",
   "execution_count": 17,
   "metadata": {},
   "outputs": [
    {
     "data": {
      "image/png": "[encoded data removed]",
      "text/plain": [
       "<Figure size 720x504 with 1 Axes>"
      ]
     },
     "metadata": {},
     "output_type": "display_data"
    }
   ],
   "source": [
    "# By assuming lateness = 30 minutes, below we group being late = 0 otherwise = 1\n",
    "\n",
    "fig = plt.figure(1, figsize=(10,7))\n",
    "ax = sns.countplot(y=df['UniqueCarrier'], hue='ArrLate', data=df)\n",
    "#ax.set_yticklabels(labels)\n",
    "plt.setp(ax.get_xticklabels(), fontsize=12, weight = 'normal', rotation = 0)\n",
    "plt.setp(ax.get_yticklabels(), fontsize=12, weight = 'bold', rotation = 0)\n",
    "ax.yaxis.label.set_visible(False)\n",
    "plt.xlabel('Flight count', fontsize=16, weight = 'bold', labelpad=10)\n",
    "L = plt.legend()\n",
    "plt.show()"
   ]
  },
  {
   "cell_type": "code",
   "execution_count": 18,
   "metadata": {},
   "outputs": [
    {
     "data": {
      "image/png": "[encoded data removed]",
      "text/plain": [
       "<Figure size 792x432 with 1 Axes>"
      ]
     },
     "metadata": {},
     "output_type": "display_data"
    }
   ],
   "source": [
    "# Showing mean delays both for arrivales and departures \n",
    "\n",
    "fig = plt.figure(1, figsize=(11,6))\n",
    "ax = sns.barplot(x=\"DepDelay\", y=\"UniqueCarrier\", data=df, color=\"lightskyblue\", ci=None)\n",
    "ax = sns.barplot(x=\"ArrDelay\", y=\"UniqueCarrier\", data=df, color=\"r\", hatch = '///',\n",
    "                 alpha = 0.0, ci=None)\n",
    "#ax.set_yticklabels(labels)\n",
    "#ax.yaxis.label.set_visible(False)\n",
    "plt.xlabel('Mean delay [min] (@departure: blue, @arrival: hatch lines)',\n",
    "           fontsize=14, weight = 'bold', labelpad=10);"
   ]
  },
  {
   "cell_type": "code",
   "execution_count": 19,
   "metadata": {},
   "outputs": [
    {
     "data": {
      "image/png": "[encoded data removed]",
      "text/plain": [
       "<Figure size 720x720 with 2 Axes>"
      ]
     },
     "metadata": {},
     "output_type": "display_data"
    }
   ],
   "source": [
    "# By using correlation matrix we can start identifying factors that can help to predict lateness  \n",
    "correlation_mat = df.corr()\n",
    "\n",
    "#Plot heatmap\n",
    "plt.figure(figsize=(10, 10))\n",
    "ax = sns.heatmap(correlation_mat)  # use this if want text added to each box annot=True\n",
    "plt.tight_layout()\n",
    "plt.show()"
   ]
  },
  {
   "cell_type": "code",
   "execution_count": 20,
   "metadata": {},
   "outputs": [
    {
     "data": {
      "image/png": "[encoded data removed]",
      "text/plain": [
       "<Figure size 1080x360 with 1 Axes>"
      ]
     },
     "metadata": {},
     "output_type": "display_data"
    }
   ],
   "source": [
    "# To show is there is any imbalance in first 50,000 data\n",
    "plt.figure(figsize=(15, 5))\n",
    "fontsize=20\n",
    "sns.set_style(\"whitegrid\")\n",
    "plt.subplot(1, 1, 1)\n",
    "ax = sns.countplot(x=\"ArrLate\", data=df, palette=\"Set2\")\n",
    "ax.set_xlabel('Responses by number of being late ',fontsize=fontsize)\n",
    "ax.set_ylabel('Number of Occurrences', fontsize=fontsize)\n",
    "ax.set_xticklabels(['On time','Late'], fontsize=fontsize)\n",
    "\n",
    "# Use below function to calcualte the percentage for each bar\n",
    "total = float(len(df)) \n",
    "for p in ax.patches:\n",
    "    height = p.get_height()\n",
    "    ax.text(p.get_x()+p.get_width()/2.,\n",
    "            height + 3,\n",
    "            '{:1.2f}'.format(height/total),fontsize=fontsize, ha=\"center\") \n",
    "    \n",
    "#plt.ylim(0, 50000)  # Use this if want to limit to 50000 observation only"
   ]
  },
  {
   "cell_type": "code",
   "execution_count": 21,
   "metadata": {},
   "outputs": [
    {
     "data": {
      "image/png": "[encoded data removed]",
      "text/plain": [
       "<Figure size 864x1440 with 4 Axes>"
      ]
     },
     "metadata": {},
     "output_type": "display_data"
    }
   ],
   "source": [
    "# let's draw the histogram for first five features:\n",
    "current_palette = sns.color_palette()\n",
    "import matplotlib.gridspec as gridspec\n",
    "plt.figure(figsize=(12,5*4))\n",
    "gs = gridspec.GridSpec(4, 1)\n",
    "for i, cn in enumerate(df.columns[:4]):\n",
    "    ax = plt.subplot(gs[i])\n",
    "    sns.distplot(df[cn][df.ArrLate == 1], bins=50)\n",
    "    sns.distplot(df[cn][df.ArrLate == 0], bins=50)\n",
    "    ax.set_xlabel('')\n",
    "    ax.set_title('histogram of feature: ' + str(cn))\n",
    "plt.show()\n",
    "\n",
    "# Above code will raise a warning related to deprecated function. And to avoid seeing this warning\n",
    "# we suppress it using: \n",
    "warnings.simplefilter('ignore')"
   ]
  },
  {
   "cell_type": "markdown",
   "metadata": {},
   "source": [
    "Histograms of the first four features show that arrival delays are more frequent during later hours of the day. This make sense as delays will have ripple effects on other schedules during of the day. "
   ]
  },
  {
   "cell_type": "code",
   "execution_count": 178,
   "metadata": {},
   "outputs": [],
   "source": [
    "# To save time and gain speed make a copy of previous df to new dataframe\n",
    "df1 = df.copy()"
   ]
  },
  {
   "cell_type": "code",
   "execution_count": 179,
   "metadata": {},
   "outputs": [
    {
     "data": {
      "text/plain": [
       "(100000, 20)"
      ]
     },
     "execution_count": 179,
     "metadata": {},
     "output_type": "execute_result"
    }
   ],
   "source": [
    "df1.shape"
   ]
  },
  {
   "cell_type": "code",
   "execution_count": 180,
   "metadata": {},
   "outputs": [],
   "source": [
    "# Extract selective columns for normanlization\n",
    "df2 = df1[['ActualElapsedTime', 'CRSElapsedTime', 'AirTime', 'ArrDelay', 'DepDelay', 'Distance',\n",
    "        'CarrierDelay', 'WeatherDelay', 'LateAircraftDelay','ArrLate']]"
   ]
  },
  {
   "cell_type": "code",
   "execution_count": 181,
   "metadata": {},
   "outputs": [
    {
     "data": {
      "image/png": "[encoded data removed]",
      "text/plain": [
       "<Figure size 864x576 with 2 Axes>"
      ]
     },
     "metadata": {},
     "output_type": "display_data"
    }
   ],
   "source": [
    "# Create a figure instance, and the two subplots\n",
    "fig = plt.figure()\n",
    "ax1 = fig.add_subplot(211)\n",
    "ax2 = fig.add_subplot(212)\n",
    "\n",
    "# Tell pointplot to plot on ax1 with the ax argument\n",
    "sns.violinplot(data=df2.ix[:,0:5], inner=\"points\", ax=ax1)    \n",
    "sns.violinplot(data=df2.ix[:,5:9], inner=\"points\", ax=ax2)\n",
    "fig.set_size_inches(12, 8)\n",
    "sns.despine()"
   ]
  },
  {
   "cell_type": "code",
   "execution_count": 182,
   "metadata": {},
   "outputs": [],
   "source": [
    "# Filter away all outliers identified as those within +/-3 standard deviations in ArrDelay and DepDelay\n",
    "df2 = df2[np.abs(df2.ArrDelay-df2.ArrDelay.mean()) <= (3*df2.ArrDelay.std())]\n",
    "df2 = df2[np.abs(df2.DepDelay-df2.DepDelay.mean()) <= (3*df2.DepDelay.std())]"
   ]
  },
  {
   "cell_type": "code",
   "execution_count": 183,
   "metadata": {},
   "outputs": [],
   "source": [
    "# Filter away all outliers identified as those within +/-3 standard deviations in ArrDelay and DepDelay\n",
    "df1 = df1[np.abs(df1.ArrDelay-df1.ArrDelay.mean()) <= (3*df1.ArrDelay.std())]\n",
    "df1 = df1[np.abs(df1.DepDelay-df1.DepDelay.mean()) <= (3*df1.DepDelay.std())]"
   ]
  },
  {
   "cell_type": "code",
   "execution_count": 269,
   "metadata": {},
   "outputs": [
    {
     "data": {
      "text/plain": [
       "((95028, 20), (95028, 10))"
      ]
     },
     "execution_count": 269,
     "metadata": {},
     "output_type": "execute_result"
    }
   ],
   "source": [
    "df1.shape, df2.shape"
   ]
  },
  {
   "cell_type": "code",
   "execution_count": 270,
   "metadata": {},
   "outputs": [
    {
     "data": {
      "text/html": [
       "<div>\n",
       "<style scoped>\n",
       "    .dataframe tbody tr th:only-of-type {\n",
       "        vertical-align: middle;\n",
       "    }\n",
       "\n",
       "    .dataframe tbody tr th {\n",
       "        vertical-align: top;\n",
       "    }\n",
       "\n",
       "    .dataframe thead th {\n",
       "        text-align: right;\n",
       "    }\n",
       "</style>\n",
       "<table border=\"1\" class=\"dataframe\">\n",
       "  <thead>\n",
       "    <tr style=\"text-align: right;\">\n",
       "      <th></th>\n",
       "      <th>DepTime</th>\n",
       "      <th>CRSDepTime</th>\n",
       "      <th>ArrTime</th>\n",
       "      <th>CRSArrTime</th>\n",
       "      <th>UniqueCarrier</th>\n",
       "      <th>ActualElapsedTime</th>\n",
       "      <th>CRSElapsedTime</th>\n",
       "      <th>AirTime</th>\n",
       "      <th>ArrDelay</th>\n",
       "      <th>DepDelay</th>\n",
       "      <th>Origin</th>\n",
       "      <th>Dest</th>\n",
       "      <th>Distance</th>\n",
       "      <th>TaxiIn</th>\n",
       "      <th>TaxiOut</th>\n",
       "      <th>CarrierDelay</th>\n",
       "      <th>WeatherDelay</th>\n",
       "      <th>NASDelay</th>\n",
       "      <th>LateAircraftDelay</th>\n",
       "      <th>ArrLate</th>\n",
       "    </tr>\n",
       "  </thead>\n",
       "  <tbody>\n",
       "    <tr>\n",
       "      <th>0</th>\n",
       "      <td>1725.0</td>\n",
       "      <td>1620.0</td>\n",
       "      <td>1940.0</td>\n",
       "      <td>1850.0</td>\n",
       "      <td>WN</td>\n",
       "      <td>135.0</td>\n",
       "      <td>150.0</td>\n",
       "      <td>116.0</td>\n",
       "      <td>50.0</td>\n",
       "      <td>65.0</td>\n",
       "      <td>LAS</td>\n",
       "      <td>GEG</td>\n",
       "      <td>806.0</td>\n",
       "      <td>4.0</td>\n",
       "      <td>15.0</td>\n",
       "      <td>50.0</td>\n",
       "      <td>0.0</td>\n",
       "      <td>0.0</td>\n",
       "      <td>0.0</td>\n",
       "      <td>1</td>\n",
       "    </tr>\n",
       "    <tr>\n",
       "      <th>1</th>\n",
       "      <td>2047.0</td>\n",
       "      <td>2005.0</td>\n",
       "      <td>2209.0</td>\n",
       "      <td>2115.0</td>\n",
       "      <td>WN</td>\n",
       "      <td>82.0</td>\n",
       "      <td>70.0</td>\n",
       "      <td>45.0</td>\n",
       "      <td>54.0</td>\n",
       "      <td>42.0</td>\n",
       "      <td>LAS</td>\n",
       "      <td>LAX</td>\n",
       "      <td>236.0</td>\n",
       "      <td>7.0</td>\n",
       "      <td>30.0</td>\n",
       "      <td>15.0</td>\n",
       "      <td>0.0</td>\n",
       "      <td>12.0</td>\n",
       "      <td>27.0</td>\n",
       "      <td>1</td>\n",
       "    </tr>\n",
       "    <tr>\n",
       "      <th>2</th>\n",
       "      <td>1928.0</td>\n",
       "      <td>1855.0</td>\n",
       "      <td>2034.0</td>\n",
       "      <td>2015.0</td>\n",
       "      <td>WN</td>\n",
       "      <td>66.0</td>\n",
       "      <td>80.0</td>\n",
       "      <td>54.0</td>\n",
       "      <td>19.0</td>\n",
       "      <td>33.0</td>\n",
       "      <td>LAS</td>\n",
       "      <td>RNO</td>\n",
       "      <td>345.0</td>\n",
       "      <td>4.0</td>\n",
       "      <td>8.0</td>\n",
       "      <td>9.0</td>\n",
       "      <td>0.0</td>\n",
       "      <td>0.0</td>\n",
       "      <td>10.0</td>\n",
       "      <td>0</td>\n",
       "    </tr>\n",
       "  </tbody>\n",
       "</table>\n",
       "</div>"
      ],
      "text/plain": [
       "   DepTime  CRSDepTime  ArrTime  CRSArrTime UniqueCarrier  ActualElapsedTime  \\\n",
       "0   1725.0      1620.0   1940.0      1850.0            WN              135.0   \n",
       "1   2047.0      2005.0   2209.0      2115.0            WN               82.0   \n",
       "2   1928.0      1855.0   2034.0      2015.0            WN               66.0   \n",
       "\n",
       "   CRSElapsedTime  AirTime  ArrDelay  DepDelay Origin Dest  Distance  TaxiIn  \\\n",
       "0           150.0    116.0      50.0      65.0    LAS  GEG     806.0     4.0   \n",
       "1            70.0     45.0      54.0      42.0    LAS  LAX     236.0     7.0   \n",
       "2            80.0     54.0      19.0      33.0    LAS  RNO     345.0     4.0   \n",
       "\n",
       "   TaxiOut  CarrierDelay  WeatherDelay  NASDelay  LateAircraftDelay  ArrLate  \n",
       "0     15.0          50.0           0.0       0.0                0.0        1  \n",
       "1     30.0          15.0           0.0      12.0               27.0        1  \n",
       "2      8.0           9.0           0.0       0.0               10.0        0  "
      ]
     },
     "execution_count": 270,
     "metadata": {},
     "output_type": "execute_result"
    }
   ],
   "source": [
    "df1.head(3)"
   ]
  },
  {
   "cell_type": "code",
   "execution_count": 271,
   "metadata": {},
   "outputs": [
    {
     "data": {
      "text/html": [
       "<div>\n",
       "<style scoped>\n",
       "    .dataframe tbody tr th:only-of-type {\n",
       "        vertical-align: middle;\n",
       "    }\n",
       "\n",
       "    .dataframe tbody tr th {\n",
       "        vertical-align: top;\n",
       "    }\n",
       "\n",
       "    .dataframe thead th {\n",
       "        text-align: right;\n",
       "    }\n",
       "</style>\n",
       "<table border=\"1\" class=\"dataframe\">\n",
       "  <thead>\n",
       "    <tr style=\"text-align: right;\">\n",
       "      <th></th>\n",
       "      <th>ActualElapsedTime</th>\n",
       "      <th>CRSElapsedTime</th>\n",
       "      <th>AirTime</th>\n",
       "      <th>ArrDelay</th>\n",
       "      <th>DepDelay</th>\n",
       "      <th>Distance</th>\n",
       "      <th>CarrierDelay</th>\n",
       "      <th>WeatherDelay</th>\n",
       "      <th>LateAircraftDelay</th>\n",
       "      <th>ArrLate</th>\n",
       "    </tr>\n",
       "  </thead>\n",
       "  <tbody>\n",
       "    <tr>\n",
       "      <th>0</th>\n",
       "      <td>135.0</td>\n",
       "      <td>150.0</td>\n",
       "      <td>116.0</td>\n",
       "      <td>50.0</td>\n",
       "      <td>65.0</td>\n",
       "      <td>806.0</td>\n",
       "      <td>50.0</td>\n",
       "      <td>0.0</td>\n",
       "      <td>0.0</td>\n",
       "      <td>1</td>\n",
       "    </tr>\n",
       "    <tr>\n",
       "      <th>1</th>\n",
       "      <td>82.0</td>\n",
       "      <td>70.0</td>\n",
       "      <td>45.0</td>\n",
       "      <td>54.0</td>\n",
       "      <td>42.0</td>\n",
       "      <td>236.0</td>\n",
       "      <td>15.0</td>\n",
       "      <td>0.0</td>\n",
       "      <td>27.0</td>\n",
       "      <td>1</td>\n",
       "    </tr>\n",
       "  </tbody>\n",
       "</table>\n",
       "</div>"
      ],
      "text/plain": [
       "   ActualElapsedTime  CRSElapsedTime  AirTime  ArrDelay  DepDelay  Distance  \\\n",
       "0              135.0           150.0    116.0      50.0      65.0     806.0   \n",
       "1               82.0            70.0     45.0      54.0      42.0     236.0   \n",
       "\n",
       "   CarrierDelay  WeatherDelay  LateAircraftDelay  ArrLate  \n",
       "0          50.0           0.0                0.0        1  \n",
       "1          15.0           0.0               27.0        1  "
      ]
     },
     "execution_count": 271,
     "metadata": {},
     "output_type": "execute_result"
    }
   ],
   "source": [
    "df2.head(2)"
   ]
  },
  {
   "cell_type": "code",
   "execution_count": 272,
   "metadata": {},
   "outputs": [],
   "source": [
    "# Extract selective columns for normanlization\n",
    "df_for_norm = df1[['ActualElapsedTime', 'CRSElapsedTime', 'AirTime', 'ArrDelay', 'DepDelay',\n",
    "                   'Distance','CarrierDelay', 'WeatherDelay', 'LateAircraftDelay']]\n",
    "df_class = df1[['ArrLate']]\n",
    "\n",
    "df_rem = df1.drop(['ActualElapsedTime', 'CRSElapsedTime', 'AirTime', 'ArrDelay', 'DepDelay',\n",
    "                   'Distance','CarrierDelay', 'WeatherDelay', 'LateAircraftDelay', 'ArrLate'], axis=1)\n",
    "\n",
    "df_for_norm = df_for_norm.reset_index(drop=True)\n",
    "df_class = df_class.reset_index(drop=True)\n",
    "df_rem = df_rem.reset_index(drop=True)"
   ]
  },
  {
   "cell_type": "code",
   "execution_count": 273,
   "metadata": {},
   "outputs": [
    {
     "data": {
      "text/plain": [
       "(95028, 9)"
      ]
     },
     "execution_count": 273,
     "metadata": {},
     "output_type": "execute_result"
    }
   ],
   "source": [
    "df_for_norm.shape"
   ]
  },
  {
   "cell_type": "markdown",
   "metadata": {},
   "source": [
    "Based on above we should remove outliers from ArrDelay and DepDelay features. "
   ]
  },
  {
   "cell_type": "code",
   "execution_count": 274,
   "metadata": {},
   "outputs": [],
   "source": [
    "# # Drop previous normalized colums then left with remaining\n",
    "# df_rem = df1.drop(['ActualElapsedTime', 'CRSElapsedTime', 'AirTime', 'ArrDelay', 'DepDelay', 'Distance',\n",
    "#         'CarrierDelay', 'WeatherDelay', 'LateAircraftDelay', 'ArrLate'], axis=1)\n",
    "# df_rem = df_rem.reset_index(drop=True)"
   ]
  },
  {
   "cell_type": "code",
   "execution_count": 275,
   "metadata": {},
   "outputs": [
    {
     "data": {
      "text/html": [
       "<div>\n",
       "<style scoped>\n",
       "    .dataframe tbody tr th:only-of-type {\n",
       "        vertical-align: middle;\n",
       "    }\n",
       "\n",
       "    .dataframe tbody tr th {\n",
       "        vertical-align: top;\n",
       "    }\n",
       "\n",
       "    .dataframe thead th {\n",
       "        text-align: right;\n",
       "    }\n",
       "</style>\n",
       "<table border=\"1\" class=\"dataframe\">\n",
       "  <thead>\n",
       "    <tr style=\"text-align: right;\">\n",
       "      <th></th>\n",
       "      <th>ActualElapsedTime</th>\n",
       "      <th>CRSElapsedTime</th>\n",
       "      <th>AirTime</th>\n",
       "      <th>ArrDelay</th>\n",
       "      <th>DepDelay</th>\n",
       "      <th>Distance</th>\n",
       "      <th>CarrierDelay</th>\n",
       "      <th>WeatherDelay</th>\n",
       "      <th>LateAircraftDelay</th>\n",
       "    </tr>\n",
       "  </thead>\n",
       "  <tbody>\n",
       "    <tr>\n",
       "      <th>0</th>\n",
       "      <td>135.0</td>\n",
       "      <td>150.0</td>\n",
       "      <td>116.0</td>\n",
       "      <td>50.0</td>\n",
       "      <td>65.0</td>\n",
       "      <td>806.0</td>\n",
       "      <td>50.0</td>\n",
       "      <td>0.0</td>\n",
       "      <td>0.0</td>\n",
       "    </tr>\n",
       "    <tr>\n",
       "      <th>1</th>\n",
       "      <td>82.0</td>\n",
       "      <td>70.0</td>\n",
       "      <td>45.0</td>\n",
       "      <td>54.0</td>\n",
       "      <td>42.0</td>\n",
       "      <td>236.0</td>\n",
       "      <td>15.0</td>\n",
       "      <td>0.0</td>\n",
       "      <td>27.0</td>\n",
       "    </tr>\n",
       "    <tr>\n",
       "      <th>2</th>\n",
       "      <td>66.0</td>\n",
       "      <td>80.0</td>\n",
       "      <td>54.0</td>\n",
       "      <td>19.0</td>\n",
       "      <td>33.0</td>\n",
       "      <td>345.0</td>\n",
       "      <td>9.0</td>\n",
       "      <td>0.0</td>\n",
       "      <td>10.0</td>\n",
       "    </tr>\n",
       "  </tbody>\n",
       "</table>\n",
       "</div>"
      ],
      "text/plain": [
       "   ActualElapsedTime  CRSElapsedTime  AirTime  ArrDelay  DepDelay  Distance  \\\n",
       "0              135.0           150.0    116.0      50.0      65.0     806.0   \n",
       "1               82.0            70.0     45.0      54.0      42.0     236.0   \n",
       "2               66.0            80.0     54.0      19.0      33.0     345.0   \n",
       "\n",
       "   CarrierDelay  WeatherDelay  LateAircraftDelay  \n",
       "0          50.0           0.0                0.0  \n",
       "1          15.0           0.0               27.0  \n",
       "2           9.0           0.0               10.0  "
      ]
     },
     "execution_count": 275,
     "metadata": {},
     "output_type": "execute_result"
    }
   ],
   "source": [
    "# Inspect the headings of these dataframes\n",
    "df_for_norm.head(3)"
   ]
  },
  {
   "cell_type": "code",
   "execution_count": 276,
   "metadata": {},
   "outputs": [
    {
     "data": {
      "text/html": [
       "<div>\n",
       "<style scoped>\n",
       "    .dataframe tbody tr th:only-of-type {\n",
       "        vertical-align: middle;\n",
       "    }\n",
       "\n",
       "    .dataframe tbody tr th {\n",
       "        vertical-align: top;\n",
       "    }\n",
       "\n",
       "    .dataframe thead th {\n",
       "        text-align: right;\n",
       "    }\n",
       "</style>\n",
       "<table border=\"1\" class=\"dataframe\">\n",
       "  <thead>\n",
       "    <tr style=\"text-align: right;\">\n",
       "      <th></th>\n",
       "      <th>DepTime</th>\n",
       "      <th>CRSDepTime</th>\n",
       "      <th>ArrTime</th>\n",
       "      <th>CRSArrTime</th>\n",
       "      <th>UniqueCarrier</th>\n",
       "      <th>Origin</th>\n",
       "      <th>Dest</th>\n",
       "      <th>TaxiIn</th>\n",
       "      <th>TaxiOut</th>\n",
       "      <th>NASDelay</th>\n",
       "    </tr>\n",
       "  </thead>\n",
       "  <tbody>\n",
       "    <tr>\n",
       "      <th>0</th>\n",
       "      <td>1725.0</td>\n",
       "      <td>1620.0</td>\n",
       "      <td>1940.0</td>\n",
       "      <td>1850.0</td>\n",
       "      <td>WN</td>\n",
       "      <td>LAS</td>\n",
       "      <td>GEG</td>\n",
       "      <td>4.0</td>\n",
       "      <td>15.0</td>\n",
       "      <td>0.0</td>\n",
       "    </tr>\n",
       "    <tr>\n",
       "      <th>1</th>\n",
       "      <td>2047.0</td>\n",
       "      <td>2005.0</td>\n",
       "      <td>2209.0</td>\n",
       "      <td>2115.0</td>\n",
       "      <td>WN</td>\n",
       "      <td>LAS</td>\n",
       "      <td>LAX</td>\n",
       "      <td>7.0</td>\n",
       "      <td>30.0</td>\n",
       "      <td>12.0</td>\n",
       "    </tr>\n",
       "    <tr>\n",
       "      <th>2</th>\n",
       "      <td>1928.0</td>\n",
       "      <td>1855.0</td>\n",
       "      <td>2034.0</td>\n",
       "      <td>2015.0</td>\n",
       "      <td>WN</td>\n",
       "      <td>LAS</td>\n",
       "      <td>RNO</td>\n",
       "      <td>4.0</td>\n",
       "      <td>8.0</td>\n",
       "      <td>0.0</td>\n",
       "    </tr>\n",
       "  </tbody>\n",
       "</table>\n",
       "</div>"
      ],
      "text/plain": [
       "   DepTime  CRSDepTime  ArrTime  CRSArrTime UniqueCarrier Origin Dest  TaxiIn  \\\n",
       "0   1725.0      1620.0   1940.0      1850.0            WN    LAS  GEG     4.0   \n",
       "1   2047.0      2005.0   2209.0      2115.0            WN    LAS  LAX     7.0   \n",
       "2   1928.0      1855.0   2034.0      2015.0            WN    LAS  RNO     4.0   \n",
       "\n",
       "   TaxiOut  NASDelay  \n",
       "0     15.0       0.0  \n",
       "1     30.0      12.0  \n",
       "2      8.0       0.0  "
      ]
     },
     "execution_count": 276,
     "metadata": {},
     "output_type": "execute_result"
    }
   ],
   "source": [
    "df_rem.head(3)"
   ]
  },
  {
   "cell_type": "code",
   "execution_count": 277,
   "metadata": {},
   "outputs": [
    {
     "data": {
      "text/html": [
       "<div>\n",
       "<style scoped>\n",
       "    .dataframe tbody tr th:only-of-type {\n",
       "        vertical-align: middle;\n",
       "    }\n",
       "\n",
       "    .dataframe tbody tr th {\n",
       "        vertical-align: top;\n",
       "    }\n",
       "\n",
       "    .dataframe thead th {\n",
       "        text-align: right;\n",
       "    }\n",
       "</style>\n",
       "<table border=\"1\" class=\"dataframe\">\n",
       "  <thead>\n",
       "    <tr style=\"text-align: right;\">\n",
       "      <th></th>\n",
       "      <th>ArrLate</th>\n",
       "    </tr>\n",
       "  </thead>\n",
       "  <tbody>\n",
       "    <tr>\n",
       "      <th>0</th>\n",
       "      <td>1</td>\n",
       "    </tr>\n",
       "    <tr>\n",
       "      <th>1</th>\n",
       "      <td>1</td>\n",
       "    </tr>\n",
       "    <tr>\n",
       "      <th>2</th>\n",
       "      <td>0</td>\n",
       "    </tr>\n",
       "  </tbody>\n",
       "</table>\n",
       "</div>"
      ],
      "text/plain": [
       "   ArrLate\n",
       "0        1\n",
       "1        1\n",
       "2        0"
      ]
     },
     "execution_count": 277,
     "metadata": {},
     "output_type": "execute_result"
    }
   ],
   "source": [
    "df_class.head(3)"
   ]
  },
  {
   "cell_type": "code",
   "execution_count": 278,
   "metadata": {},
   "outputs": [
    {
     "data": {
      "text/plain": [
       "((95028, 9), (95028, 10), (95028, 1))"
      ]
     },
     "execution_count": 278,
     "metadata": {},
     "output_type": "execute_result"
    }
   ],
   "source": [
    "# Inspect the shape\n",
    "df_for_norm.shape, df_rem.shape, df_class.shape"
   ]
  },
  {
   "cell_type": "code",
   "execution_count": 279,
   "metadata": {},
   "outputs": [],
   "source": [
    "# Normalize selective columns\n",
    "\n",
    "col_name = df_for_norm.columns # Keep a copy of column names\n",
    "min_max_scaler = preprocessing.MinMaxScaler() # Create a minimum and maximum processor object\n",
    "\n",
    "# Create an object to transform the data to fit minmax processor\n",
    "df_scaled = min_max_scaler.fit_transform(df_for_norm)\n",
    "\n",
    "# Run the normalizer on the dataframe\n",
    "df_normalized = pd.DataFrame(df_scaled)\n",
    "\n",
    "df_normalized.columns = [col_name] # Add back column names "
   ]
  },
  {
   "cell_type": "code",
   "execution_count": 280,
   "metadata": {},
   "outputs": [
    {
     "data": {
      "text/plain": [
       "MultiIndex(levels=[['ActualElapsedTime', 'AirTime', 'ArrDelay', 'CRSElapsedTime', 'CarrierDelay', 'DepDelay', 'Distance', 'LateAircraftDelay', 'WeatherDelay']],\n",
       "           labels=[[0, 3, 1, 2, 5, 6, 4, 8, 7]])"
      ]
     },
     "execution_count": 280,
     "metadata": {},
     "output_type": "execute_result"
    }
   ],
   "source": [
    "# Inspect the data type\n",
    "df_normalized.dtypes.index"
   ]
  },
  {
   "cell_type": "code",
   "execution_count": 281,
   "metadata": {},
   "outputs": [],
   "source": [
    "# Need to flatten the level of this dataframe\n",
    "df_normalized.columns = df_normalized.columns.get_level_values(0)"
   ]
  },
  {
   "cell_type": "code",
   "execution_count": 282,
   "metadata": {},
   "outputs": [
    {
     "data": {
      "text/plain": [
       "(   ActualElapsedTime  CRSElapsedTime   AirTime  ArrDelay  DepDelay  Distance  \\\n",
       " 0           0.178411        0.210526  0.180967  0.592391  0.948276  0.157169   \n",
       " 1           0.098951        0.086687  0.070203  0.614130  0.750000  0.041574   \n",
       " \n",
       "    CarrierDelay  WeatherDelay  LateAircraftDelay  \n",
       " 0      0.450450           0.0           0.000000  \n",
       " 1      0.135135           0.0           0.257143  , (95028, 9))"
      ]
     },
     "execution_count": 282,
     "metadata": {},
     "output_type": "execute_result"
    }
   ],
   "source": [
    "# Check the column headings\n",
    "df_normalized.head(2), df_normalized.shape"
   ]
  },
  {
   "cell_type": "code",
   "execution_count": 283,
   "metadata": {},
   "outputs": [
    {
     "data": {
      "text/plain": [
       "(   DepTime  CRSDepTime  ArrTime  CRSArrTime UniqueCarrier Origin Dest  TaxiIn  \\\n",
       " 0   1725.0      1620.0   1940.0      1850.0            WN    LAS  GEG     4.0   \n",
       " 1   2047.0      2005.0   2209.0      2115.0            WN    LAS  LAX     7.0   \n",
       " \n",
       "    TaxiOut  NASDelay  \n",
       " 0     15.0       0.0  \n",
       " 1     30.0      12.0  , (95028, 10))"
      ]
     },
     "execution_count": 283,
     "metadata": {},
     "output_type": "execute_result"
    }
   ],
   "source": [
    "# Inspect the table\n",
    "df_rem.head(2), df_rem.shape"
   ]
  },
  {
   "cell_type": "code",
   "execution_count": 284,
   "metadata": {},
   "outputs": [],
   "source": [
    "# After normalization we combine the tables into one \n",
    "features_only = pd.merge(df_normalized, df_rem, right_index=True, left_index=True)"
   ]
  },
  {
   "cell_type": "code",
   "execution_count": 285,
   "metadata": {
    "scrolled": true
   },
   "outputs": [
    {
     "data": {
      "text/plain": [
       "(   ActualElapsedTime  CRSElapsedTime   AirTime  ArrDelay  DepDelay  Distance  \\\n",
       " 0           0.178411        0.210526  0.180967  0.592391  0.948276  0.157169   \n",
       " 1           0.098951        0.086687  0.070203  0.614130  0.750000  0.041574   \n",
       " \n",
       "    CarrierDelay  WeatherDelay  LateAircraftDelay  DepTime  CRSDepTime  \\\n",
       " 0      0.450450           0.0           0.000000   1725.0      1620.0   \n",
       " 1      0.135135           0.0           0.257143   2047.0      2005.0   \n",
       " \n",
       "    ArrTime  CRSArrTime UniqueCarrier Origin Dest  TaxiIn  TaxiOut  NASDelay  \n",
       " 0   1940.0      1850.0            WN    LAS  GEG     4.0     15.0       0.0  \n",
       " 1   2209.0      2115.0            WN    LAS  LAX     7.0     30.0      12.0  ,\n",
       " (95028, 19))"
      ]
     },
     "execution_count": 285,
     "metadata": {},
     "output_type": "execute_result"
    }
   ],
   "source": [
    "# Check it again\n",
    "features_only.head(2), features_only.shape"
   ]
  },
  {
   "cell_type": "code",
   "execution_count": 286,
   "metadata": {},
   "outputs": [],
   "source": [
    "# Create binary data for categorial data\n",
    "features_only = pd.get_dummies(features_only,columns=['UniqueCarrier'], drop_first=True)\n",
    "features_only = pd.get_dummies(features_only,columns=['Origin'], drop_first=True)\n",
    "features_only = pd.get_dummies(features_only,columns=['Dest'], drop_first=True)"
   ]
  },
  {
   "cell_type": "code",
   "execution_count": 287,
   "metadata": {},
   "outputs": [
    {
     "data": {
      "text/plain": [
       "(   ActualElapsedTime  CRSElapsedTime   AirTime  ArrDelay  DepDelay  Distance  \\\n",
       " 0           0.178411        0.210526  0.180967  0.592391  0.948276  0.157169   \n",
       " 1           0.098951        0.086687  0.070203  0.614130  0.750000  0.041574   \n",
       " \n",
       "    CarrierDelay  WeatherDelay  LateAircraftDelay  DepTime    ...     Dest_TYR  \\\n",
       " 0      0.450450           0.0           0.000000   1725.0    ...            0   \n",
       " 1      0.135135           0.0           0.257143   2047.0    ...            0   \n",
       " \n",
       "    Dest_TYS  Dest_VLD  Dest_VPS  Dest_WRG  Dest_WYS  Dest_XNA  Dest_YAK  \\\n",
       " 0         0         0         0         0         0         0         0   \n",
       " 1         0         0         0         0         0         0         0   \n",
       " \n",
       "    Dest_YKM  Dest_YUM  \n",
       " 0         0         0  \n",
       " 1         0         0  \n",
       " \n",
       " [2 rows x 628 columns], (95028, 628))"
      ]
     },
     "execution_count": 287,
     "metadata": {},
     "output_type": "execute_result"
    }
   ],
   "source": [
    "# Inspect again\n",
    "features_only.head(2), features_only.shape # Check the result"
   ]
  },
  {
   "cell_type": "code",
   "execution_count": 288,
   "metadata": {},
   "outputs": [],
   "source": [
    "# #PCA Analysis\n",
    "# # Build the correlation mtarix\n",
    "# correlation_matrix = features_only.corr()\n",
    "\n",
    "# #Calculate the eigenvectores & eigenvalues\n",
    "# eig_vals, eig_vecs = np.linalg.eig(correlation_matrix)\n",
    "# sklearn_pca = PCA(n_components= 2) #len(features_only.columns))\n",
    "# Y_sklearn = sklearn_pca.fit_transform(correlation_matrix)\n",
    "\n",
    "# print(pca.explained_variance_ratio_) \n",
    "\n",
    "# # #Plot the scree plot for visual analysis of the PCA features\n",
    "# # plt.title('Scree Plot')\n",
    "# # plt.plot(eig_vals)\n",
    "# # plt.show()\n",
    "\n",
    "# # #For additional aid, print the total variance explained by each of the eigenvalues\n",
    "# # print('The percentage of total variance in the dataset explained \\n', sklearn_pca.explained_variance_ratio_)"
   ]
  },
  {
   "cell_type": "markdown",
   "metadata": {},
   "source": [
    "## Principla Component Analysis"
   ]
  },
  {
   "cell_type": "code",
   "execution_count": 289,
   "metadata": {},
   "outputs": [],
   "source": [
    "# # We have over 600 columns of features and next we will use principal component analysis (PCA) \n",
    "# # as a technique, to reduce the number of features. \n",
    "# # By using PCA we can rank most important features capable of explaining the total variance by the data.\n",
    "# # With PCA we can determine which features capture similiar information and discard them to create a more lean model.\n",
    "\n",
    "# covar_matrix = PCA(n_components = 4) # Selecting n_components PCA factors\n",
    "# covar_matrix.fit(features_only)\n",
    "# variance = covar_matrix.explained_variance_ratio_ #calculate variance ratios\n",
    "# var = np.cumsum(np.round(covar_matrix.explained_variance_ratio_, decimals=3)*100) # Calcualte the cumulative variance\n",
    "# var"
   ]
  },
  {
   "cell_type": "code",
   "execution_count": null,
   "metadata": {},
   "outputs": [],
   "source": []
  },
  {
   "cell_type": "code",
   "execution_count": 290,
   "metadata": {},
   "outputs": [],
   "source": [
    "# # Showing the top PCA features explaining almost all of total variance\n",
    "# df_pca = pd.DataFrame(pca.components_,columns=features_only.columns,index = ['PC-1','PC-2', 'PC-3'])\n",
    "\n",
    "# # Below show the correlation between each feature and principla components\n",
    "# # Getting the columns with max values contributions to PCAs\n",
    "# #df_pca.ix[:, df_pca.max().sort_values(ascending=False).index]"
   ]
  },
  {
   "cell_type": "code",
   "execution_count": 291,
   "metadata": {},
   "outputs": [],
   "source": [
    "# Getting the columns with max values contributions to PCAs\n",
    "#df_pca.ix[:, df_pca.max().sort_values(ascending=False).index]"
   ]
  },
  {
   "cell_type": "code",
   "execution_count": 292,
   "metadata": {},
   "outputs": [
    {
     "data": {
      "text/plain": [
       "array([87.5, 97.4, 99.5])"
      ]
     },
     "execution_count": 292,
     "metadata": {},
     "output_type": "execute_result"
    }
   ],
   "source": [
    "# Principal component\n",
    "n_components = 3\n",
    "covar_matrix = PCA(n_components = n_components) # Selecting n_components PCA factors\n",
    "pca = PCA(n_components=n_components)\n",
    "X_pca = pca.fit_transform(features_only)\n",
    "X_pca = pd.DataFrame(X_pca, columns=['PC-1', 'PC-2','PC-3']) \n",
    "\n",
    "covar_matrix.fit(features_only)\n",
    "variance = covar_matrix.explained_variance_ratio_ #calculate variance ratios\n",
    "var2 = np.cumsum(np.round(covar_matrix.explained_variance_ratio_, decimals=3)*100) # Calcualte the cumulative variance\n",
    "var2"
   ]
  },
  {
   "cell_type": "code",
   "execution_count": 293,
   "metadata": {},
   "outputs": [
    {
     "data": {
      "text/plain": [
       "[<matplotlib.lines.Line2D at 0x20b116a0>]"
      ]
     },
     "execution_count": 293,
     "metadata": {},
     "output_type": "execute_result"
    },
    {
     "data": {
      "image/png": "[encoded data removed]",
      "text/plain": [
       "<Figure size 432x288 with 1 Axes>"
      ]
     },
     "metadata": {},
     "output_type": "display_data"
    }
   ],
   "source": [
    "plt.ylabel('% Variance Explained')\n",
    "plt.xlabel('# of Features')\n",
    "plt.title('PCA Analysis of Features')\n",
    "plt.ylim(80,100.5)\n",
    "plt.style.context('seaborn-whitegrid')\n",
    "plt.plot(var2) # Showing the cumulative contributions of PCAs"
   ]
  },
  {
   "cell_type": "code",
   "execution_count": 294,
   "metadata": {},
   "outputs": [
    {
     "data": {
      "text/html": [
       "<div>\n",
       "<style scoped>\n",
       "    .dataframe tbody tr th:only-of-type {\n",
       "        vertical-align: middle;\n",
       "    }\n",
       "\n",
       "    .dataframe tbody tr th {\n",
       "        vertical-align: top;\n",
       "    }\n",
       "\n",
       "    .dataframe thead th {\n",
       "        text-align: right;\n",
       "    }\n",
       "</style>\n",
       "<table border=\"1\" class=\"dataframe\">\n",
       "  <thead>\n",
       "    <tr style=\"text-align: right;\">\n",
       "      <th></th>\n",
       "      <th>ArrTime</th>\n",
       "      <th>CRSDepTime</th>\n",
       "      <th>DepTime</th>\n",
       "      <th>NASDelay</th>\n",
       "      <th>TaxiIn</th>\n",
       "      <th>Origin_ATL</th>\n",
       "      <th>UniqueCarrier_WN</th>\n",
       "      <th>ArrDelay</th>\n",
       "      <th>DepDelay</th>\n",
       "      <th>UniqueCarrier_MQ</th>\n",
       "      <th>...</th>\n",
       "      <th>ActualElapsedTime</th>\n",
       "      <th>Distance</th>\n",
       "      <th>CRSElapsedTime</th>\n",
       "      <th>Origin_PHX</th>\n",
       "      <th>Origin_MSP</th>\n",
       "      <th>Origin_ORD</th>\n",
       "      <th>Origin_IAH</th>\n",
       "      <th>Origin_DEN</th>\n",
       "      <th>TaxiOut</th>\n",
       "      <th>CRSArrTime</th>\n",
       "    </tr>\n",
       "  </thead>\n",
       "  <tbody>\n",
       "    <tr>\n",
       "      <th>PC-1</th>\n",
       "      <td>-0.502233</td>\n",
       "      <td>-0.492149</td>\n",
       "      <td>-0.495558</td>\n",
       "      <td>0.000504</td>\n",
       "      <td>0.000157</td>\n",
       "      <td>-0.000014</td>\n",
       "      <td>-0.000006</td>\n",
       "      <td>-0.000015</td>\n",
       "      <td>-0.000027</td>\n",
       "      <td>0.000005</td>\n",
       "      <td>...</td>\n",
       "      <td>-0.000001</td>\n",
       "      <td>-0.000002</td>\n",
       "      <td>-0.000002</td>\n",
       "      <td>-0.000003</td>\n",
       "      <td>-0.000005</td>\n",
       "      <td>-0.000006</td>\n",
       "      <td>-0.000007</td>\n",
       "      <td>-0.000009</td>\n",
       "      <td>-0.000534</td>\n",
       "      <td>-0.509875</td>\n",
       "    </tr>\n",
       "    <tr>\n",
       "      <th>PC-2</th>\n",
       "      <td>-0.565224</td>\n",
       "      <td>0.509701</td>\n",
       "      <td>0.496313</td>\n",
       "      <td>-0.001315</td>\n",
       "      <td>-0.001175</td>\n",
       "      <td>0.000044</td>\n",
       "      <td>0.000016</td>\n",
       "      <td>0.000008</td>\n",
       "      <td>0.000021</td>\n",
       "      <td>0.000015</td>\n",
       "      <td>...</td>\n",
       "      <td>-0.000039</td>\n",
       "      <td>-0.000037</td>\n",
       "      <td>-0.000040</td>\n",
       "      <td>-0.000017</td>\n",
       "      <td>-0.000007</td>\n",
       "      <td>-0.000014</td>\n",
       "      <td>-0.000011</td>\n",
       "      <td>-0.000010</td>\n",
       "      <td>-0.001099</td>\n",
       "      <td>-0.417607</td>\n",
       "    </tr>\n",
       "    <tr>\n",
       "      <th>PC-3</th>\n",
       "      <td>0.648641</td>\n",
       "      <td>-0.031337</td>\n",
       "      <td>0.142335</td>\n",
       "      <td>-0.000286</td>\n",
       "      <td>0.000059</td>\n",
       "      <td>0.000005</td>\n",
       "      <td>0.000043</td>\n",
       "      <td>0.000038</td>\n",
       "      <td>0.000030</td>\n",
       "      <td>0.000030</td>\n",
       "      <td>...</td>\n",
       "      <td>-0.000028</td>\n",
       "      <td>-0.000035</td>\n",
       "      <td>-0.000036</td>\n",
       "      <td>-0.000009</td>\n",
       "      <td>-0.000012</td>\n",
       "      <td>-0.000019</td>\n",
       "      <td>-0.000007</td>\n",
       "      <td>-0.000023</td>\n",
       "      <td>-0.000227</td>\n",
       "      <td>-0.747009</td>\n",
       "    </tr>\n",
       "  </tbody>\n",
       "</table>\n",
       "<p>3 rows × 628 columns</p>\n",
       "</div>"
      ],
      "text/plain": [
       "       ArrTime  CRSDepTime   DepTime  NASDelay    TaxiIn  Origin_ATL  \\\n",
       "PC-1 -0.502233   -0.492149 -0.495558  0.000504  0.000157   -0.000014   \n",
       "PC-2 -0.565224    0.509701  0.496313 -0.001315 -0.001175    0.000044   \n",
       "PC-3  0.648641   -0.031337  0.142335 -0.000286  0.000059    0.000005   \n",
       "\n",
       "      UniqueCarrier_WN  ArrDelay  DepDelay  UniqueCarrier_MQ     ...      \\\n",
       "PC-1         -0.000006 -0.000015 -0.000027          0.000005     ...       \n",
       "PC-2          0.000016  0.000008  0.000021          0.000015     ...       \n",
       "PC-3          0.000043  0.000038  0.000030          0.000030     ...       \n",
       "\n",
       "      ActualElapsedTime  Distance  CRSElapsedTime  Origin_PHX  Origin_MSP  \\\n",
       "PC-1          -0.000001 -0.000002       -0.000002   -0.000003   -0.000005   \n",
       "PC-2          -0.000039 -0.000037       -0.000040   -0.000017   -0.000007   \n",
       "PC-3          -0.000028 -0.000035       -0.000036   -0.000009   -0.000012   \n",
       "\n",
       "      Origin_ORD  Origin_IAH  Origin_DEN   TaxiOut  CRSArrTime  \n",
       "PC-1   -0.000006   -0.000007   -0.000009 -0.000534   -0.509875  \n",
       "PC-2   -0.000014   -0.000011   -0.000010 -0.001099   -0.417607  \n",
       "PC-3   -0.000019   -0.000007   -0.000023 -0.000227   -0.747009  \n",
       "\n",
       "[3 rows x 628 columns]"
      ]
     },
     "execution_count": 294,
     "metadata": {},
     "output_type": "execute_result"
    }
   ],
   "source": [
    "df_pca = pd.DataFrame(pca.components_,columns=features_only.columns,index = ['PC-1', 'PC-2','PC-3'])\n",
    "df_pca.ix[:, df_pca.max().sort_values(ascending=False).index]"
   ]
  },
  {
   "cell_type": "markdown",
   "metadata": {},
   "source": [
    "### Above shows that ArrTime and CRSDepTime and DepTim are the features with most contributions to PCAs"
   ]
  },
  {
   "cell_type": "code",
   "execution_count": 295,
   "metadata": {},
   "outputs": [],
   "source": [
    "# Becasue of high computational cost we will use only a random sample \n",
    "# from previous balanced dataset for futher analysis\n",
    "small_sample_size = 70000\n",
    "df_pca_sample=X_pca.sample(n=small_sample_size, random_state=2)\n",
    "df_class=df_class.sample(small_sample_size, random_state=2)"
   ]
  },
  {
   "cell_type": "code",
   "execution_count": 296,
   "metadata": {},
   "outputs": [
    {
     "data": {
      "text/plain": [
       "((95028, 3), (70000, 3), (70000, 1))"
      ]
     },
     "execution_count": 296,
     "metadata": {},
     "output_type": "execute_result"
    }
   ],
   "source": [
    "X_pca.shape, df_pca_sample.shape, df_class.shape # Check the dimensions"
   ]
  },
  {
   "cell_type": "code",
   "execution_count": 297,
   "metadata": {},
   "outputs": [
    {
     "data": {
      "text/html": [
       "<div>\n",
       "<style scoped>\n",
       "    .dataframe tbody tr th:only-of-type {\n",
       "        vertical-align: middle;\n",
       "    }\n",
       "\n",
       "    .dataframe tbody tr th {\n",
       "        vertical-align: top;\n",
       "    }\n",
       "\n",
       "    .dataframe thead th {\n",
       "        text-align: right;\n",
       "    }\n",
       "</style>\n",
       "<table border=\"1\" class=\"dataframe\">\n",
       "  <thead>\n",
       "    <tr style=\"text-align: right;\">\n",
       "      <th></th>\n",
       "      <th>PC-1</th>\n",
       "      <th>PC-2</th>\n",
       "      <th>PC-3</th>\n",
       "    </tr>\n",
       "  </thead>\n",
       "  <tbody>\n",
       "    <tr>\n",
       "      <th>count</th>\n",
       "      <td>70000.000000</td>\n",
       "      <td>70000.000000</td>\n",
       "      <td>70000.000000</td>\n",
       "    </tr>\n",
       "    <tr>\n",
       "      <th>mean</th>\n",
       "      <td>0.283858</td>\n",
       "      <td>-0.245602</td>\n",
       "      <td>-0.006275</td>\n",
       "    </tr>\n",
       "    <tr>\n",
       "      <th>std</th>\n",
       "      <td>887.986067</td>\n",
       "      <td>296.921381</td>\n",
       "      <td>137.484513</td>\n",
       "    </tr>\n",
       "    <tr>\n",
       "      <th>min</th>\n",
       "      <td>-1863.518564</td>\n",
       "      <td>-1227.900689</td>\n",
       "      <td>-1585.558866</td>\n",
       "    </tr>\n",
       "    <tr>\n",
       "      <th>25%</th>\n",
       "      <td>-725.644089</td>\n",
       "      <td>-89.629170</td>\n",
       "      <td>-13.010913</td>\n",
       "    </tr>\n",
       "    <tr>\n",
       "      <th>50%</th>\n",
       "      <td>17.052971</td>\n",
       "      <td>-3.002484</td>\n",
       "      <td>2.729965</td>\n",
       "    </tr>\n",
       "    <tr>\n",
       "      <th>75%</th>\n",
       "      <td>750.838910</td>\n",
       "      <td>53.083782</td>\n",
       "      <td>17.085273</td>\n",
       "    </tr>\n",
       "    <tr>\n",
       "      <th>max</th>\n",
       "      <td>2472.106594</td>\n",
       "      <td>2453.650322</td>\n",
       "      <td>1805.460597</td>\n",
       "    </tr>\n",
       "  </tbody>\n",
       "</table>\n",
       "</div>"
      ],
      "text/plain": [
       "               PC-1          PC-2          PC-3\n",
       "count  70000.000000  70000.000000  70000.000000\n",
       "mean       0.283858     -0.245602     -0.006275\n",
       "std      887.986067    296.921381    137.484513\n",
       "min    -1863.518564  -1227.900689  -1585.558866\n",
       "25%     -725.644089    -89.629170    -13.010913\n",
       "50%       17.052971     -3.002484      2.729965\n",
       "75%      750.838910     53.083782     17.085273\n",
       "max     2472.106594   2453.650322   1805.460597"
      ]
     },
     "execution_count": 297,
     "metadata": {},
     "output_type": "execute_result"
    }
   ],
   "source": [
    "#Describe the data using statistics\n",
    "df_pca_sample.describe()"
   ]
  },
  {
   "cell_type": "markdown",
   "metadata": {},
   "source": [
    "### Model Selection ###"
   ]
  },
  {
   "cell_type": "markdown",
   "metadata": {},
   "source": [
    "We split the dataset 80/20 between train and test parts. We will train and fit multiple models using the training set and do evaluation of their predictive power using the test data. Splitting the dateset is the critical strategy for reducing the risk of overfitting.\n",
    "\n",
    "We also tune the hyperparameters of all models to improve their prediction powers. And confusion matrix to demonstrate characteristics such as accuracy, sensitivity/recall, specificity, false positive rate and precision.\n",
    "\n",
    "As the purpose of the analysis is to predict the rare cases of fraud we will focus on sensitivity or recall as the main evaluation metric. Also, false negative in this case are more important as false positives (normal transactions that are marked as possible fraud) are more acceptable than false negatives where actual fraud has happened and we fail to detect. \n",
    "\n",
    "We tested following models:\n",
    "\n",
    "  - Logistic Regression\n",
    "  - Decision Tree\n",
    "  - Random Forest\n",
    "  - Naive - Bayes (Bernoulli)\n",
    "  - KNeighbors Classifier\n",
    "  - Support Vector Machine\n",
    "  - Gradient Boosting Classifier\n",
    "\n",
    "Both classes of no fraud or fraud are labled as 0 and 1."
   ]
  },
  {
   "cell_type": "markdown",
   "metadata": {},
   "source": [
    "### Training and testing set preparation\n",
    "Priot to model selection we need to split the data into training, development and test set. We are using first 80% of the data as the training and validation set. The remaining 20% will be used as the testing set:"
   ]
  },
  {
   "cell_type": "code",
   "execution_count": 298,
   "metadata": {},
   "outputs": [],
   "source": [
    "# Creating training and test data set\n",
    "\n",
    "df_features_pick = df_pca_sample #features_only  # Have an option to pick normalized df or a PCA version X_pca\n",
    "\n",
    "sample = np.random.rand(len(df_features_pick)) < 0.8 # Use random sampling of 80\n",
    "train_x = df_features_pick[sample]\n",
    "test_x = df_features_pick[~sample]\n",
    "train_y = df_class.iloc[sample,0]\n",
    "test_y = df_class.iloc[~sample,0]\n",
    "\n",
    "CF_no = 5  # Number of cross validation used for all models"
   ]
  },
  {
   "cell_type": "code",
   "execution_count": 299,
   "metadata": {},
   "outputs": [
    {
     "data": {
      "text/plain": [
       "(70000, 3)"
      ]
     },
     "execution_count": 299,
     "metadata": {},
     "output_type": "execute_result"
    }
   ],
   "source": [
    "df_features_pick.shape"
   ]
  },
  {
   "cell_type": "code",
   "execution_count": 300,
   "metadata": {},
   "outputs": [
    {
     "name": "stdout",
     "output_type": "stream",
     "text": [
      "Size of total sample: (70000, 3). \n",
      "Size of training x: (55961, 3). \n",
      "Sizae of training y: (55961,). \n",
      "Size of test x: (14039, 3). \n",
      "Size of test y: (14039,). \n"
     ]
    }
   ],
   "source": [
    "total_size = df_features_pick.shape\n",
    "train_x_size = train_x.shape\n",
    "train_y_size = train_y.shape\n",
    "test_x_size = test_x.shape\n",
    "test_y_size = test_y.shape\n",
    "\n",
    "print(\"Size of total sample: {}. \".format(total_size)) \n",
    "print(\"Size of training x: {}. \".format(train_x_size)) \n",
    "print(\"Sizae of training y: {}. \".format(train_y_size))\n",
    "print(\"Size of test x: {}. \".format(test_x_size)) \n",
    "print(\"Size of test y: {}. \".format(test_y_size))"
   ]
  },
  {
   "cell_type": "markdown",
   "metadata": {},
   "source": [
    "## Model Training: Logistic Regression"
   ]
  },
  {
   "cell_type": "code",
   "execution_count": 302,
   "metadata": {},
   "outputs": [
    {
     "name": "stdout",
     "output_type": "stream",
     "text": [
      "[0.91 0.91 0.91 0.91 0.91]\n"
     ]
    }
   ],
   "source": [
    "#Start the timer as a measure of the computing effort\n",
    "start_time = time.time()\n",
    "\n",
    "# Check any overfitting problem using Cross Fold validation\n",
    "log_reg = sklearn.linear_model.LogisticRegression()\n",
    "score = sklearn.cross_validation.cross_val_score(log_reg, train_x, train_y, cv=CF_no)\n",
    "print(score)"
   ]
  },
  {
   "cell_type": "code",
   "execution_count": 303,
   "metadata": {},
   "outputs": [
    {
     "name": "stdout",
     "output_type": "stream",
     "text": [
      "{'C': 0.1, 'penalty': 'l1'}\n",
      "--- 8 seconds ---\n"
     ]
    }
   ],
   "source": [
    "#Tune parameters\n",
    "# C parameter\n",
    "c_param = [0.1,0.5,1, 2, 5, 10]\n",
    "\n",
    "#Tune the type of penalty used between l1 and l2\n",
    "penalty_type = ['l1','l2']\n",
    "parameters = {'C': c_param, 'penalty': penalty_type}\n",
    "\n",
    "#Fit parameters\n",
    "%timeit  \n",
    "log_reg_tuned = GridSearchCV(log_reg, param_grid=parameters, cv=CF_no)\n",
    "\n",
    "#Fit the tuned classifier in the training space\n",
    "log_reg_tuned.fit(train_x, train_y)\n",
    "\n",
    "#Print the best parameters\n",
    "print(log_reg_tuned.best_params_)\n",
    "\n",
    "#Print the time required to fit and evaluate the model\n",
    "print(\"--- %s seconds ---\" % round((time.time() - start_time)))"
   ]
  },
  {
   "cell_type": "code",
   "execution_count": 304,
   "metadata": {},
   "outputs": [],
   "source": [
    "# Check the prediction power of the model\n",
    "pred_y = np.array(log_reg_tuned.predict(test_x))\n",
    "true_y = np.array(test_y)"
   ]
  },
  {
   "cell_type": "markdown",
   "metadata": {},
   "source": [
    "### Evaluating the model\n",
    "Below we will use the confusion matrix which is a way of tabulating the number of misclassifications. Also, we can see the number of predicted classes which were categorized wrongly as true. But before that we need to set up a function that also plots the outcome of this matrix."
   ]
  },
  {
   "cell_type": "code",
   "execution_count": 305,
   "metadata": {},
   "outputs": [],
   "source": [
    "# A function to create confusion matrix. Part 1 of 2\n",
    "# This is part 1 that can be used for all models. Part 2 depends on model specific data\n",
    "\n",
    "import itertools  \n",
    "def plot_confusion_matrix(cm, classes,\n",
    "                          normalize=False,\n",
    "                          title='Confusion matrix',\n",
    "                          cmap=plt.cm.Blues):\n",
    "    \"\"\"\n",
    "    This function prints and plots the confusion matrix.\n",
    "    Normalization can be applied by setting `normalize=True.\n",
    "    \"\"\"\n",
    "    if normalize:\n",
    "        cm = cm.astype('float') / cm.sum(axis=1)[:, np.newaxis]\n",
    "        print(\"Normalized confusion matrix\")\n",
    "    else:\n",
    "        print('Confusion matrix, without normalization')\n",
    "\n",
    "    print(cm)\n",
    "\n",
    "    plt.imshow(cm, interpolation='nearest', cmap=cmap)\n",
    "    plt.title(title)\n",
    "    plt.colorbar()\n",
    "    tick_marks = np.arange(len(classes))\n",
    "    plt.xticks(tick_marks, classes, rotation=45)\n",
    "    plt.yticks(tick_marks, classes)\n",
    "\n",
    "    fmt = '.2f' if normalize else 'd'\n",
    "    thresh = cm.max() / 2.\n",
    "    for i, j in itertools.product(range(cm.shape[0]), range(cm.shape[1])):\n",
    "        plt.text(j, i, format(cm[i, j], fmt),\n",
    "                 horizontalalignment=\"center\",\n",
    "                 color=\"white\" if cm[i, j] > thresh else \"black\")\n",
    "\n",
    "    plt.tight_layout()\n",
    "    plt.ylabel('True label')\n",
    "    plt.xlabel('Predicted label')\n",
    "    \n",
    "class_names = ['On Time', 'Late'] # Use this global variable for classification variable names"
   ]
  },
  {
   "cell_type": "code",
   "execution_count": 306,
   "metadata": {},
   "outputs": [
    {
     "name": "stdout",
     "output_type": "stream",
     "text": [
      "Confusion matrix, without normalization\n",
      "[[12788     0]\n",
      " [ 1251     0]]\n"
     ]
    },
    {
     "data": {
      "image/png": "[encoded data removed]",
      "text/plain": [
       "<Figure size 432x288 with 2 Axes>"
      ]
     },
     "metadata": {},
     "output_type": "display_data"
    }
   ],
   "source": [
    "# A function to create confusion matrix. Part 2 of 2\n",
    "#class_names = ['Labeled 0', 'Labeled 1']\n",
    "np.set_printoptions(precision=2)\n",
    "\n",
    "cnf_matrix = confusion_matrix(true_y, pred_y)\n",
    "plt.figure()\n",
    "plot_confusion_matrix(cnf_matrix, classes=class_names, \n",
    "                      title='Confusion matrix')\n",
    "plt.show()\n",
    "\n",
    "# IMPORTANT: first argument is true values, second argument is predicted values\n",
    "# this produces a 2x2 numpy array (matrix)"
   ]
  },
  {
   "cell_type": "code",
   "execution_count": 307,
   "metadata": {},
   "outputs": [
    {
     "name": "stdout",
     "output_type": "stream",
     "text": [
      "             precision    recall  f1-score   support\n",
      "\n",
      "    On Time       0.91      1.00      0.95     12788\n",
      "       Late       0.00      0.00      0.00      1251\n",
      "\n",
      "avg / total       0.83      0.91      0.87     14039\n",
      "\n"
     ]
    }
   ],
   "source": [
    "target_names = class_names\n",
    "print(classification_report(true_y, pred_y, target_names=target_names))"
   ]
  },
  {
   "cell_type": "code",
   "execution_count": 308,
   "metadata": {},
   "outputs": [
    {
     "name": "stdout",
     "output_type": "stream",
     "text": [
      "True Positives (TP): We correctly predicted the fraud: 0. \n",
      "True Negatives (TN): we correctly predicted that no fraud: 12788. \n",
      "False Positives (FP): we incorrectly predicted that it is a fraud or Type I error: 0. \n",
      "False Negatives (FN): we incorrectly predicted that it is not a fraud or Type II error: 1251. \n",
      "===================================================\n",
      "Overall, how often is the classifier correct (accuracy)? 0.9108910891089109. \n",
      "Overall, how often is the classifier incorrect? 0.0891089108910891. \n",
      "When the actual value is positive, how often is the prediction correct (sensitivity or recall)? 0.0.\n",
      "When the actual value is negative, how often is the prediction correct (specificity)? 1.0.\n",
      "When the actual value is negative, how often is the prediction incorrect (false positive rate)? 0.0.\n",
      "When a positive value is predicted, how often is the prediction correct (precision)? nan.\n"
     ]
    }
   ],
   "source": [
    "# Metrics computed from a confusion matrix\n",
    "TP = cnf_matrix[1, 1]\n",
    "TN = cnf_matrix[0, 0]\n",
    "FP = cnf_matrix[0, 1]\n",
    "FN = cnf_matrix[1, 0]\n",
    "\n",
    "print(\"True Positives (TP): We correctly predicted the fraud: {}. \".format(TP))\n",
    "print(\"True Negatives (TN): we correctly predicted that no fraud: {}. \".format(TN))\n",
    "print(\"False Positives (FP): we incorrectly predicted that it is a fraud or Type I error: {}. \".format(FP))\n",
    "print(\"False Negatives (FN): we incorrectly predicted that it is not a fraud or Type II error: {}. \".format(FN))\n",
    "\n",
    "print(\"===================================================\")\n",
    "\n",
    "print(\"Overall, how often is the classifier correct (accuracy)? {}. \".format((TP + TN) / float(TP + TN + FP + FN)))      \n",
    "print(\"Overall, how often is the classifier incorrect? {}. \".format((FP + FN) / float(TP + TN + FP + FN))) \n",
    "print(\"When the actual value is positive, how often is the prediction correct (sensitivity or recall)? {}.\".format(TP / float(FN + TP))) \n",
    "print(\"When the actual value is negative, how often is the prediction correct (specificity)? {}.\".format(TN / (TN + FP))) \n",
    "print(\"When the actual value is negative, how often is the prediction incorrect (false positive rate)? {}.\".format(FP / float(TN + FP))) \n",
    "print(\"When a positive value is predicted, how often is the prediction correct (precision)? {}.\".format(TP / float(TP + FP))) "
   ]
  },
  {
   "cell_type": "markdown",
   "metadata": {},
   "source": [
    "Next, we will try a different model to see if we can reduce this error."
   ]
  },
  {
   "cell_type": "markdown",
   "metadata": {},
   "source": [
    "## Model Training: Decision Tree"
   ]
  },
  {
   "cell_type": "code",
   "execution_count": 309,
   "metadata": {},
   "outputs": [
    {
     "name": "stdout",
     "output_type": "stream",
     "text": [
      "[0.97 0.97 0.98 0.97 0.98]\n"
     ]
    }
   ],
   "source": [
    "#Start the timer as a measure of the computing effort\n",
    "start_time = time.time()\n",
    "\n",
    "D_tree = DecisionTreeClassifier(random_state=37)\n",
    "score = sklearn.cross_validation.cross_val_score(D_tree, train_x, train_y, cv=CF_no)\n",
    "print(score)"
   ]
  },
  {
   "cell_type": "code",
   "execution_count": 310,
   "metadata": {},
   "outputs": [
    {
     "name": "stdout",
     "output_type": "stream",
     "text": [
      "{'criterion': 'entropy', 'max_depth': 15, 'min_samples_leaf': 3}\n",
      "--- 4 seconds ---\n"
     ]
    }
   ],
   "source": [
    "D_tree = DecisionTreeClassifier(random_state=37)\n",
    "params = {\"max_depth\": [2, 3, 4, 5, 10, 15], \"min_samples_leaf\": sp_randint(1, 5), \n",
    "          \"criterion\": [\"gini\", \"entropy\"]}\n",
    "\n",
    "D_tree_tuned = RandomizedSearchCV(D_tree, params)\n",
    "D_tree_tuned.fit(train_x,train_y)\n",
    "\n",
    "#Print the best parameters\n",
    "print(D_tree_tuned.best_params_)  \n",
    "\n",
    "#Print the time required to fit and evaluate the model\n",
    "print(\"--- %s seconds ---\" % round((time.time() - start_time)))"
   ]
  },
  {
   "cell_type": "code",
   "execution_count": 311,
   "metadata": {},
   "outputs": [
    {
     "name": "stdout",
     "output_type": "stream",
     "text": [
      "[0.97 0.97 0.98 0.97 0.98]\n"
     ]
    },
    {
     "data": {
      "text/plain": [
       "DecisionTreeClassifier(class_weight=None, criterion='entropy', max_depth=3,\n",
       "            max_features=None, max_leaf_nodes=None,\n",
       "            min_impurity_decrease=0.0, min_impurity_split=None,\n",
       "            min_samples_leaf=4, min_samples_split=2,\n",
       "            min_weight_fraction_leaf=0.0, presort=False, random_state=1337,\n",
       "            splitter='best')"
      ]
     },
     "execution_count": 311,
     "metadata": {},
     "output_type": "execute_result"
    }
   ],
   "source": [
    "# Using the best parameters\n",
    "from sklearn import tree\n",
    "decision_tree = tree.DecisionTreeClassifier(\n",
    "    criterion='entropy',\n",
    "    min_samples_leaf= 4,\n",
    "    max_depth=3,\n",
    "    random_state = 1337\n",
    ")\n",
    "score = sklearn.cross_validation.cross_val_score(D_tree, train_x, train_y, cv=CF_no)\n",
    "print(score)\n",
    "decision_tree.fit(train_x,train_y)"
   ]
  },
  {
   "cell_type": "code",
   "execution_count": 312,
   "metadata": {},
   "outputs": [
    {
     "data": {
      "image/png": "[encoded data removed]",
      "text/plain": [
       "<IPython.core.display.Image object>"
      ]
     },
     "execution_count": 312,
     "metadata": {},
     "output_type": "execute_result"
    }
   ],
   "source": [
    "#names = scaled_features_only.iloc[:TRA_INDEX, 1:-2].columns # Names of X features \n",
    "names = df_features_pick[sample].columns # Names of X features \n",
    "\n",
    "# Render the decision tree\n",
    "dot_data = tree.export_graphviz(decision_tree, out_file=None, feature_names = names, \n",
    "    class_names = ['On Time', 'Late'],\n",
    "    filled=True)\n",
    "graph = pydotplus.graph_from_dot_data(dot_data)\n",
    "Image(graph.create_png())"
   ]
  },
  {
   "cell_type": "code",
   "execution_count": 313,
   "metadata": {},
   "outputs": [],
   "source": [
    "# Check the prediction power of the model\n",
    "pred_y = np.array(D_tree_tuned.predict(test_x))\n",
    "true_y = np.array(test_y)"
   ]
  },
  {
   "cell_type": "code",
   "execution_count": 314,
   "metadata": {},
   "outputs": [
    {
     "name": "stdout",
     "output_type": "stream",
     "text": [
      "Confusion matrix, without normalization\n",
      "[[12613   175]\n",
      " [  228  1023]]\n"
     ]
    },
    {
     "data": {
      "image/png": "[encoded data removed]",
      "text/plain": [
       "<Figure size 432x288 with 2 Axes>"
      ]
     },
     "metadata": {},
     "output_type": "display_data"
    }
   ],
   "source": [
    "#class_names = ['Labeled 0', 'Labeled 1']\n",
    "np.set_printoptions(precision=2)\n",
    "\n",
    "cnf_matrix = confusion_matrix(true_y, pred_y)\n",
    "plt.figure()\n",
    "plot_confusion_matrix(cnf_matrix, classes=class_names, \n",
    "                      title='Confusion matrix')\n",
    "plt.show()"
   ]
  },
  {
   "cell_type": "code",
   "execution_count": 315,
   "metadata": {},
   "outputs": [
    {
     "name": "stdout",
     "output_type": "stream",
     "text": [
      "             precision    recall  f1-score   support\n",
      "\n",
      "    On Time       0.98      0.99      0.98     12788\n",
      "       Late       0.85      0.82      0.84      1251\n",
      "\n",
      "avg / total       0.97      0.97      0.97     14039\n",
      "\n"
     ]
    }
   ],
   "source": [
    "target_names = class_names\n",
    "print(classification_report(true_y, pred_y, target_names=target_names))"
   ]
  },
  {
   "cell_type": "code",
   "execution_count": 316,
   "metadata": {},
   "outputs": [
    {
     "name": "stdout",
     "output_type": "stream",
     "text": [
      "True Positives (TP): We correctly predicted the fraud: 1023. \n",
      "True Negatives (TN): we correctly predicted that no fraud: 12613. \n",
      "False Positives (FP): we incorrectly predicted that it is a fraud or Type I error: 175. \n",
      "False Negatives (FN): we incorrectly predicted that it is not a fraud or Type II error: 228. \n",
      "===================================================\n",
      "Overall, how often is the classifier correct (accuracy)? 0.971294251727331. \n",
      "Overall, how often is the classifier incorrect? 0.028705748272668995. \n",
      "When the actual value is positive, how often is the prediction correct (sensitivity or recall)? 0.8177458033573142.\n",
      "When the actual value is negative, how often is the prediction correct (specificity)? 0.9863152955896153.\n",
      "When the actual value is negative, how often is the prediction incorrect (false positive rate)? 0.013684704410384736.\n",
      "When a positive value is predicted, how often is the prediction correct (precision)? 0.8539232053422371.\n"
     ]
    }
   ],
   "source": [
    "# Metrics computed from a confusion matrix\n",
    "TP = cnf_matrix[1, 1]\n",
    "TN = cnf_matrix[0, 0]\n",
    "FP = cnf_matrix[0, 1]\n",
    "FN = cnf_matrix[1, 0]\n",
    "\n",
    "print(\"True Positives (TP): We correctly predicted the fraud: {}. \".format(TP))\n",
    "print(\"True Negatives (TN): we correctly predicted that no fraud: {}. \".format(TN))\n",
    "print(\"False Positives (FP): we incorrectly predicted that it is a fraud or Type I error: {}. \".format(FP))\n",
    "print(\"False Negatives (FN): we incorrectly predicted that it is not a fraud or Type II error: {}. \".format(FN))\n",
    "\n",
    "print(\"===================================================\")\n",
    "\n",
    "print(\"Overall, how often is the classifier correct (accuracy)? {}. \".format((TP + TN) / float(TP + TN + FP + FN)))      \n",
    "print(\"Overall, how often is the classifier incorrect? {}. \".format((FP + FN) / float(TP + TN + FP + FN))) \n",
    "print(\"When the actual value is positive, how often is the prediction correct (sensitivity or recall)? {}.\".format(TP / float(FN + TP))) \n",
    "print(\"When the actual value is negative, how often is the prediction correct (specificity)? {}.\".format(TN / (TN + FP))) \n",
    "print(\"When the actual value is negative, how often is the prediction incorrect (false positive rate)? {}.\".format(FP / float(TN + FP))) \n",
    "print(\"When a positive value is predicted, how often is the prediction correct (precision)? {}.\".format(TP / float(TP + FP))) "
   ]
  },
  {
   "cell_type": "markdown",
   "metadata": {},
   "source": [
    "## Model Training: Random Forest"
   ]
  },
  {
   "cell_type": "code",
   "execution_count": 317,
   "metadata": {},
   "outputs": [
    {
     "name": "stdout",
     "output_type": "stream",
     "text": [
      "Scores of cross fold validation: [0.98 0.98 0.98 0.98 0.98]  by 5 number of foldings \n"
     ]
    }
   ],
   "source": [
    "#Start the timer as a measure of the computing effort\n",
    "start_time = time.time()\n",
    "\n",
    "Random_f = ensemble.RandomForestClassifier()\n",
    "\n",
    "# Fold Cross validation\n",
    "score = sklearn.cross_validation.cross_val_score(Random_f, train_x, train_y, cv=CF_no)\n",
    "\n",
    "# Fold Cross validation\n",
    "print(\"Scores of cross fold validation: {}\".format(score), \" by {} number of foldings \".format(CF_no))"
   ]
  },
  {
   "cell_type": "code",
   "execution_count": 318,
   "metadata": {},
   "outputs": [
    {
     "name": "stdout",
     "output_type": "stream",
     "text": [
      "--- 3 seconds ---\n"
     ]
    }
   ],
   "source": [
    "Random_f.fit(train_x, train_y)\n",
    "RandomForestClassifier(bootstrap=True, class_weight=None, criterion='entropy',\n",
    "            max_depth=3, max_features='auto', max_leaf_nodes=None,\n",
    "            min_impurity_decrease=0.0, min_impurity_split=None,\n",
    "            min_samples_leaf=1, min_samples_split=2,\n",
    "            min_weight_fraction_leaf=0.0, n_estimators=10, n_jobs=1,\n",
    "            oob_score=False, random_state=0, verbose=0, warm_start=False)\n",
    "#print(Random_f.feature_importances_)\n",
    "\n",
    "#Print the time required to fit and evaluate the model\n",
    "print(\"--- %s seconds ---\" % round((time.time() - start_time)))"
   ]
  },
  {
   "cell_type": "code",
   "execution_count": 319,
   "metadata": {},
   "outputs": [],
   "source": [
    "# Check the prediction power of the model\n",
    "pred_y = np.array(Random_f.predict(test_x))\n",
    "true_y = np.array(test_y)"
   ]
  },
  {
   "cell_type": "code",
   "execution_count": 320,
   "metadata": {},
   "outputs": [
    {
     "name": "stdout",
     "output_type": "stream",
     "text": [
      "Confusion matrix, without normalization\n",
      "[[12715    73]\n",
      " [  225  1026]]\n"
     ]
    },
    {
     "data": {
      "image/png": "[encoded data removed]",
      "text/plain": [
       "<Figure size 432x288 with 2 Axes>"
      ]
     },
     "metadata": {},
     "output_type": "display_data"
    }
   ],
   "source": [
    "class_names = ['Labeled 0', 'Labeled 1']\n",
    "np.set_printoptions(precision=2)\n",
    "\n",
    "cnf_matrix = confusion_matrix(true_y, pred_y)\n",
    "plt.figure()\n",
    "plot_confusion_matrix(cnf_matrix, classes=class_names, \n",
    "                      title='Confusion matrix')\n",
    "plt.show()"
   ]
  },
  {
   "cell_type": "code",
   "execution_count": 321,
   "metadata": {},
   "outputs": [
    {
     "name": "stdout",
     "output_type": "stream",
     "text": [
      "True Positives (TP): We correctly predicted the fraud: 1026. \n",
      "True Negatives (TN): we correctly predicted that no fraud: 12715. \n",
      "False Positives (FP): we incorrectly predicted that it is a fraud or Type I error: 73. \n",
      "False Negatives (FN): we incorrectly predicted that it is not a fraud or Type II error: 225. \n",
      "===================================================\n",
      "Overall, how often is the classifier correct (accuracy)? 0.9787734169100363. \n",
      "Overall, how often is the classifier incorrect? 0.021226583089963672. \n",
      "When the actual value is positive, how often is the prediction correct (sensitivity or recall)? 0.8201438848920863.\n",
      "When the actual value is negative, how often is the prediction correct (specificity)? 0.9942915233030967.\n",
      "When the actual value is negative, how often is the prediction incorrect (false positive rate)? 0.005708476696903347.\n",
      "When a positive value is predicted, how often is the prediction correct (precision)? 0.9335759781619655.\n"
     ]
    }
   ],
   "source": [
    "# Metrics computed from a confusion matrix\n",
    "TP = cnf_matrix[1, 1]\n",
    "TN = cnf_matrix[0, 0]\n",
    "FP = cnf_matrix[0, 1]\n",
    "FN = cnf_matrix[1, 0]\n",
    "\n",
    "print(\"True Positives (TP): We correctly predicted the fraud: {}. \".format(TP))\n",
    "print(\"True Negatives (TN): we correctly predicted that no fraud: {}. \".format(TN))\n",
    "print(\"False Positives (FP): we incorrectly predicted that it is a fraud or Type I error: {}. \".format(FP))\n",
    "print(\"False Negatives (FN): we incorrectly predicted that it is not a fraud or Type II error: {}. \".format(FN))\n",
    "\n",
    "print(\"===================================================\")\n",
    "\n",
    "print(\"Overall, how often is the classifier correct (accuracy)? {}. \".format((TP + TN) / float(TP + TN + FP + FN)))      \n",
    "print(\"Overall, how often is the classifier incorrect? {}. \".format((FP + FN) / float(TP + TN + FP + FN))) \n",
    "print(\"When the actual value is positive, how often is the prediction correct (sensitivity or recall)? {}.\".format(TP / float(FN + TP))) \n",
    "print(\"When the actual value is negative, how often is the prediction correct (specificity)? {}.\".format(TN / (TN + FP))) \n",
    "print(\"When the actual value is negative, how often is the prediction incorrect (false positive rate)? {}.\".format(FP / float(TN + FP))) \n",
    "print(\"When a positive value is predicted, how often is the prediction correct (precision)? {}.\".format(TP / float(TP + FP))) "
   ]
  },
  {
   "cell_type": "code",
   "execution_count": 322,
   "metadata": {},
   "outputs": [],
   "source": [
    "# Which metrics should you focus on?\n",
    "# This is the case of fraud detection therefore we should optimize for sensitivity or recall:\n",
    "# FN is in this case more important as false positives (normal transactions that are marked as possible fraud\n",
    "# are more acceptable than false negatives where actual fraud has happened and we fail to detect"
   ]
  },
  {
   "cell_type": "markdown",
   "metadata": {},
   "source": [
    "We try another model."
   ]
  },
  {
   "cell_type": "markdown",
   "metadata": {},
   "source": [
    "## Model Training: Naive Bayes"
   ]
  },
  {
   "cell_type": "code",
   "execution_count": 323,
   "metadata": {},
   "outputs": [],
   "source": [
    "# train_x = features_only[sample]\n",
    "# test_x = features_only[~sample]\n",
    "# train_y = df_class.iloc[sample,0]\n",
    "# test_y = df_class.iloc[~sample,0]"
   ]
  },
  {
   "cell_type": "code",
   "execution_count": 324,
   "metadata": {},
   "outputs": [],
   "source": [
    "# # Prepare dataframe tables\n",
    "# X = features_only #.iloc[:, 1:-2].values\n",
    "# y = df_class.iloc[:,0] #scaled_features_only.iloc[:, -1].values"
   ]
  },
  {
   "cell_type": "code",
   "execution_count": 325,
   "metadata": {},
   "outputs": [],
   "source": [
    "X_train = train_x\n",
    "y_train = train_y\n",
    "X_test = test_x\n",
    "y_test = test_y"
   ]
  },
  {
   "cell_type": "code",
   "execution_count": 326,
   "metadata": {},
   "outputs": [],
   "source": [
    "# X_train = scaled_features_only.iloc[:TRA_INDEX, 1:-2].values\n",
    "# y_train = scaled_features_only.iloc[:TRA_INDEX, -1].values\n",
    "# X_test = scaled_features_only.iloc[TRA_INDEX:, 1:-2].values\n",
    "# y_test = scaled_features_only.iloc[TRA_INDEX:, -1].values"
   ]
  },
  {
   "cell_type": "markdown",
   "metadata": {},
   "source": [
    "In this classification exercise we are also interested in the associated probabilities. These probabilities give us a some kind of confidence on the prediction. However, not all classifiers provide well-calibrated probabilities, some being over-confident while others being under-confident. Thus, a separate calibration of predicted probabilities is often desirable as a postprocessing. Below we use different calibration methods to evaluate the quality of the returned probabilities using Brier’s score."
   ]
  },
  {
   "cell_type": "code",
   "execution_count": 327,
   "metadata": {},
   "outputs": [
    {
     "name": "stdout",
     "output_type": "stream",
     "text": [
      "Brier scores: (the smaller the better)\n",
      "No calibration: 0.106\n",
      "With isotonic calibration: 0.075\n",
      "With sigmoid calibration: 0.081\n",
      "--- 0 seconds ---\n"
     ]
    }
   ],
   "source": [
    "# Use the Brier score which measures the accuracy of probabilistic predictions. \n",
    "# It is applicable to tasks in which predictions must assign probabilities to a set of mutually \n",
    "# exclusive discrete outcomes.”\n",
    "# This function returns a score of the mean square difference between \n",
    "# the actual outcome and the predicted probability of the possible outcome. \n",
    "# The actual outcome has to be 1 or 0 (true or false), while the predicted probability of the actual \n",
    "# outcome can be a value between 0 and 1.\n",
    "\n",
    "# The brier score loss is also between 0 to 1 and the lower the score (the mean square difference is smaller), \n",
    "# the more accurate the prediction is. \n",
    "# It can be thought of as a measure of the “calibration” of a set of probabilistic predictions.\n",
    "\n",
    "#Start the timer as a measure of the computing effort\n",
    "start_time = time.time()\n",
    "\n",
    "# Gaussian Naive-Bayes with no calibration\n",
    "clf = GaussianNB()\n",
    "clf.fit(train_x, train_y)  # GaussianNB itself does not support sample-weights\n",
    "prob_pos_clf = clf.predict_proba(test_x)[:, 1]\n",
    "\n",
    "# Gaussian Naive-Bayes with isotonic calibration\n",
    "clf_isotonic = CalibratedClassifierCV(clf, cv=CF_no, method='isotonic')\n",
    "clf_isotonic.fit(train_x, train_y) #, sw_train)\n",
    "prob_pos_isotonic = clf_isotonic.predict_proba(test_x)[:, 1]\n",
    "\n",
    "# Gaussian Naive-Bayes with sigmoid calibration\n",
    "clf_sigmoid = CalibratedClassifierCV(clf, cv=CF_no, method='sigmoid')\n",
    "clf_sigmoid.fit(train_x, train_y) #, sw_train)\n",
    "prob_pos_sigmoid = clf_sigmoid.predict_proba(test_x)[:, 1]\n",
    "\n",
    "print(\"Brier scores: (the smaller the better)\")\n",
    "\n",
    "clf_score = brier_score_loss(test_y, prob_pos_clf) # , sw_test)\n",
    "print(\"No calibration: %1.3f\" % clf_score)\n",
    "\n",
    "clf_isotonic_score = brier_score_loss(test_y, prob_pos_isotonic) # , sw_test)\n",
    "print(\"With isotonic calibration: %1.3f\" % clf_isotonic_score)\n",
    "\n",
    "clf_sigmoid_score = brier_score_loss(test_y, prob_pos_sigmoid) # , sw_test)\n",
    "print(\"With sigmoid calibration: %1.3f\" % clf_sigmoid_score)\n",
    "\n",
    "\n",
    "#Print the time required to fit and evaluate the model\n",
    "print(\"--- %s seconds ---\" % round((time.time() - start_time)))"
   ]
  },
  {
   "cell_type": "markdown",
   "metadata": {},
   "source": [
    "Based on Brier scores isotoic calibration is working best. "
   ]
  },
  {
   "cell_type": "code",
   "execution_count": 328,
   "metadata": {},
   "outputs": [],
   "source": [
    "# # Plot the predicted probabilities\n",
    "# plt.figure()\n",
    "# order = np.lexsort((prob_pos_clf, ))\n",
    "# plt.plot(prob_pos_clf[order], 'r', label='No calibration (%1.3f)' % clf_score)\n",
    "\n",
    "# plt.plot(prob_pos_isotonic[order], 'g', linewidth=3,\n",
    "#          label='Isotonic calibration (%1.3f)' % clf_isotonic_score)\n",
    "\n",
    "# plt.plot(prob_pos_sigmoid[order], 'b', linewidth=3,\n",
    "#          label='Sigmoid calibration (%1.3f)' % clf_sigmoid_score)\n",
    "\n",
    "# plt.plot(np.linspace(0, y_test.size, 51)[1::2], y_test[order].reshape(25, -1).mean(1),\n",
    "#          'k', linewidth=3, label=r'Empirical')\n",
    "\n",
    "# plt.ylim([-0.05, 1.05])\n",
    "# plt.xlabel(\"Instances sorted according to predicted probability \"\n",
    "#            \"(uncalibrated GNB)\")\n",
    "# plt.ylabel(\"P(y=1)\")\n",
    "# plt.legend(loc=\"upper left\")\n",
    "# plt.title(\"Gaussian naive Bayes probabilities\")\n",
    "\n",
    "# plt.show()"
   ]
  },
  {
   "cell_type": "markdown",
   "metadata": {},
   "source": [
    "Below we continue using Naive Bayes caliberated with isotonic method. "
   ]
  },
  {
   "cell_type": "code",
   "execution_count": 329,
   "metadata": {},
   "outputs": [
    {
     "name": "stdout",
     "output_type": "stream",
     "text": [
      "Computational efforts: 0.0 seconds ---\n",
      "Accuracy: 0.9108910891089109. \n",
      "Precision: 0.0. \n",
      "Recall: 0.0. \n"
     ]
    }
   ],
   "source": [
    "# We see isotonic calibration is performing best and below we run model evaluation on this version of Naive Bayes\n",
    "\n",
    "y_pred_test = clf_sigmoid.predict(X_test)\n",
    "\n",
    "#Print the time required to fit and evaluate the model\n",
    "start_time = time.time()\n",
    "print(\"Computational efforts: %s seconds ---\" % (time.time() - start_time))\n",
    "\n",
    "clf_isotonic_accuracy = accuracy_score(y_pred=y_pred_test, y_true=y_test)\n",
    "clf_isotonic_precision = precision_score(y_pred=y_pred_test, y_true=y_test)\n",
    "clf_isotonic_recall = recall_score(y_pred=y_pred_test, y_true=y_test)\n",
    "\n",
    "print(\"Accuracy: {}. \".format(clf_isotonic_accuracy))\n",
    "print(\"Precision: {}. \".format(clf_isotonic_precision))\n",
    "print(\"Recall: {}. \".format(clf_isotonic_recall))"
   ]
  },
  {
   "cell_type": "code",
   "execution_count": 330,
   "metadata": {},
   "outputs": [
    {
     "name": "stdout",
     "output_type": "stream",
     "text": [
      "Confusion matrix, without normalization\n",
      "[[12788     0]\n",
      " [ 1251     0]]\n"
     ]
    },
    {
     "data": {
      "image/png": "[encoded data removed]",
      "text/plain": [
       "<Figure size 432x288 with 2 Axes>"
      ]
     },
     "metadata": {},
     "output_type": "display_data"
    }
   ],
   "source": [
    "# Confusion matrix\n",
    "cnf_matrix = confusion_matrix(y_pred=y_pred_test, y_true=y_test)\n",
    "plt.figure()\n",
    "plot_confusion_matrix(cnf_matrix, classes=class_names, \n",
    "                      title='Confusion matrix')\n",
    "plt.show()"
   ]
  },
  {
   "cell_type": "markdown",
   "metadata": {},
   "source": [
    "## Model Training: KNeighbors "
   ]
  },
  {
   "cell_type": "code",
   "execution_count": 331,
   "metadata": {},
   "outputs": [
    {
     "name": "stdout",
     "output_type": "stream",
     "text": [
      "Best Hyper Parameters: {'n_neighbors': 3, 'weights': 'distance'}\n",
      "--- 14 seconds ---\n"
     ]
    }
   ],
   "source": [
    "# from sklearn import preprocessing, model_selection, neighbors\n",
    "# from sklearn.metrics import confusion_matrix, average_precision_score\n",
    "\n",
    "#Start the timer as a measure of the computing effort\n",
    "start_time = time.time()\n",
    "\n",
    "KNN = KNeighborsClassifier()  #initialize the KNN classifier\n",
    "\n",
    "# Create range of values to fit parameters\n",
    "neighbors = [3,5,7]\n",
    "weight_sys = ['distance','uniform']\n",
    "parameters = {'n_neighbors': neighbors, 'weights': weight_sys}\n",
    "\n",
    "# Fit parameters using gridsearch\n",
    "clf = GridSearchCV(KNN, param_grid=parameters, cv=CF_no)\n",
    "\n",
    "#Fit the tunned model on the training set\n",
    "clf.fit(train_x,train_y)\n",
    "\n",
    "# Print the best hyperparameters set\n",
    "print(\"Best Hyper Parameters:\", clf.best_params_)\n",
    "\n",
    "#Initialize the model on test dataset\n",
    "clf.fit(test_x, test_y)\n",
    "\n",
    "# Predict on test dataset\n",
    "y_pred = clf.predict(test_x)\n",
    "\n",
    "# Check the prediction power of the model\n",
    "pred_y = np.array(clf.predict(test_x))\n",
    "true_y = np.array(test_y)\n",
    "\n",
    "#Print the time required to fit and evaluate the model\n",
    "print(\"--- %s seconds ---\" % round((time.time() - start_time)))"
   ]
  },
  {
   "cell_type": "code",
   "execution_count": 332,
   "metadata": {},
   "outputs": [
    {
     "name": "stdout",
     "output_type": "stream",
     "text": [
      "Confusion matrix, without normalization\n",
      "[[12788     0]\n",
      " [    0  1251]]\n"
     ]
    },
    {
     "data": {
      "image/png": "[encoded data removed]",
      "text/plain": [
       "<Figure size 432x288 with 2 Axes>"
      ]
     },
     "metadata": {},
     "output_type": "display_data"
    }
   ],
   "source": [
    "class_names = ['Labeled 0', 'Labeled 1']\n",
    "np.set_printoptions(precision=2)\n",
    "\n",
    "cnf_matrix = confusion_matrix(true_y, pred_y)\n",
    "plt.figure()\n",
    "plot_confusion_matrix(cnf_matrix, classes=class_names, \n",
    "                      title='Confusion matrix')\n",
    "plt.show()"
   ]
  },
  {
   "cell_type": "code",
   "execution_count": 333,
   "metadata": {},
   "outputs": [
    {
     "name": "stdout",
     "output_type": "stream",
     "text": [
      "True Positives (TP): We correctly predicted the fraud: 1251. \n",
      "True Negatives (TN): we correctly predicted that no fraud: 12788. \n",
      "False Positives (FP): we incorrectly predicted that it is a fraud or Type I error: 0. \n",
      "False Negatives (FN): we incorrectly predicted that it is not a fraud or Type II error: 0. \n",
      "===================================================\n",
      "Overall, how often is the classifier correct (accuracy)? 1.0. \n",
      "Overall, how often is the classifier incorrect? 0.0. \n",
      "When the actual value is positive, how often is the prediction correct (sensitivity or recall)? 1.0.\n",
      "When the actual value is negative, how often is the prediction correct (specificity)? 1.0.\n",
      "When the actual value is negative, how often is the prediction incorrect (false positive rate)? 0.0.\n",
      "When a positive value is predicted, how often is the prediction correct (precision)? 1.0.\n"
     ]
    }
   ],
   "source": [
    "# Metrics computed from a confusion matrix\n",
    "TP = cnf_matrix[1, 1]\n",
    "TN = cnf_matrix[0, 0]\n",
    "FP = cnf_matrix[0, 1]\n",
    "FN = cnf_matrix[1, 0]\n",
    "\n",
    "print(\"True Positives (TP): We correctly predicted the fraud: {}. \".format(TP))\n",
    "print(\"True Negatives (TN): we correctly predicted that no fraud: {}. \".format(TN))\n",
    "print(\"False Positives (FP): we incorrectly predicted that it is a fraud or Type I error: {}. \".format(FP))\n",
    "print(\"False Negatives (FN): we incorrectly predicted that it is not a fraud or Type II error: {}. \".format(FN))\n",
    "\n",
    "print(\"===================================================\")\n",
    "\n",
    "print(\"Overall, how often is the classifier correct (accuracy)? {}. \".format((TP + TN) / float(TP + TN + FP + FN)))      \n",
    "print(\"Overall, how often is the classifier incorrect? {}. \".format((FP + FN) / float(TP + TN + FP + FN))) \n",
    "print(\"When the actual value is positive, how often is the prediction correct (sensitivity or recall)? {}.\".format(TP / float(FN + TP))) \n",
    "print(\"When the actual value is negative, how often is the prediction correct (specificity)? {}.\".format(TN / (TN + FP))) \n",
    "print(\"When the actual value is negative, how often is the prediction incorrect (false positive rate)? {}.\".format(FP / float(TN + FP))) \n",
    "print(\"When a positive value is predicted, how often is the prediction correct (precision)? {}.\".format(TP / float(TP + FP))) "
   ]
  },
  {
   "cell_type": "markdown",
   "metadata": {},
   "source": [
    "## Model Training: Support Vector Machine"
   ]
  },
  {
   "cell_type": "code",
   "execution_count": null,
   "metadata": {},
   "outputs": [],
   "source": [
    "# Because of high cost of computation cost we do not tune the parameters here\n",
    "# Otherwise here are the code in case we can afford it\n",
    "## parameters = {'kernel':('linear', 'rbf'), 'C':[1, 10]}\n",
    "## Fit parameters using gridsearch\n",
    "## svc_tuned = GridSearchCV(svc, parameters, cv=CF_no)\n",
    "\n",
    "#Start the timer as a measure of the computing effort\n",
    "start_time = time.time()\n",
    "\n",
    "# # Initialize and fit the model\n",
    "svm = SVC(kernel = 'linear')\n",
    "svm.fit(train_x, train_y)\n",
    "\n",
    "# Predict on test dataset\n",
    "y_pred = svm.predict(test_x)\n",
    "\n",
    "# Check the prediction power of the model\n",
    "pred_y = np.array(svm.predict(test_x))\n",
    "true_y = np.array(test_y)\n",
    "\n",
    "#Print the time required to fit and evaluate the model\n",
    "print(\"--- %s seconds ---\" % round((time.time() - start_time)))"
   ]
  },
  {
   "cell_type": "code",
   "execution_count": null,
   "metadata": {},
   "outputs": [],
   "source": [
    "#class_names = ['Labeled 0', 'Labeled 1']\n",
    "np.set_printoptions(precision=2)\n",
    "\n",
    "cnf_matrix = confusion_matrix(true_y, pred_y)\n",
    "plt.figure()\n",
    "plot_confusion_matrix(cnf_matrix, classes=class_names, \n",
    "                      title='Confusion matrix')\n",
    "plt.show()"
   ]
  },
  {
   "cell_type": "code",
   "execution_count": null,
   "metadata": {},
   "outputs": [],
   "source": [
    "# Metrics computed from a confusion matrix\n",
    "TP = cnf_matrix[1, 1]\n",
    "TN = cnf_matrix[0, 0]\n",
    "FP = cnf_matrix[0, 1]\n",
    "FN = cnf_matrix[1, 0]\n",
    "\n",
    "print(\"True Positives (TP): We correctly predicted the fraud: {}. \".format(TP))\n",
    "print(\"True Negatives (TN): we correctly predicted that no fraud: {}. \".format(TN))\n",
    "print(\"False Positives (FP): we incorrectly predicted that it is a fraud or Type I error: {}. \".format(FP))\n",
    "print(\"False Negatives (FN): we incorrectly predicted that it is not a fraud or Type II error: {}. \".format(FN))\n",
    "\n",
    "print(\"===================================================\")\n",
    "\n",
    "print(\"Overall, how often is the classifier correct (accuracy)? {}. \".format((TP + TN) / float(TP + TN + FP + FN)))      \n",
    "print(\"Overall, how often is the classifier incorrect? {}. \".format((FP + FN) / float(TP + TN + FP + FN))) \n",
    "print(\"When the actual value is positive, how often is the prediction correct (sensitivity or recall)? {}.\".format(TP / float(FN + TP))) \n",
    "print(\"When the actual value is negative, how often is the prediction correct (specificity)? {}.\".format(TN / (TN + FP))) \n",
    "print(\"When the actual value is negative, how often is the prediction incorrect (false positive rate)? {}.\".format(FP / float(TN + FP))) \n",
    "print(\"When a positive value is predicted, how often is the prediction correct (precision)? {}.\".format(TP / float(TP + FP))) "
   ]
  },
  {
   "cell_type": "markdown",
   "metadata": {},
   "source": [
    "## Model Training: Gradient Boost"
   ]
  },
  {
   "cell_type": "code",
   "execution_count": null,
   "metadata": {},
   "outputs": [],
   "source": [
    "# Here we collect the cross-validation average accuracy \n",
    "# for a number of estimators in the range (1, 20). \n",
    "# The loss function is the default one (multinomial negative log-likelihood):\n",
    "\n",
    "Gradient_score_mean = []\n",
    "max_estimators = 20\n",
    "for i in range(1, max_estimators):\n",
    "    score = cross_val_score(GradientBoostingClassifier(n_estimators=i, learning_rate=5.0/float(i)),\n",
    "                            test_x, test_y, cv=10, scoring='accuracy').mean()\n",
    "Gradient_score_mean.append(score)\n",
    "print(\"Accuracy: {}\".format(Gradient_score_mean))"
   ]
  },
  {
   "cell_type": "code",
   "execution_count": null,
   "metadata": {},
   "outputs": [],
   "source": [
    "# Start the timer as a measure of the computing effort\n",
    "start_time = time.time()\n",
    "\n",
    "# We'll make 20 iterations, use 2-deep trees, and set our loss function.\n",
    "params = {'n_estimators': 20,\n",
    "          'max_depth': 3,\n",
    "          'loss': 'deviance'}\n",
    "\n",
    "# Initialize and fit the model.\n",
    "Gradeboost = ensemble.GradientBoostingClassifier(**params)\n",
    "Gradeboost.fit(train_x, train_y)\n",
    "\n",
    "# Predict on test dataset\n",
    "y_pred = clf.predict(test_x)\n",
    "\n",
    "# Check the prediction power of the model\n",
    "pred_y = np.array(clf.predict(test_x))\n",
    "true_y = np.array(test_y)\n",
    "\n",
    "#Print the time required to fit and evaluate the model\n",
    "print(\"--- %s seconds ---\" % round((time.time() - start_time)))"
   ]
  },
  {
   "cell_type": "code",
   "execution_count": null,
   "metadata": {},
   "outputs": [],
   "source": [
    "#class_names = ['Labeled 0', 'Labeled 1']\n",
    "np.set_printoptions(precision=2)\n",
    "\n",
    "cnf_matrix = confusion_matrix(true_y, pred_y)\n",
    "plt.figure()\n",
    "plot_confusion_matrix(cnf_matrix, classes=class_names, \n",
    "                      title='Confusion matrix')\n",
    "plt.show()"
   ]
  },
  {
   "cell_type": "code",
   "execution_count": null,
   "metadata": {},
   "outputs": [],
   "source": [
    "# Metrics computed from a confusion matrix\n",
    "TP = cnf_matrix[1, 1]\n",
    "TN = cnf_matrix[0, 0]\n",
    "FP = cnf_matrix[0, 1]\n",
    "FN = cnf_matrix[1, 0]\n",
    "\n",
    "print(\"True Positives (TP): We correctly predicted the fraud: {}. \".format(TP))\n",
    "print(\"True Negatives (TN): we correctly predicted that no fraud: {}. \".format(TN))\n",
    "print(\"False Positives (FP): we incorrectly predicted that it is a fraud or Type I error: {}. \".format(FP))\n",
    "print(\"False Negatives (FN): we incorrectly predicted that it is not a fraud or Type II error: {}. \".format(FN))\n",
    "\n",
    "print(\"===================================================\")\n",
    "\n",
    "print(\"Overall, how often is the classifier correct (accuracy)? {}. \".format((TP + TN) / float(TP + TN + FP + FN)))      \n",
    "print(\"Overall, how often is the classifier incorrect? {}. \".format((FP + FN) / float(TP + TN + FP + FN))) \n",
    "print(\"When the actual value is positive, how often is the prediction correct (sensitivity or recall)? {}.\".format(TP / float(FN + TP))) \n",
    "print(\"When the actual value is negative, how often is the prediction correct (specificity)? {}.\".format(TN / (TN + FP))) \n",
    "print(\"When the actual value is negative, how often is the prediction incorrect (false positive rate)? {}.\".format(FP / float(TN + FP))) \n",
    "print(\"When a positive value is predicted, how often is the prediction correct (precision)? {}.\".format(TP / float(TP + FP))) "
   ]
  },
  {
   "cell_type": "markdown",
   "metadata": {},
   "source": [
    "## Conclusion \n",
    "In this analysis we lightly touched most of the phases of a typical ML life cycle. We started with data source then did some initial processing such as cleaning, format and quality check, transformation and feature selection.\n",
    "\n",
    "We continued training some of the majors supervised ML models. Then did model evaluation using cross-validation and calculated some performance metrics for each model. We also optimized most of the hyperparameters. However, if we are aiming to develop ML for real life applications, then we need to strike a balance between ML optimization versus software application. At this stage we should avoid building \"blackbox\" and instead try to ensure our steps are extensible and modular. Pipeline versioning is one such method. \n",
    "\n",
    "The purpose of this ML work was to identify an algorithm that can learn from past transaction data. After learning then we produce a model that can be deployed to make intelligent recommendations for the nature of credit card transaction as being fraud or not.\n",
    "\n",
    "Such fraud is a very rare event given the sheer size of credit card transactions. And fundamentally we like our model to focus on two main errors. One is false positive and the other is false negative. For false positive a transaction that matches the red flags identified in the fraud data profile but the transaction is not a fraudulent transaction. And the financial institution supporting such transactions may have audit procedures in place to address them. However, the more serious problem is the false negative where a transaction that does not match the red flags in the fraud data profile but the transaction is a fraudulent transaction. From a fraud data analytics perspective, false negatives occur due to not understanding the sophistication of concealment as it related to building your fraud data analytics plan. \n",
    "\n",
    "Because of the seriousness of false negative results, we here focus on selecting a model that has best sensitivity/recall as its performance metric.\n",
    "\n",
    "For each of following models we show the percentage of time that the fraud prediction matches with an actual fraud situation:\n",
    "\n",
    "- Logistic Regression (93%)\n",
    "- Decision Tree (99%)\n",
    "- Random Forest (93%)\n",
    "- Naive - Bayes (Bernoulli) (89%)\n",
    "- KNeighbors Classifier (100%)\n",
    "- Support Vector Machine (91%)\n",
    "- Gradient Boosting Classifier (100%)\n",
    "\n",
    "From above, the Gradient Boosting and KNeighbors are the top 2 models with zero error of false negative."
   ]
  },
  {
   "cell_type": "code",
   "execution_count": null,
   "metadata": {},
   "outputs": [],
   "source": []
  },
  {
   "cell_type": "code",
   "execution_count": null,
   "metadata": {},
   "outputs": [],
   "source": []
  },
  {
   "cell_type": "code",
   "execution_count": null,
   "metadata": {},
   "outputs": [],
   "source": []
  },
  {
   "cell_type": "code",
   "execution_count": null,
   "metadata": {},
   "outputs": [],
   "source": []
  }
 ],
 "metadata": {
  "kernelspec": {
   "display_name": "Python 3",
   "language": "python",
   "name": "python3"
  },
  "language_info": {
   "codemirror_mode": {
    "name": "ipython",
    "version": 3
   },
   "file_extension": ".py",
   "mimetype": "text/x-python",
   "name": "python",
   "nbconvert_exporter": "python",
   "pygments_lexer": "ipython3",
   "version": "3.6.5"
  }
 },
 "nbformat": 4,
 "nbformat_minor": 2
}
