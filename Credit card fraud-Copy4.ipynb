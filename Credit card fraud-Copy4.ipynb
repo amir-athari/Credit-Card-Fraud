{
 "cells": [
  {
   "cell_type": "markdown",
   "metadata": {},
   "source": [
    "# Training machine learning models on credit card transactions labeled as fraudulent or genuine"
   ]
  },
  {
   "cell_type": "markdown",
   "metadata": {},
   "source": [
    "### The dataset contains transactions made by group credit card holders in September 2013 over a span of two days. There are 284,807 transactions with only? frauds, meaning the dataset is highly unbalanced. The positive class (frauds) account for 0.173% of all transactions.\n",
    "\n",
    "### The dataset contains numerical input variables that are the result of a PCA transformation. Due to confidentiality issues, the original features and more background information about the data are not shown. There are 28 features, namely V1, V2, ...V27, which are principal components obtained using PCA, except for the Time and Amount features. The Class feature is the response variable and it takes the value 1 in a case of fraud and 0 otherwise.\n",
    "\n",
    "### There are two additional features, Time and Amount. The Time column signifies the time in seconds between each transaction and the first transaction, whereas the Amount column signifies how much money was transferred in this transaction. "
   ]
  },
  {
   "cell_type": "markdown",
   "metadata": {},
   "source": [
    "### Source: https://www.kaggle.com/mlg-ulb/creditcardfraud/version/3"
   ]
  },
  {
   "cell_type": "markdown",
   "metadata": {},
   "source": [
    "<h7> Shahab Athari, leading Advisor for Control and Economic Analysis in Equinor.com located in Houston, Texas.</h7> "
   ]
  },
  {
   "cell_type": "code",
   "execution_count": 188,
   "metadata": {},
   "outputs": [],
   "source": [
    "#Import Python libraries that will be used in this model\n",
    "%matplotlib inline\n",
    "import numpy as np\n",
    "import pandas as pd\n",
    "import scipy\n",
    "from scipy.stats import randint as sp_randint\n",
    "import sklearn\n",
    "import matplotlib.pyplot as plt\n",
    "import seaborn as sns\n",
    "from sklearn.cross_validation import train_test_split\n",
    "import sklearn.cross_validation\n",
    "import sklearn.tree\n",
    "from sklearn.grid_search import RandomizedSearchCV\n",
    "from sklearn.metrics import confusion_matrix, classification_report\n",
    "from sklearn import metrics\n",
    "from sklearn.model_selection import train_test_split,cross_val_score, KFold, cross_val_predict\n",
    "from sklearn.decomposition import PCA as sklearn_pca\n",
    "from sklearn.decomposition import PCA\n",
    "from sklearn.utils import resample\n",
    "from sklearn.ensemble import RandomForestClassifier, GradientBoostingClassifier\n",
    "from sklearn import preprocessing, decomposition\n",
    "from sklearn.model_selection import GridSearchCV\n",
    "from sklearn.linear_model import LogisticRegression\n",
    "from sklearn import linear_model\n",
    "from sklearn.naive_bayes import BernoulliNB\n",
    "from sklearn.neighbors import KNeighborsClassifier\n",
    "from sklearn.svm import SVC\n",
    "from sklearn.tree import DecisionTreeClassifier\n",
    "from sklearn.feature_selection import RFE\n",
    "from sklearn.preprocessing import StandardScaler\n",
    "from sklearn.feature_selection import SelectKBest\n",
    "from sklearn.linear_model.stochastic_gradient import SGDClassifier\n",
    "import time\n",
    "import random"
   ]
  },
  {
   "cell_type": "code",
   "execution_count": 264,
   "metadata": {},
   "outputs": [
    {
     "data": {
      "text/html": [
       "<div>\n",
       "<style scoped>\n",
       "    .dataframe tbody tr th:only-of-type {\n",
       "        vertical-align: middle;\n",
       "    }\n",
       "\n",
       "    .dataframe tbody tr th {\n",
       "        vertical-align: top;\n",
       "    }\n",
       "\n",
       "    .dataframe thead th {\n",
       "        text-align: right;\n",
       "    }\n",
       "</style>\n",
       "<table border=\"1\" class=\"dataframe\">\n",
       "  <thead>\n",
       "    <tr style=\"text-align: right;\">\n",
       "      <th></th>\n",
       "      <th>Time</th>\n",
       "      <th>V1</th>\n",
       "      <th>V2</th>\n",
       "      <th>V3</th>\n",
       "      <th>V4</th>\n",
       "      <th>V5</th>\n",
       "      <th>V6</th>\n",
       "      <th>V7</th>\n",
       "      <th>V8</th>\n",
       "      <th>V9</th>\n",
       "      <th>...</th>\n",
       "      <th>V21</th>\n",
       "      <th>V22</th>\n",
       "      <th>V23</th>\n",
       "      <th>V24</th>\n",
       "      <th>V25</th>\n",
       "      <th>V26</th>\n",
       "      <th>V27</th>\n",
       "      <th>V28</th>\n",
       "      <th>Amount</th>\n",
       "      <th>Class</th>\n",
       "    </tr>\n",
       "  </thead>\n",
       "  <tbody>\n",
       "    <tr>\n",
       "      <th>0</th>\n",
       "      <td>1</td>\n",
       "      <td>-0.966272</td>\n",
       "      <td>-0.185226</td>\n",
       "      <td>1.792993</td>\n",
       "      <td>-0.863291</td>\n",
       "      <td>-0.010309</td>\n",
       "      <td>1.247203</td>\n",
       "      <td>0.237609</td>\n",
       "      <td>0.377436</td>\n",
       "      <td>-1.387024</td>\n",
       "      <td>...</td>\n",
       "      <td>-0.108300</td>\n",
       "      <td>0.005274</td>\n",
       "      <td>-0.190321</td>\n",
       "      <td>-1.175575</td>\n",
       "      <td>0.647376</td>\n",
       "      <td>-0.221929</td>\n",
       "      <td>0.062723</td>\n",
       "      <td>0.061458</td>\n",
       "      <td>123.50</td>\n",
       "      <td>0</td>\n",
       "    </tr>\n",
       "    <tr>\n",
       "      <th>1</th>\n",
       "      <td>12</td>\n",
       "      <td>-2.791855</td>\n",
       "      <td>-0.327771</td>\n",
       "      <td>1.641750</td>\n",
       "      <td>1.767473</td>\n",
       "      <td>-0.136588</td>\n",
       "      <td>0.807596</td>\n",
       "      <td>-0.422911</td>\n",
       "      <td>-1.907107</td>\n",
       "      <td>0.755713</td>\n",
       "      <td>...</td>\n",
       "      <td>1.151663</td>\n",
       "      <td>0.222182</td>\n",
       "      <td>1.020586</td>\n",
       "      <td>0.028317</td>\n",
       "      <td>-0.232746</td>\n",
       "      <td>-0.235557</td>\n",
       "      <td>-0.164778</td>\n",
       "      <td>-0.030154</td>\n",
       "      <td>58.80</td>\n",
       "      <td>0</td>\n",
       "    </tr>\n",
       "    <tr>\n",
       "      <th>2</th>\n",
       "      <td>12</td>\n",
       "      <td>1.103215</td>\n",
       "      <td>-0.040296</td>\n",
       "      <td>1.267332</td>\n",
       "      <td>1.289091</td>\n",
       "      <td>-0.735997</td>\n",
       "      <td>0.288069</td>\n",
       "      <td>-0.586057</td>\n",
       "      <td>0.189380</td>\n",
       "      <td>0.782333</td>\n",
       "      <td>...</td>\n",
       "      <td>-0.024612</td>\n",
       "      <td>0.196002</td>\n",
       "      <td>0.013802</td>\n",
       "      <td>0.103758</td>\n",
       "      <td>0.364298</td>\n",
       "      <td>-0.382261</td>\n",
       "      <td>0.092809</td>\n",
       "      <td>0.037051</td>\n",
       "      <td>12.99</td>\n",
       "      <td>0</td>\n",
       "    </tr>\n",
       "    <tr>\n",
       "      <th>3</th>\n",
       "      <td>13</td>\n",
       "      <td>-0.436905</td>\n",
       "      <td>0.918966</td>\n",
       "      <td>0.924591</td>\n",
       "      <td>-0.727219</td>\n",
       "      <td>0.915679</td>\n",
       "      <td>-0.127867</td>\n",
       "      <td>0.707642</td>\n",
       "      <td>0.087962</td>\n",
       "      <td>-0.665271</td>\n",
       "      <td>...</td>\n",
       "      <td>-0.194796</td>\n",
       "      <td>-0.672638</td>\n",
       "      <td>-0.156858</td>\n",
       "      <td>-0.888386</td>\n",
       "      <td>-0.342413</td>\n",
       "      <td>-0.049027</td>\n",
       "      <td>0.079692</td>\n",
       "      <td>0.131024</td>\n",
       "      <td>0.89</td>\n",
       "      <td>0</td>\n",
       "    </tr>\n",
       "    <tr>\n",
       "      <th>4</th>\n",
       "      <td>23</td>\n",
       "      <td>1.322707</td>\n",
       "      <td>-0.174041</td>\n",
       "      <td>0.434555</td>\n",
       "      <td>0.576038</td>\n",
       "      <td>-0.836758</td>\n",
       "      <td>-0.831083</td>\n",
       "      <td>-0.264905</td>\n",
       "      <td>-0.220982</td>\n",
       "      <td>-1.071425</td>\n",
       "      <td>...</td>\n",
       "      <td>-0.284376</td>\n",
       "      <td>-0.323357</td>\n",
       "      <td>-0.037710</td>\n",
       "      <td>0.347151</td>\n",
       "      <td>0.559639</td>\n",
       "      <td>-0.280158</td>\n",
       "      <td>0.042335</td>\n",
       "      <td>0.028822</td>\n",
       "      <td>16.00</td>\n",
       "      <td>0</td>\n",
       "    </tr>\n",
       "  </tbody>\n",
       "</table>\n",
       "<p>5 rows × 31 columns</p>\n",
       "</div>"
      ],
      "text/plain": [
       "   Time        V1        V2        V3        V4        V5        V6        V7  \\\n",
       "0     1 -0.966272 -0.185226  1.792993 -0.863291 -0.010309  1.247203  0.237609   \n",
       "1    12 -2.791855 -0.327771  1.641750  1.767473 -0.136588  0.807596 -0.422911   \n",
       "2    12  1.103215 -0.040296  1.267332  1.289091 -0.735997  0.288069 -0.586057   \n",
       "3    13 -0.436905  0.918966  0.924591 -0.727219  0.915679 -0.127867  0.707642   \n",
       "4    23  1.322707 -0.174041  0.434555  0.576038 -0.836758 -0.831083 -0.264905   \n",
       "\n",
       "         V8        V9  ...         V21       V22       V23       V24  \\\n",
       "0  0.377436 -1.387024  ...   -0.108300  0.005274 -0.190321 -1.175575   \n",
       "1 -1.907107  0.755713  ...    1.151663  0.222182  1.020586  0.028317   \n",
       "2  0.189380  0.782333  ...   -0.024612  0.196002  0.013802  0.103758   \n",
       "3  0.087962 -0.665271  ...   -0.194796 -0.672638 -0.156858 -0.888386   \n",
       "4 -0.220982 -1.071425  ...   -0.284376 -0.323357 -0.037710  0.347151   \n",
       "\n",
       "        V25       V26       V27       V28  Amount  Class  \n",
       "0  0.647376 -0.221929  0.062723  0.061458  123.50      0  \n",
       "1 -0.232746 -0.235557 -0.164778 -0.030154   58.80      0  \n",
       "2  0.364298 -0.382261  0.092809  0.037051   12.99      0  \n",
       "3 -0.342413 -0.049027  0.079692  0.131024    0.89      0  \n",
       "4  0.559639 -0.280158  0.042335  0.028822   16.00      0  \n",
       "\n",
       "[5 rows x 31 columns]"
      ]
     },
     "execution_count": 264,
     "metadata": {},
     "output_type": "execute_result"
    }
   ],
   "source": [
    "path1 = (\"C:/Users/aath/Dropbox/MAEN/DS/data/Kaggle/cc/creditcard.csv\")\n",
    "n = sum(1 for line in open(path1)) - 1 #number of records in file (excludes header)\n",
    "s = 30000 #desired sample size\n",
    "skip = sorted(random.sample(range(1,n+1),n-s)) #the 0-indexed header will not be included in the skip list\n",
    "df = pd.read_csv(path1, skiprows=skip)\n",
    "df.head()"
   ]
  },
  {
   "cell_type": "code",
   "execution_count": 265,
   "metadata": {},
   "outputs": [
    {
     "name": "stdout",
     "output_type": "stream",
     "text": [
      "Total time spanning: 2.0 days\n"
     ]
    }
   ],
   "source": [
    "# Check the timespan of the data \n",
    "print(\"Total time spanning: {:.1f} days\".format(df['Time'].max() / (3600 * 24.0)))"
   ]
  },
  {
   "cell_type": "code",
   "execution_count": 266,
   "metadata": {},
   "outputs": [
    {
     "name": "stdout",
     "output_type": "stream",
     "text": [
      "0.173 % of all transactions are fraud. \n"
     ]
    }
   ],
   "source": [
    "# Check the percentage fraud cases\n",
    "print(\"{:.3f} % of all transactions are fraud. \".format(np.sum(df['Class']) / df.shape[0] * 100))"
   ]
  },
  {
   "cell_type": "markdown",
   "metadata": {},
   "source": [
    "We can see that the feature space is very imbalance and fraud cases are very rate. Becasue of this we should be very careful about our learner selection as the risk of overfitting is very high"
   ]
  },
  {
   "cell_type": "code",
   "execution_count": 267,
   "metadata": {},
   "outputs": [
    {
     "data": {
      "text/plain": [
       "(0, 50000)"
      ]
     },
     "execution_count": 267,
     "metadata": {},
     "output_type": "execute_result"
    },
    {
     "data": {
      "image/png": "[encoded data removed]",
      "text/plain": [
       "<Figure size 1440x360 with 1 Axes>"
      ]
     },
     "metadata": {},
     "output_type": "display_data"
    }
   ],
   "source": [
    "# To show the imbalance in first 50,000 data\n",
    "plt.figure(figsize=(20, 5))\n",
    "sns.set_style(\"whitegrid\")\n",
    "plt.subplot(1, 1, 1)\n",
    "ax = sns.countplot(x=\"Class\", data=df, palette=\"Set2\")\n",
    "ax.set_xlabel('Responses by Class ')\n",
    "ax.set_ylabel('Number of Occurrences')\n",
    "ax.set_xticklabels(['No Fraud','Fraud'], fontsize=10)\n",
    "plt.ylim(0, 50000)"
   ]
  },
  {
   "cell_type": "code",
   "execution_count": 268,
   "metadata": {},
   "outputs": [
    {
     "name": "stderr",
     "output_type": "stream",
     "text": [
      "C:\\Users\\aath\\AppData\\Local\\Continuum\\anaconda3\\lib\\site-packages\\matplotlib\\axes\\_axes.py:6462: UserWarning: The 'normed' kwarg is deprecated, and has been replaced by the 'density' kwarg.\n",
      "  warnings.warn(\"The 'normed' kwarg is deprecated, and has been \"\n",
      "C:\\Users\\aath\\AppData\\Local\\Continuum\\anaconda3\\lib\\site-packages\\matplotlib\\axes\\_axes.py:6462: UserWarning: The 'normed' kwarg is deprecated, and has been replaced by the 'density' kwarg.\n",
      "  warnings.warn(\"The 'normed' kwarg is deprecated, and has been \"\n",
      "C:\\Users\\aath\\AppData\\Local\\Continuum\\anaconda3\\lib\\site-packages\\matplotlib\\axes\\_axes.py:6462: UserWarning: The 'normed' kwarg is deprecated, and has been replaced by the 'density' kwarg.\n",
      "  warnings.warn(\"The 'normed' kwarg is deprecated, and has been \"\n",
      "C:\\Users\\aath\\AppData\\Local\\Continuum\\anaconda3\\lib\\site-packages\\matplotlib\\axes\\_axes.py:6462: UserWarning: The 'normed' kwarg is deprecated, and has been replaced by the 'density' kwarg.\n",
      "  warnings.warn(\"The 'normed' kwarg is deprecated, and has been \"\n",
      "C:\\Users\\aath\\AppData\\Local\\Continuum\\anaconda3\\lib\\site-packages\\matplotlib\\axes\\_axes.py:6462: UserWarning: The 'normed' kwarg is deprecated, and has been replaced by the 'density' kwarg.\n",
      "  warnings.warn(\"The 'normed' kwarg is deprecated, and has been \"\n",
      "C:\\Users\\aath\\AppData\\Local\\Continuum\\anaconda3\\lib\\site-packages\\matplotlib\\axes\\_axes.py:6462: UserWarning: The 'normed' kwarg is deprecated, and has been replaced by the 'density' kwarg.\n",
      "  warnings.warn(\"The 'normed' kwarg is deprecated, and has been \"\n",
      "C:\\Users\\aath\\AppData\\Local\\Continuum\\anaconda3\\lib\\site-packages\\matplotlib\\axes\\_axes.py:6462: UserWarning: The 'normed' kwarg is deprecated, and has been replaced by the 'density' kwarg.\n",
      "  warnings.warn(\"The 'normed' kwarg is deprecated, and has been \"\n",
      "C:\\Users\\aath\\AppData\\Local\\Continuum\\anaconda3\\lib\\site-packages\\matplotlib\\axes\\_axes.py:6462: UserWarning: The 'normed' kwarg is deprecated, and has been replaced by the 'density' kwarg.\n",
      "  warnings.warn(\"The 'normed' kwarg is deprecated, and has been \"\n",
      "C:\\Users\\aath\\AppData\\Local\\Continuum\\anaconda3\\lib\\site-packages\\matplotlib\\axes\\_axes.py:6462: UserWarning: The 'normed' kwarg is deprecated, and has been replaced by the 'density' kwarg.\n",
      "  warnings.warn(\"The 'normed' kwarg is deprecated, and has been \"\n",
      "C:\\Users\\aath\\AppData\\Local\\Continuum\\anaconda3\\lib\\site-packages\\matplotlib\\axes\\_axes.py:6462: UserWarning: The 'normed' kwarg is deprecated, and has been replaced by the 'density' kwarg.\n",
      "  warnings.warn(\"The 'normed' kwarg is deprecated, and has been \"\n"
     ]
    },
    {
     "data": {
      "image/png": "[encoded data removed]",
      "text/plain": [
       "<Figure size 864x1440 with 5 Axes>"
      ]
     },
     "metadata": {},
     "output_type": "display_data"
    }
   ],
   "source": [
    "# let's draw the histogram for first five features:\n",
    "\n",
    "import matplotlib.gridspec as gridspec\n",
    "plt.figure(figsize=(12,5*4))\n",
    "gs = gridspec.GridSpec(5, 1)\n",
    "for i, cn in enumerate(df.columns[:5]):\n",
    "    ax = plt.subplot(gs[i])\n",
    "    sns.distplot(df[cn][df.Class == 1], bins=50)\n",
    "    sns.distplot(df[cn][df.Class == 0], bins=50)\n",
    "    ax.set_xlabel('')\n",
    "    ax.set_title('histogram of feature: ' + str(cn))\n",
    "plt.show()"
   ]
  },
  {
   "cell_type": "markdown",
   "metadata": {},
   "source": [
    "Histograms of 5 features are highly skewed. In addition, the dataset does not have many features, so trimming the tails would lose important information. "
   ]
  },
  {
   "cell_type": "markdown",
   "metadata": {},
   "source": [
    "## Dealing with class imbalance"
   ]
  },
  {
   "cell_type": "markdown",
   "metadata": {},
   "source": [
    "Class imbalance can negatively influence both the evaluatiuon of learning algorithms and also the learning process during the fitting stage. For machine learning algorithms we typically optimize a reward or cost function that is computed as a sum over the training examples that it sees during fitting. Becasue of this the decision rule is likely going to be biased towards the majority class. \n",
    "\n",
    "One way to address this is to assign a larger penalty to wrong predictions on the minority class. Alternatively, we can include upsampling the minority class, downsampling the majority class or generate synthetic training samples. Unfortunately, there's no universally best solution, no technique that works best across different problem domains. In this case we will use the upsampling of the Fraud case."
   ]
  },
  {
   "cell_type": "code",
   "execution_count": 269,
   "metadata": {},
   "outputs": [
    {
     "data": {
      "text/plain": [
       "1    29948\n",
       "0    29948\n",
       "Name: Class, dtype: int64"
      ]
     },
     "execution_count": 269,
     "metadata": {},
     "output_type": "execute_result"
    }
   ],
   "source": [
    "from sklearn.utils import resample\n",
    "\n",
    "# Create a separate table for each class\n",
    "df_minority = df[df.Class == 1]\n",
    "df_majority = df[df.Class == 0]\n",
    "\n",
    "# Determine the  size of minority class\n",
    "minority_size = len(df[df['Class'] == 0])\n",
    "\n",
    "# Upsample the minority case\n",
    "minority_upsampled = resample(df_minority, replace=True, n_samples=minority_size, random_state=140)\n",
    "\n",
    "# Combine in a new dataframe 'data' the majority class with the upsampled minority class\n",
    "balanced_df = pd.concat([df_majority,minority_upsampled])\n",
    " \n",
    "# Display new class counts\n",
    "balanced_df.Class.value_counts()"
   ]
  },
  {
   "cell_type": "code",
   "execution_count": 270,
   "metadata": {},
   "outputs": [
    {
     "data": {
      "text/plain": [
       "(0, 50000)"
      ]
     },
     "execution_count": 270,
     "metadata": {},
     "output_type": "execute_result"
    },
    {
     "data": {
      "image/png": "[encoded data removed]",
      "text/plain": [
       "<Figure size 1440x360 with 1 Axes>"
      ]
     },
     "metadata": {},
     "output_type": "display_data"
    }
   ],
   "source": [
    "# To show the imbalance in first 50,000 data\n",
    "plt.figure(figsize=(20, 5))\n",
    "sns.set_style(\"whitegrid\")\n",
    "plt.subplot(1, 1, 1)\n",
    "ax = sns.countplot(x=\"Class\", data=balanced_df, palette=\"Set2\")\n",
    "ax.set_xlabel('Responses by Class ')\n",
    "ax.set_ylabel('Number of Occurrences')\n",
    "ax.set_xticklabels(['No Fraud','Fraud'], fontsize=10)\n",
    "plt.ylim(0, 50000)"
   ]
  },
  {
   "cell_type": "code",
   "execution_count": 271,
   "metadata": {},
   "outputs": [],
   "source": [
    "# Setup a new dataframe that contains the features per Class, dropping the time\n",
    "#Drop Section & Gender\n",
    "features_only = balanced_df.drop(['Time'],axis = 1)"
   ]
  },
  {
   "cell_type": "code",
   "execution_count": 272,
   "metadata": {},
   "outputs": [
    {
     "data": {
      "text/html": [
       "<div>\n",
       "<style scoped>\n",
       "    .dataframe tbody tr th:only-of-type {\n",
       "        vertical-align: middle;\n",
       "    }\n",
       "\n",
       "    .dataframe tbody tr th {\n",
       "        vertical-align: top;\n",
       "    }\n",
       "\n",
       "    .dataframe thead th {\n",
       "        text-align: right;\n",
       "    }\n",
       "</style>\n",
       "<table border=\"1\" class=\"dataframe\">\n",
       "  <thead>\n",
       "    <tr style=\"text-align: right;\">\n",
       "      <th></th>\n",
       "      <th>V1</th>\n",
       "      <th>V2</th>\n",
       "      <th>V3</th>\n",
       "      <th>V4</th>\n",
       "      <th>V5</th>\n",
       "      <th>V6</th>\n",
       "      <th>V7</th>\n",
       "      <th>V8</th>\n",
       "      <th>V9</th>\n",
       "      <th>V10</th>\n",
       "      <th>...</th>\n",
       "      <th>V21</th>\n",
       "      <th>V22</th>\n",
       "      <th>V23</th>\n",
       "      <th>V24</th>\n",
       "      <th>V25</th>\n",
       "      <th>V26</th>\n",
       "      <th>V27</th>\n",
       "      <th>V28</th>\n",
       "      <th>Amount</th>\n",
       "      <th>Class</th>\n",
       "    </tr>\n",
       "  </thead>\n",
       "  <tbody>\n",
       "    <tr>\n",
       "      <th>count</th>\n",
       "      <td>59896.000000</td>\n",
       "      <td>59896.000000</td>\n",
       "      <td>59896.000000</td>\n",
       "      <td>59896.000000</td>\n",
       "      <td>59896.000000</td>\n",
       "      <td>59896.000000</td>\n",
       "      <td>59896.000000</td>\n",
       "      <td>59896.000000</td>\n",
       "      <td>59896.000000</td>\n",
       "      <td>59896.000000</td>\n",
       "      <td>...</td>\n",
       "      <td>59896.000000</td>\n",
       "      <td>59896.000000</td>\n",
       "      <td>59896.000000</td>\n",
       "      <td>59896.000000</td>\n",
       "      <td>59896.000000</td>\n",
       "      <td>59896.000000</td>\n",
       "      <td>59896.000000</td>\n",
       "      <td>59896.000000</td>\n",
       "      <td>59896.000000</td>\n",
       "      <td>59896.000000</td>\n",
       "    </tr>\n",
       "    <tr>\n",
       "      <th>mean</th>\n",
       "      <td>-2.598245</td>\n",
       "      <td>1.892941</td>\n",
       "      <td>-3.621586</td>\n",
       "      <td>2.463463</td>\n",
       "      <td>-1.950743</td>\n",
       "      <td>-0.592909</td>\n",
       "      <td>-3.174939</td>\n",
       "      <td>0.299157</td>\n",
       "      <td>-1.557505</td>\n",
       "      <td>-3.202589</td>\n",
       "      <td>...</td>\n",
       "      <td>-0.022506</td>\n",
       "      <td>0.179162</td>\n",
       "      <td>-0.011696</td>\n",
       "      <td>-0.051180</td>\n",
       "      <td>-0.034741</td>\n",
       "      <td>0.023317</td>\n",
       "      <td>0.112865</td>\n",
       "      <td>-0.051942</td>\n",
       "      <td>118.363630</td>\n",
       "      <td>0.500000</td>\n",
       "    </tr>\n",
       "    <tr>\n",
       "      <th>std</th>\n",
       "      <td>5.330855</td>\n",
       "      <td>3.794224</td>\n",
       "      <td>6.223139</td>\n",
       "      <td>3.519949</td>\n",
       "      <td>4.229272</td>\n",
       "      <td>1.776251</td>\n",
       "      <td>6.500034</td>\n",
       "      <td>5.201577</td>\n",
       "      <td>2.734929</td>\n",
       "      <td>5.003382</td>\n",
       "      <td>...</td>\n",
       "      <td>2.621290</td>\n",
       "      <td>1.128749</td>\n",
       "      <td>0.974702</td>\n",
       "      <td>0.560733</td>\n",
       "      <td>0.692351</td>\n",
       "      <td>0.489781</td>\n",
       "      <td>1.012448</td>\n",
       "      <td>0.497234</td>\n",
       "      <td>233.489645</td>\n",
       "      <td>0.500004</td>\n",
       "    </tr>\n",
       "    <tr>\n",
       "      <th>min</th>\n",
       "      <td>-29.973363</td>\n",
       "      <td>-33.413911</td>\n",
       "      <td>-27.855811</td>\n",
       "      <td>-5.560118</td>\n",
       "      <td>-25.772800</td>\n",
       "      <td>-21.929312</td>\n",
       "      <td>-43.557242</td>\n",
       "      <td>-41.044261</td>\n",
       "      <td>-13.320155</td>\n",
       "      <td>-24.588262</td>\n",
       "      <td>...</td>\n",
       "      <td>-22.797604</td>\n",
       "      <td>-8.593642</td>\n",
       "      <td>-44.807735</td>\n",
       "      <td>-2.747197</td>\n",
       "      <td>-10.295397</td>\n",
       "      <td>-1.653193</td>\n",
       "      <td>-7.076178</td>\n",
       "      <td>-8.091375</td>\n",
       "      <td>0.000000</td>\n",
       "      <td>0.000000</td>\n",
       "    </tr>\n",
       "    <tr>\n",
       "      <th>25%</th>\n",
       "      <td>-3.477091</td>\n",
       "      <td>-0.236149</td>\n",
       "      <td>-5.412085</td>\n",
       "      <td>-0.073943</td>\n",
       "      <td>-2.437758</td>\n",
       "      <td>-1.574565</td>\n",
       "      <td>-3.801325</td>\n",
       "      <td>-0.233403</td>\n",
       "      <td>-2.959806</td>\n",
       "      <td>-5.112971</td>\n",
       "      <td>...</td>\n",
       "      <td>-0.246184</td>\n",
       "      <td>-0.503474</td>\n",
       "      <td>-0.299556</td>\n",
       "      <td>-0.379574</td>\n",
       "      <td>-0.346571</td>\n",
       "      <td>-0.332115</td>\n",
       "      <td>-0.087349</td>\n",
       "      <td>-0.152171</td>\n",
       "      <td>2.370000</td>\n",
       "      <td>0.000000</td>\n",
       "    </tr>\n",
       "    <tr>\n",
       "      <th>50%</th>\n",
       "      <td>-1.077804</td>\n",
       "      <td>0.945206</td>\n",
       "      <td>-1.191453</td>\n",
       "      <td>1.214335</td>\n",
       "      <td>-0.430818</td>\n",
       "      <td>-0.621080</td>\n",
       "      <td>-0.754412</td>\n",
       "      <td>0.159077</td>\n",
       "      <td>-0.649377</td>\n",
       "      <td>-0.825639</td>\n",
       "      <td>...</td>\n",
       "      <td>0.102081</td>\n",
       "      <td>0.090920</td>\n",
       "      <td>-0.062264</td>\n",
       "      <td>-0.000676</td>\n",
       "      <td>0.084735</td>\n",
       "      <td>0.011491</td>\n",
       "      <td>0.045962</td>\n",
       "      <td>0.017904</td>\n",
       "      <td>25.000000</td>\n",
       "      <td>0.500000</td>\n",
       "    </tr>\n",
       "    <tr>\n",
       "      <th>75%</th>\n",
       "      <td>0.923764</td>\n",
       "      <td>3.057250</td>\n",
       "      <td>0.372364</td>\n",
       "      <td>4.932199</td>\n",
       "      <td>0.381521</td>\n",
       "      <td>0.197727</td>\n",
       "      <td>0.297773</td>\n",
       "      <td>1.036425</td>\n",
       "      <td>0.210202</td>\n",
       "      <td>0.052245</td>\n",
       "      <td>...</td>\n",
       "      <td>0.653586</td>\n",
       "      <td>0.580787</td>\n",
       "      <td>0.179549</td>\n",
       "      <td>0.371437</td>\n",
       "      <td>0.364360</td>\n",
       "      <td>0.324638</td>\n",
       "      <td>0.476629</td>\n",
       "      <td>0.162777</td>\n",
       "      <td>99.990000</td>\n",
       "      <td>1.000000</td>\n",
       "    </tr>\n",
       "    <tr>\n",
       "      <th>max</th>\n",
       "      <td>2.409347</td>\n",
       "      <td>22.057729</td>\n",
       "      <td>4.101716</td>\n",
       "      <td>11.906170</td>\n",
       "      <td>32.911462</td>\n",
       "      <td>15.496962</td>\n",
       "      <td>21.914529</td>\n",
       "      <td>13.696416</td>\n",
       "      <td>10.392889</td>\n",
       "      <td>13.727347</td>\n",
       "      <td>...</td>\n",
       "      <td>22.614889</td>\n",
       "      <td>8.316275</td>\n",
       "      <td>11.360879</td>\n",
       "      <td>4.014444</td>\n",
       "      <td>3.347936</td>\n",
       "      <td>3.220178</td>\n",
       "      <td>6.507171</td>\n",
       "      <td>15.649134</td>\n",
       "      <td>6000.000000</td>\n",
       "      <td>1.000000</td>\n",
       "    </tr>\n",
       "  </tbody>\n",
       "</table>\n",
       "<p>8 rows × 30 columns</p>\n",
       "</div>"
      ],
      "text/plain": [
       "                 V1            V2            V3            V4            V5  \\\n",
       "count  59896.000000  59896.000000  59896.000000  59896.000000  59896.000000   \n",
       "mean      -2.598245      1.892941     -3.621586      2.463463     -1.950743   \n",
       "std        5.330855      3.794224      6.223139      3.519949      4.229272   \n",
       "min      -29.973363    -33.413911    -27.855811     -5.560118    -25.772800   \n",
       "25%       -3.477091     -0.236149     -5.412085     -0.073943     -2.437758   \n",
       "50%       -1.077804      0.945206     -1.191453      1.214335     -0.430818   \n",
       "75%        0.923764      3.057250      0.372364      4.932199      0.381521   \n",
       "max        2.409347     22.057729      4.101716     11.906170     32.911462   \n",
       "\n",
       "                 V6            V7            V8            V9           V10  \\\n",
       "count  59896.000000  59896.000000  59896.000000  59896.000000  59896.000000   \n",
       "mean      -0.592909     -3.174939      0.299157     -1.557505     -3.202589   \n",
       "std        1.776251      6.500034      5.201577      2.734929      5.003382   \n",
       "min      -21.929312    -43.557242    -41.044261    -13.320155    -24.588262   \n",
       "25%       -1.574565     -3.801325     -0.233403     -2.959806     -5.112971   \n",
       "50%       -0.621080     -0.754412      0.159077     -0.649377     -0.825639   \n",
       "75%        0.197727      0.297773      1.036425      0.210202      0.052245   \n",
       "max       15.496962     21.914529     13.696416     10.392889     13.727347   \n",
       "\n",
       "           ...                V21           V22           V23           V24  \\\n",
       "count      ...       59896.000000  59896.000000  59896.000000  59896.000000   \n",
       "mean       ...          -0.022506      0.179162     -0.011696     -0.051180   \n",
       "std        ...           2.621290      1.128749      0.974702      0.560733   \n",
       "min        ...         -22.797604     -8.593642    -44.807735     -2.747197   \n",
       "25%        ...          -0.246184     -0.503474     -0.299556     -0.379574   \n",
       "50%        ...           0.102081      0.090920     -0.062264     -0.000676   \n",
       "75%        ...           0.653586      0.580787      0.179549      0.371437   \n",
       "max        ...          22.614889      8.316275     11.360879      4.014444   \n",
       "\n",
       "                V25           V26           V27           V28        Amount  \\\n",
       "count  59896.000000  59896.000000  59896.000000  59896.000000  59896.000000   \n",
       "mean      -0.034741      0.023317      0.112865     -0.051942    118.363630   \n",
       "std        0.692351      0.489781      1.012448      0.497234    233.489645   \n",
       "min      -10.295397     -1.653193     -7.076178     -8.091375      0.000000   \n",
       "25%       -0.346571     -0.332115     -0.087349     -0.152171      2.370000   \n",
       "50%        0.084735      0.011491      0.045962      0.017904     25.000000   \n",
       "75%        0.364360      0.324638      0.476629      0.162777     99.990000   \n",
       "max        3.347936      3.220178      6.507171     15.649134   6000.000000   \n",
       "\n",
       "              Class  \n",
       "count  59896.000000  \n",
       "mean       0.500000  \n",
       "std        0.500004  \n",
       "min        0.000000  \n",
       "25%        0.000000  \n",
       "50%        0.500000  \n",
       "75%        1.000000  \n",
       "max        1.000000  \n",
       "\n",
       "[8 rows x 30 columns]"
      ]
     },
     "execution_count": 272,
     "metadata": {},
     "output_type": "execute_result"
    }
   ],
   "source": [
    "#Describe the data using statistics\n",
    "features_only.describe()"
   ]
  },
  {
   "cell_type": "markdown",
   "metadata": {},
   "source": [
    "From above tables we reconfirmed that the distributions for each feature is highly skewed.\n",
    "We also can see that scale of each feature differs and this can cause suboptimal learning especially when using classification method. Therefore, to improve the predictive accuracy, we will scale the data using a Standard Normal Distribution N(0,1):"
   ]
  },
  {
   "cell_type": "code",
   "execution_count": 273,
   "metadata": {},
   "outputs": [],
   "source": [
    "names = features_only.columns\n",
    "scaled_features_only = pd.DataFrame(preprocessing.scale(features_only), columns = names)"
   ]
  },
  {
   "cell_type": "code",
   "execution_count": 274,
   "metadata": {},
   "outputs": [
    {
     "data": {
      "text/html": [
       "<div>\n",
       "<style scoped>\n",
       "    .dataframe tbody tr th:only-of-type {\n",
       "        vertical-align: middle;\n",
       "    }\n",
       "\n",
       "    .dataframe tbody tr th {\n",
       "        vertical-align: top;\n",
       "    }\n",
       "\n",
       "    .dataframe thead th {\n",
       "        text-align: right;\n",
       "    }\n",
       "</style>\n",
       "<table border=\"1\" class=\"dataframe\">\n",
       "  <thead>\n",
       "    <tr style=\"text-align: right;\">\n",
       "      <th></th>\n",
       "      <th>V1</th>\n",
       "      <th>V2</th>\n",
       "      <th>V3</th>\n",
       "      <th>V4</th>\n",
       "      <th>V5</th>\n",
       "      <th>V6</th>\n",
       "      <th>V7</th>\n",
       "      <th>V8</th>\n",
       "      <th>V9</th>\n",
       "      <th>V10</th>\n",
       "      <th>...</th>\n",
       "      <th>V21</th>\n",
       "      <th>V22</th>\n",
       "      <th>V23</th>\n",
       "      <th>V24</th>\n",
       "      <th>V25</th>\n",
       "      <th>V26</th>\n",
       "      <th>V27</th>\n",
       "      <th>V28</th>\n",
       "      <th>Amount</th>\n",
       "      <th>Class</th>\n",
       "    </tr>\n",
       "  </thead>\n",
       "  <tbody>\n",
       "    <tr>\n",
       "      <th>count</th>\n",
       "      <td>5.989600e+04</td>\n",
       "      <td>5.989600e+04</td>\n",
       "      <td>5.989600e+04</td>\n",
       "      <td>5.989600e+04</td>\n",
       "      <td>5.989600e+04</td>\n",
       "      <td>5.989600e+04</td>\n",
       "      <td>5.989600e+04</td>\n",
       "      <td>5.989600e+04</td>\n",
       "      <td>5.989600e+04</td>\n",
       "      <td>5.989600e+04</td>\n",
       "      <td>...</td>\n",
       "      <td>5.989600e+04</td>\n",
       "      <td>5.989600e+04</td>\n",
       "      <td>5.989600e+04</td>\n",
       "      <td>5.989600e+04</td>\n",
       "      <td>5.989600e+04</td>\n",
       "      <td>5.989600e+04</td>\n",
       "      <td>5.989600e+04</td>\n",
       "      <td>5.989600e+04</td>\n",
       "      <td>5.989600e+04</td>\n",
       "      <td>59896.000000</td>\n",
       "    </tr>\n",
       "    <tr>\n",
       "      <th>mean</th>\n",
       "      <td>1.164859e-14</td>\n",
       "      <td>6.679772e-16</td>\n",
       "      <td>8.442572e-15</td>\n",
       "      <td>-9.516336e-15</td>\n",
       "      <td>-9.927160e-15</td>\n",
       "      <td>-7.491362e-15</td>\n",
       "      <td>-4.567743e-15</td>\n",
       "      <td>-4.634842e-17</td>\n",
       "      <td>1.137433e-14</td>\n",
       "      <td>3.225012e-14</td>\n",
       "      <td>...</td>\n",
       "      <td>4.279185e-17</td>\n",
       "      <td>-7.569871e-15</td>\n",
       "      <td>-1.763639e-17</td>\n",
       "      <td>1.594777e-15</td>\n",
       "      <td>-2.794331e-15</td>\n",
       "      <td>1.170175e-15</td>\n",
       "      <td>6.170316e-15</td>\n",
       "      <td>1.095728e-16</td>\n",
       "      <td>-1.442664e-14</td>\n",
       "      <td>0.000000</td>\n",
       "    </tr>\n",
       "    <tr>\n",
       "      <th>std</th>\n",
       "      <td>1.000008e+00</td>\n",
       "      <td>1.000008e+00</td>\n",
       "      <td>1.000008e+00</td>\n",
       "      <td>1.000008e+00</td>\n",
       "      <td>1.000008e+00</td>\n",
       "      <td>1.000008e+00</td>\n",
       "      <td>1.000008e+00</td>\n",
       "      <td>1.000008e+00</td>\n",
       "      <td>1.000008e+00</td>\n",
       "      <td>1.000008e+00</td>\n",
       "      <td>...</td>\n",
       "      <td>1.000008e+00</td>\n",
       "      <td>1.000008e+00</td>\n",
       "      <td>1.000008e+00</td>\n",
       "      <td>1.000008e+00</td>\n",
       "      <td>1.000008e+00</td>\n",
       "      <td>1.000008e+00</td>\n",
       "      <td>1.000008e+00</td>\n",
       "      <td>1.000008e+00</td>\n",
       "      <td>1.000008e+00</td>\n",
       "      <td>1.000008</td>\n",
       "    </tr>\n",
       "    <tr>\n",
       "      <th>min</th>\n",
       "      <td>-5.135264e+00</td>\n",
       "      <td>-9.305500e+00</td>\n",
       "      <td>-3.894245e+00</td>\n",
       "      <td>-2.279478e+00</td>\n",
       "      <td>-5.632708e+00</td>\n",
       "      <td>-1.201214e+01</td>\n",
       "      <td>-6.212682e+00</td>\n",
       "      <td>-7.948313e+00</td>\n",
       "      <td>-4.300934e+00</td>\n",
       "      <td>-4.274279e+00</td>\n",
       "      <td>...</td>\n",
       "      <td>-8.688579e+00</td>\n",
       "      <td>-7.772215e+00</td>\n",
       "      <td>-4.595909e+01</td>\n",
       "      <td>-4.808060e+00</td>\n",
       "      <td>-1.482014e+01</td>\n",
       "      <td>-3.423006e+00</td>\n",
       "      <td>-7.100716e+00</td>\n",
       "      <td>-1.616844e+01</td>\n",
       "      <td>-5.069373e-01</td>\n",
       "      <td>-1.000000</td>\n",
       "    </tr>\n",
       "    <tr>\n",
       "      <th>25%</th>\n",
       "      <td>-1.648615e-01</td>\n",
       "      <td>-5.611446e-01</td>\n",
       "      <td>-2.877187e-01</td>\n",
       "      <td>-7.208703e-01</td>\n",
       "      <td>-1.151545e-01</td>\n",
       "      <td>-5.526607e-01</td>\n",
       "      <td>-9.636724e-02</td>\n",
       "      <td>-1.023851e-01</td>\n",
       "      <td>-5.127421e-01</td>\n",
       "      <td>-3.818213e-01</td>\n",
       "      <td>...</td>\n",
       "      <td>-8.533199e-02</td>\n",
       "      <td>-6.047778e-01</td>\n",
       "      <td>-2.953333e-01</td>\n",
       "      <td>-5.856560e-01</td>\n",
       "      <td>-4.503969e-01</td>\n",
       "      <td>-7.257011e-01</td>\n",
       "      <td>-1.977542e-01</td>\n",
       "      <td>-2.015751e-01</td>\n",
       "      <td>-4.967869e-01</td>\n",
       "      <td>-1.000000</td>\n",
       "    </tr>\n",
       "    <tr>\n",
       "      <th>50%</th>\n",
       "      <td>2.852177e-01</td>\n",
       "      <td>-2.497856e-01</td>\n",
       "      <td>3.905029e-01</td>\n",
       "      <td>-3.548739e-01</td>\n",
       "      <td>3.593851e-01</td>\n",
       "      <td>-1.585996e-02</td>\n",
       "      <td>3.723900e-01</td>\n",
       "      <td>-2.693055e-02</td>\n",
       "      <td>3.320507e-01</td>\n",
       "      <td>4.750726e-01</td>\n",
       "      <td>...</td>\n",
       "      <td>4.752955e-02</td>\n",
       "      <td>-7.817710e-02</td>\n",
       "      <td>-5.188014e-02</td>\n",
       "      <td>9.006832e-02</td>\n",
       "      <td>1.725667e-01</td>\n",
       "      <td>-2.414648e-02</td>\n",
       "      <td>-6.608070e-02</td>\n",
       "      <td>1.404698e-01</td>\n",
       "      <td>-3.998653e-01</td>\n",
       "      <td>0.000000</td>\n",
       "    </tr>\n",
       "    <tr>\n",
       "      <th>75%</th>\n",
       "      <td>6.606894e-01</td>\n",
       "      <td>3.068663e-01</td>\n",
       "      <td>6.417957e-01</td>\n",
       "      <td>7.013612e-01</td>\n",
       "      <td>5.514621e-01</td>\n",
       "      <td>4.451188e-01</td>\n",
       "      <td>5.342651e-01</td>\n",
       "      <td>1.417405e-01</td>\n",
       "      <td>6.463500e-01</td>\n",
       "      <td>6.505322e-01</td>\n",
       "      <td>...</td>\n",
       "      <td>2.579258e-01</td>\n",
       "      <td>3.558174e-01</td>\n",
       "      <td>1.962104e-01</td>\n",
       "      <td>7.536924e-01</td>\n",
       "      <td>5.764483e-01</td>\n",
       "      <td>6.152200e-01</td>\n",
       "      <td>3.592955e-01</td>\n",
       "      <td>4.318303e-01</td>\n",
       "      <td>-7.869207e-02</td>\n",
       "      <td>1.000000</td>\n",
       "    </tr>\n",
       "    <tr>\n",
       "      <th>max</th>\n",
       "      <td>9.393679e-01</td>\n",
       "      <td>5.314646e+00</td>\n",
       "      <td>1.241073e+00</td>\n",
       "      <td>2.682648e+00</td>\n",
       "      <td>8.243143e+00</td>\n",
       "      <td>9.058408e+00</td>\n",
       "      <td>3.859931e+00</td>\n",
       "      <td>2.575636e+00</td>\n",
       "      <td>4.369581e+00</td>\n",
       "      <td>3.383727e+00</td>\n",
       "      <td>...</td>\n",
       "      <td>8.636047e+00</td>\n",
       "      <td>7.209029e+00</td>\n",
       "      <td>1.166784e+01</td>\n",
       "      <td>7.250610e+00</td>\n",
       "      <td>4.885822e+00</td>\n",
       "      <td>6.527175e+00</td>\n",
       "      <td>6.315744e+00</td>\n",
       "      <td>3.157709e+01</td>\n",
       "      <td>2.519035e+01</td>\n",
       "      <td>1.000000</td>\n",
       "    </tr>\n",
       "  </tbody>\n",
       "</table>\n",
       "<p>8 rows × 30 columns</p>\n",
       "</div>"
      ],
      "text/plain": [
       "                 V1            V2            V3            V4            V5  \\\n",
       "count  5.989600e+04  5.989600e+04  5.989600e+04  5.989600e+04  5.989600e+04   \n",
       "mean   1.164859e-14  6.679772e-16  8.442572e-15 -9.516336e-15 -9.927160e-15   \n",
       "std    1.000008e+00  1.000008e+00  1.000008e+00  1.000008e+00  1.000008e+00   \n",
       "min   -5.135264e+00 -9.305500e+00 -3.894245e+00 -2.279478e+00 -5.632708e+00   \n",
       "25%   -1.648615e-01 -5.611446e-01 -2.877187e-01 -7.208703e-01 -1.151545e-01   \n",
       "50%    2.852177e-01 -2.497856e-01  3.905029e-01 -3.548739e-01  3.593851e-01   \n",
       "75%    6.606894e-01  3.068663e-01  6.417957e-01  7.013612e-01  5.514621e-01   \n",
       "max    9.393679e-01  5.314646e+00  1.241073e+00  2.682648e+00  8.243143e+00   \n",
       "\n",
       "                 V6            V7            V8            V9           V10  \\\n",
       "count  5.989600e+04  5.989600e+04  5.989600e+04  5.989600e+04  5.989600e+04   \n",
       "mean  -7.491362e-15 -4.567743e-15 -4.634842e-17  1.137433e-14  3.225012e-14   \n",
       "std    1.000008e+00  1.000008e+00  1.000008e+00  1.000008e+00  1.000008e+00   \n",
       "min   -1.201214e+01 -6.212682e+00 -7.948313e+00 -4.300934e+00 -4.274279e+00   \n",
       "25%   -5.526607e-01 -9.636724e-02 -1.023851e-01 -5.127421e-01 -3.818213e-01   \n",
       "50%   -1.585996e-02  3.723900e-01 -2.693055e-02  3.320507e-01  4.750726e-01   \n",
       "75%    4.451188e-01  5.342651e-01  1.417405e-01  6.463500e-01  6.505322e-01   \n",
       "max    9.058408e+00  3.859931e+00  2.575636e+00  4.369581e+00  3.383727e+00   \n",
       "\n",
       "           ...                V21           V22           V23           V24  \\\n",
       "count      ...       5.989600e+04  5.989600e+04  5.989600e+04  5.989600e+04   \n",
       "mean       ...       4.279185e-17 -7.569871e-15 -1.763639e-17  1.594777e-15   \n",
       "std        ...       1.000008e+00  1.000008e+00  1.000008e+00  1.000008e+00   \n",
       "min        ...      -8.688579e+00 -7.772215e+00 -4.595909e+01 -4.808060e+00   \n",
       "25%        ...      -8.533199e-02 -6.047778e-01 -2.953333e-01 -5.856560e-01   \n",
       "50%        ...       4.752955e-02 -7.817710e-02 -5.188014e-02  9.006832e-02   \n",
       "75%        ...       2.579258e-01  3.558174e-01  1.962104e-01  7.536924e-01   \n",
       "max        ...       8.636047e+00  7.209029e+00  1.166784e+01  7.250610e+00   \n",
       "\n",
       "                V25           V26           V27           V28        Amount  \\\n",
       "count  5.989600e+04  5.989600e+04  5.989600e+04  5.989600e+04  5.989600e+04   \n",
       "mean  -2.794331e-15  1.170175e-15  6.170316e-15  1.095728e-16 -1.442664e-14   \n",
       "std    1.000008e+00  1.000008e+00  1.000008e+00  1.000008e+00  1.000008e+00   \n",
       "min   -1.482014e+01 -3.423006e+00 -7.100716e+00 -1.616844e+01 -5.069373e-01   \n",
       "25%   -4.503969e-01 -7.257011e-01 -1.977542e-01 -2.015751e-01 -4.967869e-01   \n",
       "50%    1.725667e-01 -2.414648e-02 -6.608070e-02  1.404698e-01 -3.998653e-01   \n",
       "75%    5.764483e-01  6.152200e-01  3.592955e-01  4.318303e-01 -7.869207e-02   \n",
       "max    4.885822e+00  6.527175e+00  6.315744e+00  3.157709e+01  2.519035e+01   \n",
       "\n",
       "              Class  \n",
       "count  59896.000000  \n",
       "mean       0.000000  \n",
       "std        1.000008  \n",
       "min       -1.000000  \n",
       "25%       -1.000000  \n",
       "50%        0.000000  \n",
       "75%        1.000000  \n",
       "max        1.000000  \n",
       "\n",
       "[8 rows x 30 columns]"
      ]
     },
     "execution_count": 274,
     "metadata": {},
     "output_type": "execute_result"
    }
   ],
   "source": [
    "#Describe the data using statistics\n",
    "scaled_features_only.describe()"
   ]
  },
  {
   "cell_type": "markdown",
   "metadata": {},
   "source": [
    "Do we have any similarities between the features? And one way to check that is visually inspection the correlation matrix between the features"
   ]
  },
  {
   "cell_type": "code",
   "execution_count": 275,
   "metadata": {},
   "outputs": [
    {
     "data": {
      "image/png": "[encoded data removed]",
      "text/plain": [
       "<Figure size 720x720 with 2 Axes>"
      ]
     },
     "metadata": {},
     "output_type": "display_data"
    }
   ],
   "source": [
    "correlation_mat = scaled_features_only.corr()\n",
    "\n",
    "#Plot heatmap\n",
    "plt.figure(figsize=(10, 10))\n",
    "ax = sns.heatmap(correlation_mat)  # use this if want text added to each box annot=True\n",
    "plt.tight_layout()\n",
    "plt.show()"
   ]
  },
  {
   "cell_type": "markdown",
   "metadata": {},
   "source": [
    "Almost all of the features are not similar to one another, meaning our dataset is fairly diverse. This is yet another confirmation that we should keep all our feature space."
   ]
  },
  {
   "cell_type": "markdown",
   "metadata": {},
   "source": [
    "### Training, validation, and testing set preparation\n",
    "Priot to model selection we need to split the data into training, development (i.e. validation), and test set. We are using first 80% of the data as the training and validation set. The remaining 20% will be used as the testing set:"
   ]
  },
  {
   "cell_type": "code",
   "execution_count": 276,
   "metadata": {},
   "outputs": [],
   "source": [
    "TEST_RATIO = 0.20\n",
    "#scaled_features_only.sort_values('Time', inplace = True)\n",
    "TRA_INDEX = int((1-TEST_RATIO) * scaled_features_only.shape[0])\n",
    "train_x = scaled_features_only.iloc[:TRA_INDEX, 1:-2].values\n",
    "train_y = scaled_features_only.iloc[:TRA_INDEX, -1].values\n",
    "test_x = scaled_features_only.iloc[TRA_INDEX:, 1:-2].values\n",
    "test_y = scaled_features_only.iloc[TRA_INDEX:, -1].values\n",
    "\n",
    "# Number of cross validation used for all models\n",
    "CF_no = 10"
   ]
  },
  {
   "cell_type": "code",
   "execution_count": null,
   "metadata": {},
   "outputs": [],
   "source": []
  },
  {
   "cell_type": "code",
   "execution_count": 200,
   "metadata": {},
   "outputs": [],
   "source": [
    "scaled_features_only\n",
    "\n",
    "TEST_RATIO = 0.20\n",
    "df.sort_values('Time', inplace = True)\n",
    "TRA_INDEX = int((1-TEST_RATIO) * df.shape[0])\n",
    "train_x = df.iloc[:TRA_INDEX, 1:-2].values\n",
    "train_y = df.iloc[:TRA_INDEX, -1].values\n",
    "test_x = df.iloc[TRA_INDEX:, 1:-2].values\n",
    "test_y = df.iloc[TRA_INDEX:, -1].values\n",
    "\n",
    "# Number of cross validation used for all models\n",
    "CF_no = 10"
   ]
  },
  {
   "cell_type": "markdown",
   "metadata": {},
   "source": [
    "## Logistic regression model"
   ]
  },
  {
   "cell_type": "code",
   "execution_count": 283,
   "metadata": {},
   "outputs": [],
   "source": [
    "log_reg = sklearn.linear_model.LogisticRegression()\n",
    "score = sklearn.cross_validation.cross_val_score(log_reg, train_x, train_y, cv=CF_no)\n",
    "#print( score)"
   ]
  },
  {
   "cell_type": "code",
   "execution_count": 284,
   "metadata": {},
   "outputs": [
    {
     "name": "stdout",
     "output_type": "stream",
     "text": [
      "{'C': 1, 'penalty': 'l1'}\n"
     ]
    }
   ],
   "source": [
    "#Tune parameters\n",
    "#C parameter\n",
    "c_param = [0.01,0.1,0.5,1]\n",
    "\n",
    "#Tune the type of penalty used between l1 and l2\n",
    "penalty_type = ['l1','l2']\n",
    "parameters = {'C': c_param, 'penalty': penalty_type}\n",
    "\n",
    "#Fit parameters\n",
    "log_reg_tuned = GridSearchCV(log_reg, param_grid=parameters, cv=CF_no)\n",
    "\n",
    "#Fit the tunned classifier in the traiing space\n",
    "log_reg_tuned.fit(train_x, train_y)\n",
    "\n",
    "#Print the best parameters\n",
    "print(log_reg_tuned.best_params_)    "
   ]
  },
  {
   "cell_type": "code",
   "execution_count": 285,
   "metadata": {},
   "outputs": [],
   "source": [
    "# Check the prediction power of the model\n",
    "pred_y = np.array(log_reg_tuned.predict(test_x))\n",
    "true_y = np.array(test_y)"
   ]
  },
  {
   "cell_type": "markdown",
   "metadata": {},
   "source": [
    "### Evaluating the model\n",
    "Below we will use the confusion matrix which is a way of tabulating the number of misclassifications. Also, we can see the number of predicted classes which were categorized wrongly as true. But before that we need to set up a function that also plots the outcome of this matrix."
   ]
  },
  {
   "cell_type": "code",
   "execution_count": 286,
   "metadata": {},
   "outputs": [],
   "source": [
    "# A function to create confusion matrix. Part 1 of 2\n",
    "# This is part 1 that can be used for all models. Part 2 depends on model specific data\n",
    "\n",
    "import itertools  \n",
    "def plot_confusion_matrix(cm, classes,\n",
    "                          normalize=False,\n",
    "                          title='Confusion matrix',\n",
    "                          cmap=plt.cm.Blues):\n",
    "    \"\"\"\n",
    "    This function prints and plots the confusion matrix.\n",
    "    Normalization can be applied by setting `normalize=True.\n",
    "    \"\"\"\n",
    "    if normalize:\n",
    "        cm = cm.astype('float') / cm.sum(axis=1)[:, np.newaxis]\n",
    "        print(\"Normalized confusion matrix\")\n",
    "    else:\n",
    "        print('Confusion matrix, without normalization')\n",
    "\n",
    "    print(cm)\n",
    "\n",
    "    plt.imshow(cm, interpolation='nearest', cmap=cmap)\n",
    "    plt.title(title)\n",
    "    plt.colorbar()\n",
    "    tick_marks = np.arange(len(classes))\n",
    "    plt.xticks(tick_marks, classes, rotation=45)\n",
    "    plt.yticks(tick_marks, classes)\n",
    "\n",
    "    fmt = '.2f' if normalize else 'd'\n",
    "    thresh = cm.max() / 2.\n",
    "    for i, j in itertools.product(range(cm.shape[0]), range(cm.shape[1])):\n",
    "        plt.text(j, i, format(cm[i, j], fmt),\n",
    "                 horizontalalignment=\"center\",\n",
    "                 color=\"white\" if cm[i, j] > thresh else \"black\")\n",
    "\n",
    "    plt.tight_layout()\n",
    "    plt.ylabel('True label')\n",
    "    plt.xlabel('Predicted label')"
   ]
  },
  {
   "cell_type": "code",
   "execution_count": 287,
   "metadata": {},
   "outputs": [
    {
     "name": "stdout",
     "output_type": "stream",
     "text": [
      "Confusion matrix, without normalization\n",
      "[[    0     0]\n",
      " [  254 11726]]\n"
     ]
    },
    {
     "data": {
      "image/png": "[encoded data removed]",
      "text/plain": [
       "<Figure size 432x288 with 2 Axes>"
      ]
     },
     "metadata": {},
     "output_type": "display_data"
    }
   ],
   "source": [
    "# A function to create confusion matrix. Part 2 of 2\n",
    "class_names = ['No Fraud', 'Fraud']\n",
    "np.set_printoptions(precision=2)\n",
    "\n",
    "cnf_matrix = confusion_matrix(true_y, pred_y)\n",
    "plt.figure()\n",
    "plot_confusion_matrix(cnf_matrix, classes=class_names, \n",
    "                      title='Confusion matrix')\n",
    "plt.show()\n",
    "\n",
    "# IMPORTANT: first argument is true values, second argument is predicted values\n",
    "# this produces a 2x2 numpy array (matrix)"
   ]
  },
  {
   "cell_type": "code",
   "execution_count": 288,
   "metadata": {},
   "outputs": [
    {
     "name": "stdout",
     "output_type": "stream",
     "text": [
      "True Positives (TP): We correctly predicted the fraud: 11726. \n",
      "True Negatives (TN): we correctly predicted that no fraud: 0. \n",
      "False Positives (FP): we incorrectly predicted that it is a fraud or Type I error: 0. \n",
      "False Negatives (FN): we incorrectly predicted that it is not a fraud or Type II error: 254. \n"
     ]
    }
   ],
   "source": [
    "# Metrics computed from a confusion matrix\n",
    "\n",
    "#cnf_matrix_metrics = metrics.confusion_matrix(test_y, pred_y)\n",
    "#[row, column]\n",
    "TP = cnf_matrix[1, 1]\n",
    "TN = cnf_matrix[0, 0]\n",
    "FP = cnf_matrix[0, 1]\n",
    "FN = cnf_matrix[1, 0]\n",
    "\n",
    "# Classification Accuracy: Overall, how often is the classifier correct?\n",
    "# use float to perform true division, not integer division\n",
    "\n",
    "print(\"True Positives (TP): We correctly predicted the fraud: {}. \".format(TP))\n",
    "print(\"True Negatives (TN): we correctly predicted that no fraud: {}. \".format(TN))\n",
    "print(\"False Positives (FP): we incorrectly predicted that it is a fraud or Type I error: {}. \".format(FP))\n",
    "print(\"False Negatives (FN): we incorrectly predicted that it is not a fraud or Type II error: {}. \".format(FN))"
   ]
  },
  {
   "cell_type": "code",
   "execution_count": 289,
   "metadata": {},
   "outputs": [
    {
     "name": "stdout",
     "output_type": "stream",
     "text": [
      "Overall, how often is the classifier correct? 0.9787979966611018. \n",
      "Overall, how often is the classifier incorrect? 0.021202003338898164. \n",
      "When the actual value is positive, how often is the prediction correct (sensitivity or recall)? 0.9787979966611018.\n",
      "When the actual value is negative, how often is the prediction correct (specificity)? nan.\n",
      "When the actual value is negative, how often is the prediction incorrect (false positive rate)? nan.\n",
      "When a positive value is predicted, how often is the prediction correct? 1.0.\n"
     ]
    },
    {
     "name": "stderr",
     "output_type": "stream",
     "text": [
      "C:\\Users\\aath\\AppData\\Local\\Continuum\\anaconda3\\lib\\site-packages\\ipykernel_launcher.py:6: RuntimeWarning: invalid value encountered in longlong_scalars\n",
      "  \n",
      "C:\\Users\\aath\\AppData\\Local\\Continuum\\anaconda3\\lib\\site-packages\\ipykernel_launcher.py:7: RuntimeWarning: invalid value encountered in true_divide\n",
      "  import sys\n"
     ]
    }
   ],
   "source": [
    "# Classification Accuracy: Overall, how often is the classifier correct?\n",
    "\n",
    "print(\"Overall, how often is the classifier correct? {}. \".format((TP + TN) / float(TP + TN + FP + FN)))      \n",
    "print(\"Overall, how often is the classifier incorrect? {}. \".format((FP + FN) / float(TP + TN + FP + FN))) \n",
    "print(\"When the actual value is positive, how often is the prediction correct (sensitivity or recall)? {}.\".format(TP / float(FN + TP))) \n",
    "print(\"When the actual value is negative, how often is the prediction correct (specificity)? {}.\".format(TN / (TN + FP))) \n",
    "print(\"When the actual value is negative, how often is the prediction incorrect (false positive rate)? {}.\".format(FP / float(TN + FP))) \n",
    "print(\"When a positive value is predicted, how often is the prediction correct? {}.\".format(TP / float(TP + FP))) "
   ]
  },
  {
   "cell_type": "code",
   "execution_count": 290,
   "metadata": {},
   "outputs": [],
   "source": [
    "# Which metrics should you focus on?\n",
    "# This is the case of fraud detection therefore we should optimize for sensitivity or recall:\n",
    "# FN is in this case more important as false positives (normal transactions that are marked as possible fraud\n",
    "# are more acceptable than false negatives where actual fraud has happened and we fail to detect"
   ]
  },
  {
   "cell_type": "code",
   "execution_count": null,
   "metadata": {},
   "outputs": [],
   "source": []
  },
  {
   "cell_type": "markdown",
   "metadata": {},
   "source": [
    "99.9% overall accuracy is very impressive. However, in this case where we have a very imbalanced dataset the recall or sensitivity is the most important indicator of success. \n",
    "\n",
    "Next, we will try a different model to see if we can improve the this accuracy."
   ]
  },
  {
   "cell_type": "markdown",
   "metadata": {},
   "source": [
    "## Decision tree"
   ]
  },
  {
   "cell_type": "code",
   "execution_count": 291,
   "metadata": {},
   "outputs": [
    {
     "name": "stdout",
     "output_type": "stream",
     "text": [
      "{'criterion': 'gini', 'max_depth': 15, 'min_samples_leaf': 4}\n"
     ]
    }
   ],
   "source": [
    "D_tree = DecisionTreeClassifier(random_state=37)\n",
    "params = {\"max_depth\": [2, 5, 10, 15], \"min_samples_leaf\": sp_randint(1, 5), \n",
    "          \"criterion\": [\"gini\", \"entropy\"]}\n",
    "\n",
    "D_tree_tuned = RandomizedSearchCV(D_tree, params)\n",
    "D_tree_tuned.fit(train_x,train_y)\n",
    "\n",
    "#Print the best parameters\n",
    "print(D_tree_tuned.best_params_)  "
   ]
  },
  {
   "cell_type": "code",
   "execution_count": 292,
   "metadata": {},
   "outputs": [],
   "source": [
    "# Check the prediction power of the model\n",
    "pred_y = np.array(D_tree_tuned.predict(test_x))\n",
    "true_y = np.array(test_y)"
   ]
  },
  {
   "cell_type": "code",
   "execution_count": 293,
   "metadata": {},
   "outputs": [
    {
     "name": "stdout",
     "output_type": "stream",
     "text": [
      "Confusion matrix, without normalization\n",
      "[[11980]]\n"
     ]
    },
    {
     "data": {
      "image/png": "[encoded data removed]",
      "text/plain": [
       "<Figure size 432x288 with 2 Axes>"
      ]
     },
     "metadata": {},
     "output_type": "display_data"
    }
   ],
   "source": [
    "class_names = ['No Fraud', 'Fraud']\n",
    "np.set_printoptions(precision=2)\n",
    "\n",
    "cnf_matrix = confusion_matrix(true_y, pred_y)\n",
    "plt.figure()\n",
    "plot_confusion_matrix(cnf_matrix, classes=class_names, \n",
    "                      title='Confusion matrix')\n",
    "plt.show()"
   ]
  },
  {
   "cell_type": "code",
   "execution_count": 295,
   "metadata": {},
   "outputs": [
    {
     "ename": "IndexError",
     "evalue": "index 1 is out of bounds for axis 0 with size 1",
     "output_type": "error",
     "traceback": [
      "\u001b[1;31m---------------------------------------------------------------------------\u001b[0m",
      "\u001b[1;31mIndexError\u001b[0m                                Traceback (most recent call last)",
      "\u001b[1;32m<ipython-input-295-e94f4b9639cd>\u001b[0m in \u001b[0;36m<module>\u001b[1;34m()\u001b[0m\n\u001b[0;32m      5\u001b[0m \u001b[1;33m\u001b[0m\u001b[0m\n\u001b[0;32m      6\u001b[0m \u001b[1;31m#[row, column]\u001b[0m\u001b[1;33m\u001b[0m\u001b[1;33m\u001b[0m\u001b[0m\n\u001b[1;32m----> 7\u001b[1;33m \u001b[0mTP\u001b[0m \u001b[1;33m=\u001b[0m \u001b[0mcnf_matrix\u001b[0m\u001b[1;33m[\u001b[0m\u001b[1;36m1\u001b[0m\u001b[1;33m,\u001b[0m \u001b[1;36m1\u001b[0m\u001b[1;33m]\u001b[0m\u001b[1;33m\u001b[0m\u001b[0m\n\u001b[0m\u001b[0;32m      8\u001b[0m \u001b[0mTN\u001b[0m \u001b[1;33m=\u001b[0m \u001b[0mcnf_matrix\u001b[0m\u001b[1;33m[\u001b[0m\u001b[1;36m0\u001b[0m\u001b[1;33m,\u001b[0m \u001b[1;36m0\u001b[0m\u001b[1;33m]\u001b[0m\u001b[1;33m\u001b[0m\u001b[0m\n\u001b[0;32m      9\u001b[0m \u001b[0mFP\u001b[0m \u001b[1;33m=\u001b[0m \u001b[0mcnf_matrix\u001b[0m\u001b[1;33m[\u001b[0m\u001b[1;36m0\u001b[0m\u001b[1;33m,\u001b[0m \u001b[1;36m1\u001b[0m\u001b[1;33m]\u001b[0m\u001b[1;33m\u001b[0m\u001b[0m\n",
      "\u001b[1;31mIndexError\u001b[0m: index 1 is out of bounds for axis 0 with size 1"
     ]
    }
   ],
   "source": [
    "# Metrics computed from a confusion matrix\n",
    "\n",
    "# save confusion matrix and slice into four pieces\n",
    "cnf_matrix_metrics = metrics.confusion_matrix(test_y, pred_y)\n",
    "\n",
    "#[row, column]\n",
    "TP = cnf_matrix[1, 1]\n",
    "TN = cnf_matrix[0, 0]\n",
    "FP = cnf_matrix[0, 1]\n",
    "FN = cnf_matrix[1, 0]\n",
    "\n",
    "# Classification Accuracy: Overall, how often is the classifier correct?\n",
    "# use float to perform true division, not integer division\n",
    "\n",
    "print(\"True Positives (TP): We correctly predicted the fraud: {}. \".format(TP))\n",
    "print(\"True Negatives (TN): we correctly predicted that no fraud: {}. \".format(TN))\n",
    "print(\"False Positives (FP): we incorrectly predicted that it is a fraud or Type I error: {}. \".format(FP))\n",
    "print(\"False Negatives (FN): we incorrectly predicted that it is not a fraud or Type II error: {}. \".format(FN))"
   ]
  },
  {
   "cell_type": "code",
   "execution_count": null,
   "metadata": {},
   "outputs": [],
   "source": []
  },
  {
   "cell_type": "code",
   "execution_count": 296,
   "metadata": {},
   "outputs": [
    {
     "name": "stdout",
     "output_type": "stream",
     "text": [
      "Overall, how often is the classifier correct? 0.9787979966611018. \n",
      "Overall, how often is the classifier incorrect? 0.021202003338898164. \n",
      "When the actual value is positive, how often is the prediction correct (sensitivity or recall)? 0.9787979966611018.\n",
      "When the actual value is negative, how often is the prediction correct (specificity)? nan.\n",
      "When the actual value is negative, how often is the prediction incorrect (false positive rate)? nan.\n",
      "When a positive value is predicted, how often is the prediction correct? 1.0.\n"
     ]
    },
    {
     "name": "stderr",
     "output_type": "stream",
     "text": [
      "C:\\Users\\aath\\AppData\\Local\\Continuum\\anaconda3\\lib\\site-packages\\ipykernel_launcher.py:6: RuntimeWarning: invalid value encountered in longlong_scalars\n",
      "  \n",
      "C:\\Users\\aath\\AppData\\Local\\Continuum\\anaconda3\\lib\\site-packages\\ipykernel_launcher.py:7: RuntimeWarning: invalid value encountered in true_divide\n",
      "  import sys\n"
     ]
    }
   ],
   "source": [
    "# Classification Accuracy: Overall, how often is the classifier correct?\n",
    "\n",
    "print(\"Overall, how often is the classifier correct? {}. \".format((TP + TN) / float(TP + TN + FP + FN)))      \n",
    "print(\"Overall, how often is the classifier incorrect? {}. \".format((FP + FN) / float(TP + TN + FP + FN))) \n",
    "print(\"When the actual value is positive, how often is the prediction correct (sensitivity or recall)? {}.\".format(TP / float(FN + TP))) \n",
    "print(\"When the actual value is negative, how often is the prediction correct (specificity)? {}.\".format(TN / (TN + FP))) \n",
    "print(\"When the actual value is negative, how often is the prediction incorrect (false positive rate)? {}.\".format(FP / float(TN + FP))) \n",
    "print(\"When a positive value is predicted, how often is the prediction correct? {}.\".format(TP / float(TP + FP))) "
   ]
  },
  {
   "cell_type": "code",
   "execution_count": 297,
   "metadata": {},
   "outputs": [],
   "source": [
    "# Which metrics should you focus on?\n",
    "# This is the case of fraud detection therefore we should optimize for sensitivity or recall:\n",
    "# FN is in this case more important as false positives (normal transactions that are marked as possible fraud\n",
    "# are more acceptable than false negatives where actual fraud has happened and we fail to detect"
   ]
  },
  {
   "cell_type": "markdown",
   "metadata": {},
   "source": [
    "Try another model"
   ]
  },
  {
   "cell_type": "markdown",
   "metadata": {},
   "source": [
    "## Naive Bayes Classifier"
   ]
  },
  {
   "cell_type": "code",
   "execution_count": 298,
   "metadata": {},
   "outputs": [],
   "source": [
    "# Prepare dataframe tables\n",
    "X1 = scaled_features_only.iloc[:, 1:-2].values\n",
    "y1 = scaled_features_only.iloc[:, -1].values"
   ]
  },
  {
   "cell_type": "code",
   "execution_count": 299,
   "metadata": {},
   "outputs": [
    {
     "ename": "ValueError",
     "evalue": "Found input variables with inconsistent numbers of samples: [59896, 59896, 19960]",
     "output_type": "error",
     "traceback": [
      "\u001b[1;31m---------------------------------------------------------------------------\u001b[0m",
      "\u001b[1;31mValueError\u001b[0m                                Traceback (most recent call last)",
      "\u001b[1;32m<ipython-input-299-706f34a15af0>\u001b[0m in \u001b[0;36m<module>\u001b[1;34m()\u001b[0m\n\u001b[0;32m     24\u001b[0m \u001b[1;33m\u001b[0m\u001b[0m\n\u001b[0;32m     25\u001b[0m \u001b[1;31m# # split train, test for calibration\u001b[0m\u001b[1;33m\u001b[0m\u001b[1;33m\u001b[0m\u001b[0m\n\u001b[1;32m---> 26\u001b[1;33m \u001b[0mX_train\u001b[0m\u001b[1;33m,\u001b[0m \u001b[0mX_test\u001b[0m\u001b[1;33m,\u001b[0m \u001b[0my_train\u001b[0m\u001b[1;33m,\u001b[0m \u001b[0my_test\u001b[0m\u001b[1;33m,\u001b[0m \u001b[0msw_train\u001b[0m\u001b[1;33m,\u001b[0m \u001b[0msw_test\u001b[0m \u001b[1;33m=\u001b[0m     \u001b[0mtrain_test_split\u001b[0m\u001b[1;33m(\u001b[0m\u001b[0mX1\u001b[0m\u001b[1;33m,\u001b[0m \u001b[0my1\u001b[0m\u001b[1;33m,\u001b[0m \u001b[0msample_weight\u001b[0m\u001b[1;33m,\u001b[0m \u001b[0mtest_size\u001b[0m\u001b[1;33m=\u001b[0m\u001b[1;36m0.8\u001b[0m\u001b[1;33m,\u001b[0m \u001b[0mrandom_state\u001b[0m\u001b[1;33m=\u001b[0m\u001b[1;36m42\u001b[0m\u001b[1;33m)\u001b[0m\u001b[1;33m\u001b[0m\u001b[0m\n\u001b[0m",
      "\u001b[1;32m~\\AppData\\Local\\Continuum\\anaconda3\\lib\\site-packages\\sklearn\\model_selection\\_split.py\u001b[0m in \u001b[0;36mtrain_test_split\u001b[1;34m(*arrays, **options)\u001b[0m\n\u001b[0;32m   2029\u001b[0m         \u001b[0mtest_size\u001b[0m \u001b[1;33m=\u001b[0m \u001b[1;36m0.25\u001b[0m\u001b[1;33m\u001b[0m\u001b[0m\n\u001b[0;32m   2030\u001b[0m \u001b[1;33m\u001b[0m\u001b[0m\n\u001b[1;32m-> 2031\u001b[1;33m     \u001b[0marrays\u001b[0m \u001b[1;33m=\u001b[0m \u001b[0mindexable\u001b[0m\u001b[1;33m(\u001b[0m\u001b[1;33m*\u001b[0m\u001b[0marrays\u001b[0m\u001b[1;33m)\u001b[0m\u001b[1;33m\u001b[0m\u001b[0m\n\u001b[0m\u001b[0;32m   2032\u001b[0m \u001b[1;33m\u001b[0m\u001b[0m\n\u001b[0;32m   2033\u001b[0m     \u001b[1;32mif\u001b[0m \u001b[0mshuffle\u001b[0m \u001b[1;32mis\u001b[0m \u001b[1;32mFalse\u001b[0m\u001b[1;33m:\u001b[0m\u001b[1;33m\u001b[0m\u001b[0m\n",
      "\u001b[1;32m~\\AppData\\Local\\Continuum\\anaconda3\\lib\\site-packages\\sklearn\\utils\\validation.py\u001b[0m in \u001b[0;36mindexable\u001b[1;34m(*iterables)\u001b[0m\n\u001b[0;32m    227\u001b[0m         \u001b[1;32melse\u001b[0m\u001b[1;33m:\u001b[0m\u001b[1;33m\u001b[0m\u001b[0m\n\u001b[0;32m    228\u001b[0m             \u001b[0mresult\u001b[0m\u001b[1;33m.\u001b[0m\u001b[0mappend\u001b[0m\u001b[1;33m(\u001b[0m\u001b[0mnp\u001b[0m\u001b[1;33m.\u001b[0m\u001b[0marray\u001b[0m\u001b[1;33m(\u001b[0m\u001b[0mX\u001b[0m\u001b[1;33m)\u001b[0m\u001b[1;33m)\u001b[0m\u001b[1;33m\u001b[0m\u001b[0m\n\u001b[1;32m--> 229\u001b[1;33m     \u001b[0mcheck_consistent_length\u001b[0m\u001b[1;33m(\u001b[0m\u001b[1;33m*\u001b[0m\u001b[0mresult\u001b[0m\u001b[1;33m)\u001b[0m\u001b[1;33m\u001b[0m\u001b[0m\n\u001b[0m\u001b[0;32m    230\u001b[0m     \u001b[1;32mreturn\u001b[0m \u001b[0mresult\u001b[0m\u001b[1;33m\u001b[0m\u001b[0m\n\u001b[0;32m    231\u001b[0m \u001b[1;33m\u001b[0m\u001b[0m\n",
      "\u001b[1;32m~\\AppData\\Local\\Continuum\\anaconda3\\lib\\site-packages\\sklearn\\utils\\validation.py\u001b[0m in \u001b[0;36mcheck_consistent_length\u001b[1;34m(*arrays)\u001b[0m\n\u001b[0;32m    202\u001b[0m     \u001b[1;32mif\u001b[0m \u001b[0mlen\u001b[0m\u001b[1;33m(\u001b[0m\u001b[0muniques\u001b[0m\u001b[1;33m)\u001b[0m \u001b[1;33m>\u001b[0m \u001b[1;36m1\u001b[0m\u001b[1;33m:\u001b[0m\u001b[1;33m\u001b[0m\u001b[0m\n\u001b[0;32m    203\u001b[0m         raise ValueError(\"Found input variables with inconsistent numbers of\"\n\u001b[1;32m--> 204\u001b[1;33m                          \" samples: %r\" % [int(l) for l in lengths])\n\u001b[0m\u001b[0;32m    205\u001b[0m \u001b[1;33m\u001b[0m\u001b[0m\n\u001b[0;32m    206\u001b[0m \u001b[1;33m\u001b[0m\u001b[0m\n",
      "\u001b[1;31mValueError\u001b[0m: Found input variables with inconsistent numbers of samples: [59896, 59896, 19960]"
     ]
    }
   ],
   "source": [
    "import numpy as np\n",
    "import matplotlib.pyplot as plt\n",
    "from matplotlib import cm\n",
    "from sklearn.datasets import make_blobs\n",
    "from sklearn.naive_bayes import GaussianNB\n",
    "from sklearn.metrics import accuracy_score, precision_score, recall_score, confusion_matrix, precision_recall_curve\n",
    "from sklearn.preprocessing import RobustScaler\n",
    "from sklearn.metrics import brier_score_loss\n",
    "from sklearn.calibration import CalibratedClassifierCV\n",
    "from sklearn.model_selection import train_test_split\n",
    "\n",
    "n_samples = 19960\n",
    "n_bins = 2  # use 3 bins for calibration_curve as we have 3 clusters here\n",
    "\n",
    "# Generate 3 blobs with 2 classes where the second blob contains\n",
    "# half positive samples and half negative samples. Probability in this\n",
    "# blob is therefore 0.5.\n",
    "centers = [(-5, -5), (0, 0), (5, 5)]\n",
    "X, y = make_blobs(n_samples=n_samples, n_features=2, cluster_std=1.0,\n",
    "                   centers=centers, shuffle=False, random_state=42)\n",
    "y[:n_samples // 2] = 0\n",
    "y[n_samples // 2:] = 1\n",
    "sample_weight = np.random.RandomState(42).rand(y.shape[0])\n",
    "\n",
    "# # split train, test for calibration\n",
    "X_train, X_test, y_train, y_test, sw_train, sw_test = \\\n",
    "    train_test_split(X1, y1, sample_weight, test_size=0.8, random_state=42)"
   ]
  },
  {
   "cell_type": "code",
   "execution_count": 236,
   "metadata": {},
   "outputs": [
    {
     "data": {
      "text/plain": [
       "array([[-0.24,  0.54, -0.8 , ...,  1.54, -0.05,  0.02],\n",
       "       [ 0.01, -0.62,  0.82, ..., -0.07,  0.76,  0.34],\n",
       "       [-0.61,  0.5 , -0.23, ...,  4.75, -0.1 , -0.01],\n",
       "       ...,\n",
       "       [-0.16,  0.2 , -1.4 , ...,  0.18,  0.34,  0.51],\n",
       "       [-0.08,  0.66, -0.75, ...,  0.66, -0.04,  0.01],\n",
       "       [-0.27,  0.45, -0.41, ..., -0.4 ,  0.08,  0.14]])"
      ]
     },
     "execution_count": 236,
     "metadata": {},
     "output_type": "execute_result"
    }
   ],
   "source": [
    "X_train = scaled_features_only.iloc[:TRA_INDEX, 1:-2].values\n",
    "y_train = df.iloc[:TRA_INDEX, -1].values\n",
    "X_test = df.iloc[TRA_INDEX:, 1:-2].values\n",
    "y_test = df.iloc[TRA_INDEX:, -1].values"
   ]
  },
  {
   "cell_type": "markdown",
   "metadata": {},
   "source": [
    "In this classification exercise we are also interested in the associated probabilities. These probabilities give us a some kind of confidence on the prediction. However, not all classifiers provide well-calibrated probabilities, some being over-confident while others being under-confident. Thus, a separate calibration of predicted probabilities is often desirable as a postprocessing. Below we use different calibration methods to evaluate the quality of the returned probabilities using Brier’s score."
   ]
  },
  {
   "cell_type": "code",
   "execution_count": null,
   "metadata": {},
   "outputs": [],
   "source": []
  },
  {
   "cell_type": "code",
   "execution_count": 303,
   "metadata": {},
   "outputs": [
    {
     "name": "stdout",
     "output_type": "stream",
     "text": [
      "Brier scores: (the smaller the better)\n",
      "No calibration: 0.133\n",
      "With isotonic calibration: 0.099\n",
      "With sigmoid calibration: 0.109\n"
     ]
    }
   ],
   "source": [
    "# Use the Brier score which measures the accuracy of probabilistic predictions. \n",
    "# It is applicable to tasks in which predictions must assign probabilities to a set of mutually \n",
    "# exclusive discrete outcomes.”\n",
    "# This function returns a score of the mean square difference between \n",
    "# the actual outcome and the predicted probability of the possible outcome. \n",
    "# The actual outcome has to be 1 or 0 (true or false), while the predicted probability of the actual \n",
    "# outcome can be a value between 0 and 1.\n",
    "\n",
    "# The brier score loss is also between 0 to 1 and the lower the score (the mean square difference is smaller), \n",
    "# the more accurate the prediction is. \n",
    "# It can be thought of as a measure of the “calibration” of a set of probabilistic predictions.\n",
    "\n",
    "# Gaussian Naive-Bayes with no calibration\n",
    "clf = GaussianNB()\n",
    "clf.fit(X_train, y_train)  # GaussianNB itself does not support sample-weights\n",
    "prob_pos_clf = clf.predict_proba(X_test)[:, 1]\n",
    "\n",
    "# Gaussian Naive-Bayes with isotonic calibration\n",
    "clf_isotonic = CalibratedClassifierCV(clf, cv=CF_no, method='isotonic')\n",
    "clf_isotonic.fit(X_train, y_train, sw_train)\n",
    "prob_pos_isotonic = clf_isotonic.predict_proba(X_test)[:, 1]\n",
    "\n",
    "# Gaussian Naive-Bayes with sigmoid calibration\n",
    "clf_sigmoid = CalibratedClassifierCV(clf, cv=CF_no, method='sigmoid')\n",
    "clf_sigmoid.fit(X_train, y_train, sw_train)\n",
    "prob_pos_sigmoid = clf_sigmoid.predict_proba(X_test)[:, 1]\n",
    "\n",
    "print(\"Brier scores: (the smaller the better)\")\n",
    "\n",
    "clf_score = brier_score_loss(y_test, prob_pos_clf, sw_test)\n",
    "print(\"No calibration: %1.3f\" % clf_score)\n",
    "\n",
    "clf_isotonic_score = brier_score_loss(y_test, prob_pos_isotonic, sw_test)\n",
    "print(\"With isotonic calibration: %1.3f\" % clf_isotonic_score)\n",
    "\n",
    "clf_sigmoid_score = brier_score_loss(y_test, prob_pos_sigmoid, sw_test)\n",
    "print(\"With sigmoid calibration: %1.3f\" % clf_sigmoid_score)"
   ]
  },
  {
   "cell_type": "markdown",
   "metadata": {},
   "source": [
    "Based on Brier scores isotoic calibration is working best and we can also illustrate the same conclusion using below plots.\n",
    "\n",
    "Below compares the estimated probability using a Gaussian naive Bayes classifier without calibration, with a sigmoid calibration, and with a non-parametric isotonic calibration. One can observe that only the non-parametric model is able to provide a probability calibration that returns probabilities close to the expected 0.5 for most of the samples belonging to the middle cluster with heterogeneous labels in the second figure. The second figure alibration. "
   ]
  },
  {
   "cell_type": "markdown",
   "metadata": {},
   "source": [
    "First we create the dataset with 2 classes and 3 blobs of data. The blob in the middle contains random samples of each class. Therefore, the probability for the samples in this blob should be 0.5. And later we will see which calibration method represent this middle blob more accurately. This is same has having the lowest Brier score."
   ]
  },
  {
   "cell_type": "code",
   "execution_count": 304,
   "metadata": {},
   "outputs": [
    {
     "data": {
      "text/plain": [
       "Text(0.5,1,'Data')"
      ]
     },
     "execution_count": 304,
     "metadata": {},
     "output_type": "execute_result"
    },
    {
     "data": {
      "image/png": "[encoded data removed]",
      "text/plain": [
       "<Figure size 432x288 with 1 Axes>"
      ]
     },
     "metadata": {},
     "output_type": "display_data"
    }
   ],
   "source": [
    "# The dataset is plotted below as 3 blobs of data where the middle contains a random sample of each class hence should\n",
    "# have the probability of 50%\n",
    "\n",
    "plt.figure()\n",
    "y_unique = np.unique(y)\n",
    "colors = cm.rainbow(np.linspace(0.0, 1.0, y_unique.size))\n",
    "for this_y, color in zip(y_unique, colors):\n",
    "    this_X = X_train[y_train == this_y]\n",
    "    this_sw = sw_train[y_train == this_y]\n",
    "    plt.scatter(this_X[:, 0], this_X[:, 1], s=this_sw * 50, c=color,\n",
    "                alpha=0.5, edgecolor='k',\n",
    "                label=\"Class %s\" % this_y)\n",
    "plt.legend(loc=\"best\")\n",
    "plt.title(\"Data\")"
   ]
  },
  {
   "cell_type": "markdown",
   "metadata": {},
   "source": [
    "Next, we show the data above with estimated probability using a Gaussian naive Bayes classifier without calibration, with a sigmoid calibration and with a non-parametric isotonic calibration. One can observe that the non-parametric model provides the most accurate probability estimates for samples in the middle, i.e., 0.5."
   ]
  },
  {
   "cell_type": "code",
   "execution_count": 305,
   "metadata": {},
   "outputs": [
    {
     "ename": "ValueError",
     "evalue": "cannot reshape array of size 15968 into shape (25,newaxis)",
     "output_type": "error",
     "traceback": [
      "\u001b[1;31m---------------------------------------------------------------------------\u001b[0m",
      "\u001b[1;31mValueError\u001b[0m                                Traceback (most recent call last)",
      "\u001b[1;32m<ipython-input-305-4d0090a22453>\u001b[0m in \u001b[0;36m<module>\u001b[1;34m()\u001b[0m\n\u001b[0;32m     10\u001b[0m          label='Sigmoid calibration (%1.3f)' % clf_sigmoid_score)\n\u001b[0;32m     11\u001b[0m \u001b[1;33m\u001b[0m\u001b[0m\n\u001b[1;32m---> 12\u001b[1;33m plt.plot(np.linspace(0, y_test.size, 51)[1::2], y_test[order].reshape(25, -1).mean(1),\n\u001b[0m\u001b[0;32m     13\u001b[0m          'k', linewidth=3, label=r'Empirical')\n\u001b[0;32m     14\u001b[0m \u001b[1;33m\u001b[0m\u001b[0m\n",
      "\u001b[1;31mValueError\u001b[0m: cannot reshape array of size 15968 into shape (25,newaxis)"
     ]
    },
    {
     "data": {
      "image/png": "[encoded data removed]",
      "text/plain": [
       "<Figure size 432x288 with 1 Axes>"
      ]
     },
     "metadata": {},
     "output_type": "display_data"
    }
   ],
   "source": [
    "# Plot the predicted probabilities\n",
    "plt.figure()\n",
    "order = np.lexsort((prob_pos_clf, ))\n",
    "plt.plot(prob_pos_clf[order], 'r', label='No calibration (%1.3f)' % clf_score)\n",
    "\n",
    "plt.plot(prob_pos_isotonic[order], 'g', linewidth=3,\n",
    "         label='Isotonic calibration (%1.3f)' % clf_isotonic_score)\n",
    "\n",
    "plt.plot(prob_pos_sigmoid[order], 'b', linewidth=3,\n",
    "         label='Sigmoid calibration (%1.3f)' % clf_sigmoid_score)\n",
    "\n",
    "plt.plot(np.linspace(0, y_test.size, 51)[1::2], y_test[order].reshape(25, -1).mean(1),\n",
    "         'k', linewidth=3, label=r'Empirical')\n",
    "\n",
    "plt.ylim([-0.05, 1.05])\n",
    "plt.xlabel(\"Instances sorted according to predicted probability \"\n",
    "           \"(uncalibrated GNB)\")\n",
    "plt.ylabel(\"P(y=1)\")\n",
    "plt.legend(loc=\"upper left\")\n",
    "plt.title(\"Gaussian naive Bayes probabilities\")\n",
    "\n",
    "plt.show()"
   ]
  },
  {
   "cell_type": "markdown",
   "metadata": {},
   "source": [
    "Below we continue using Naive Bayes caliberated with isotonic method. "
   ]
  },
  {
   "cell_type": "code",
   "execution_count": 306,
   "metadata": {},
   "outputs": [
    {
     "name": "stdout",
     "output_type": "stream",
     "text": [
      "Computational efforts: 0.0 seconds ---\n",
      "Accuracy: 0.8642910821643287. \n",
      "Precision: 0.9706601466992665. \n",
      "Recall: 0.7498111306975573. \n"
     ]
    }
   ],
   "source": [
    "# We see isotonic calibration is performing best and below we run model evaluation on this version of Naive Bayes\n",
    "\n",
    "y_pred_test = clf_sigmoid.predict(X_test)\n",
    "\n",
    "#Print the time required to fit and evaluate the model\n",
    "start_time = time.time()\n",
    "print(\"Computational efforts: %s seconds ---\" % (time.time() - start_time))\n",
    "\n",
    "clf_isotonic_accuracy = accuracy_score(y_pred=y_pred_test, y_true=y_test)\n",
    "clf_isotonic_precision = precision_score(y_pred=y_pred_test, y_true=y_test)\n",
    "clf_isotonic_recall = recall_score(y_pred=y_pred_test, y_true=y_test)\n",
    "\n",
    "print(\"Accuracy: {}. \".format(clf_isotonic_accuracy))\n",
    "print(\"Precision: {}. \".format(clf_isotonic_precision))\n",
    "print(\"Recall: {}. \".format(clf_isotonic_recall))"
   ]
  },
  {
   "cell_type": "code",
   "execution_count": 307,
   "metadata": {},
   "outputs": [
    {
     "name": "stdout",
     "output_type": "stream",
     "text": [
      "Confusion matrix, without normalization\n",
      "[[7846  180]\n",
      " [1987 5955]]\n"
     ]
    },
    {
     "data": {
      "image/png": "[encoded data removed]",
      "text/plain": [
       "<Figure size 432x288 with 2 Axes>"
      ]
     },
     "metadata": {},
     "output_type": "display_data"
    }
   ],
   "source": [
    "#Confusion matrix\n",
    "\n",
    "cnf_matrix = confusion_matrix(y_pred=y_pred_test, y_true=y_test)\n",
    "plt.figure()\n",
    "plot_confusion_matrix(cnf_matrix, classes=class_names, \n",
    "                      title='Confusion matrix')\n",
    "plt.show()"
   ]
  },
  {
   "cell_type": "markdown",
   "metadata": {},
   "source": [
    "So far, Naive Bayes performs worst among the models and because of the nature of this business the performance of this model is not acceptable."
   ]
  },
  {
   "cell_type": "code",
   "execution_count": null,
   "metadata": {},
   "outputs": [],
   "source": []
  },
  {
   "cell_type": "markdown",
   "metadata": {},
   "source": [
    "## KNeighbors Classifier"
   ]
  },
  {
   "cell_type": "code",
   "execution_count": 308,
   "metadata": {},
   "outputs": [
    {
     "data": {
      "text/plain": [
       "((47916, 27), (47916,), (11980, 27), (11980,))"
      ]
     },
     "execution_count": 308,
     "metadata": {},
     "output_type": "execute_result"
    }
   ],
   "source": [
    "train_x.shape,train_y.shape,test_x.shape,test_y.shape,"
   ]
  },
  {
   "cell_type": "code",
   "execution_count": null,
   "metadata": {},
   "outputs": [],
   "source": []
  },
  {
   "cell_type": "code",
   "execution_count": null,
   "metadata": {},
   "outputs": [],
   "source": [
    "from sklearn import preprocessing, model_selection, neighbors\n",
    "from sklearn.metrics import confusion_matrix, average_precision_score\n",
    "\n",
    "KNN = KNeighborsClassifier()  #initialize the KNN classifier\n",
    "\n",
    "#Create range of values to fit parameters\n",
    "neighbors = [3,5,7]\n",
    "weight_sys = ['distance','uniform']\n",
    "parameters = {'n_neighbors': neighbors, 'weights': weight_sys}\n",
    "\n",
    "#Fit parameters using gridsearch\n",
    "clf = GridSearchCV(KNN, param_grid=parameters, cv=CF_no)\n",
    "\n",
    "#Fit the tunned model on the training set\n",
    "clf.fit(train_x,train_y)\n",
    "\n",
    "#Print the best hyperparameters set\n",
    "print(\"Best Hyper Parameters:\", clf.best_params_)"
   ]
  },
  {
   "cell_type": "code",
   "execution_count": 226,
   "metadata": {},
   "outputs": [
    {
     "ename": "NameError",
     "evalue": "name 'classifier' is not defined",
     "output_type": "error",
     "traceback": [
      "\u001b[1;31m---------------------------------------------------------------------------\u001b[0m",
      "\u001b[1;31mNameError\u001b[0m                                 Traceback (most recent call last)",
      "\u001b[1;32m<ipython-input-226-d4dcefe0a508>\u001b[0m in \u001b[0;36m<module>\u001b[1;34m()\u001b[0m\n\u001b[1;32m----> 1\u001b[1;33m \u001b[0mpred_y\u001b[0m \u001b[1;33m=\u001b[0m \u001b[0mclassifier\u001b[0m\u001b[1;33m.\u001b[0m\u001b[0mpredict\u001b[0m\u001b[1;33m(\u001b[0m\u001b[0mtest_x\u001b[0m\u001b[1;33m)\u001b[0m \u001b[1;31m#generate predictions from the features of the test set\u001b[0m\u001b[1;33m\u001b[0m\u001b[0m\n\u001b[0m\u001b[0;32m      2\u001b[0m \u001b[0mprint\u001b[0m\u001b[1;33m(\u001b[0m\u001b[1;34m'completed predictions'\u001b[0m\u001b[1;33m)\u001b[0m\u001b[1;33m\u001b[0m\u001b[0m\n",
      "\u001b[1;31mNameError\u001b[0m: name 'classifier' is not defined"
     ]
    }
   ],
   "source": [
    "pred_y = classifier.predict(test_x) #generate predictions from the features of the test set\n",
    "print('completed predictions')"
   ]
  },
  {
   "cell_type": "code",
   "execution_count": null,
   "metadata": {},
   "outputs": [],
   "source": [
    "#Initialize the model on test dataset\n",
    "clf.fit(test_x, test_y)\n",
    "\n",
    "# Predict on test dataset\n",
    "y_pred = clf.predict(test_x)\n",
    "\n",
    "# Check the prediction power of the model\n",
    "pred_y = np.array(clf.predict(test_x))\n",
    "true_y = np.array(test_y)"
   ]
  },
  {
   "cell_type": "code",
   "execution_count": null,
   "metadata": {},
   "outputs": [],
   "source": [
    "class_names = ['No Fraud', 'Fraud']\n",
    "np.set_printoptions(precision=2)\n",
    "\n",
    "cnf_matrix = confusion_matrix(true_y, pred_y)\n",
    "plt.figure()\n",
    "plot_confusion_matrix(cnf_matrix, classes=class_names, \n",
    "                      title='Confusion matrix')\n",
    "plt.show()"
   ]
  },
  {
   "cell_type": "code",
   "execution_count": null,
   "metadata": {},
   "outputs": [],
   "source": []
  },
  {
   "cell_type": "code",
   "execution_count": null,
   "metadata": {},
   "outputs": [],
   "source": [
    "# Metrics computed from a confusion matrix\n",
    "\n",
    "# save confusion matrix and slice into four pieces\n",
    "cnf_matrix_metrics = metrics.confusion_matrix(test_y, y_pred)\n",
    "\n",
    "#[row, column]\n",
    "TP = cnf_matrix[1, 1]\n",
    "TN = cnf_matrix[0, 0]\n",
    "FP = cnf_matrix[0, 1]\n",
    "FN = cnf_matrix[1, 0]\n",
    "\n",
    "# Classification Accuracy: Overall, how often is the classifier correct?\n",
    "# use float to perform true division, not integer division\n",
    "\n",
    "print(\"True Positives (TP): We correctly predicted the fraud: {}. \".format(TP))\n",
    "print(\"True Negatives (TN): we correctly predicted that no fraud: {}. \".format(TN))\n",
    "print(\"False Positives (FP): we incorrectly predicted that it is a fraud or Type I error: {}. \".format(FP))\n",
    "print(\"False Negatives (FN): we incorrectly predicted that it is not a fraud or Type II error: {}. \".format(FN))"
   ]
  },
  {
   "cell_type": "code",
   "execution_count": null,
   "metadata": {},
   "outputs": [],
   "source": []
  },
  {
   "cell_type": "code",
   "execution_count": null,
   "metadata": {},
   "outputs": [],
   "source": [
    "# Classification Accuracy: Overall, how often is the classifier correct?\n",
    "\n",
    "print(\"Overall, how often is the classifier correct? {}. \".format((TP + TN) / float(TP + TN + FP + FN)))      \n",
    "print(\"Overall, how often is the classifier incorrect? {}. \".format((FP + FN) / float(TP + TN + FP + FN))) \n",
    "print(\"When the actual value is positive, how often is the prediction correct (sensitivity or recall)? {}.\".format(TP / float(FN + TP))) \n",
    "print(\"When the actual value is negative, how often is the prediction correct (specificity)? {}.\".format(TN / (TN + FP))) \n",
    "print(\"When the actual value is negative, how often is the prediction incorrect (false positive rate)? {}.\".format(FP / float(TN + FP))) \n",
    "print(\"When a positive value is predicted, how often is the prediction correct? {}.\".format(TP / float(TP + FP))) "
   ]
  },
  {
   "cell_type": "code",
   "execution_count": null,
   "metadata": {},
   "outputs": [],
   "source": [
    "# Which metrics should you focus on?\n",
    "# This is the case of fraud detection therefore we should optimize for sensitivity or recall:\n",
    "# FN is in this case more important as false positives (normal transactions that are marked as possible fraud\n",
    "# are more acceptable than false negatives where actual fraud has happened and we fail to detect"
   ]
  },
  {
   "cell_type": "code",
   "execution_count": null,
   "metadata": {},
   "outputs": [],
   "source": []
  },
  {
   "cell_type": "markdown",
   "metadata": {},
   "source": [
    "To avoid risk of overfitting"
   ]
  },
  {
   "cell_type": "code",
   "execution_count": null,
   "metadata": {},
   "outputs": [],
   "source": []
  },
  {
   "cell_type": "markdown",
   "metadata": {},
   "source": [
    "## Support Vector Machine"
   ]
  },
  {
   "cell_type": "code",
   "execution_count": null,
   "metadata": {},
   "outputs": [],
   "source": [
    "from sklearn import svm\n",
    "from sklearn.svm import SVC\n",
    "\n",
    "# Initialize and fit the model\n",
    "svc = SVC()\n",
    "\n",
    "parameters = {'kernel':('linear', 'rbf'), 'C':[1, 10]}\n",
    "\n",
    "#Fit parameters using gridsearch\n",
    "svc_tuned = GridSearchCV(svc, parameters, cv=CF_no)\n",
    "\n",
    "#Fit the model on the training set\n",
    "svc_tuned.fit(train_x, train_y)"
   ]
  },
  {
   "cell_type": "code",
   "execution_count": null,
   "metadata": {},
   "outputs": [],
   "source": [
    "# Predict on test dataset\n",
    "y_pred = svc_tuned.predict(test_x)\n",
    "\n",
    "# Check the prediction power of the model\n",
    "pred_y = np.array(svc_tuned.predict(test_x))\n",
    "true_y = np.array(test_y)"
   ]
  },
  {
   "cell_type": "code",
   "execution_count": null,
   "metadata": {},
   "outputs": [],
   "source": [
    "class_names = ['No Fraud', 'Fraud']\n",
    "np.set_printoptions(precision=2)\n",
    "\n",
    "cnf_matrix = confusion_matrix(true_y, pred_y)\n",
    "plt.figure()\n",
    "plot_confusion_matrix(cnf_matrix, classes=class_names, \n",
    "                      title='Confusion matrix')\n",
    "plt.show()"
   ]
  },
  {
   "cell_type": "code",
   "execution_count": null,
   "metadata": {},
   "outputs": [],
   "source": [
    "# Metrics computed from a confusion matrix\n",
    "\n",
    "# save confusion matrix and slice into four pieces\n",
    "cnf_matrix_metrics = metrics.confusion_matrix(test_y, y_pred)\n",
    "\n",
    "#[row, column]\n",
    "TP = cnf_matrix[1, 1]\n",
    "TN = cnf_matrix[0, 0]\n",
    "FP = cnf_matrix[0, 1]\n",
    "FN = cnf_matrix[1, 0]\n",
    "\n",
    "# Classification Accuracy: Overall, how often is the classifier correct?\n",
    "# use float to perform true division, not integer division\n",
    "\n",
    "print(\"True Positives (TP): We correctly predicted the fraud: {}. \".format(TP))\n",
    "print(\"True Negatives (TN): we correctly predicted that no fraud: {}. \".format(TN))\n",
    "print(\"False Positives (FP): we incorrectly predicted that it is a fraud or Type I error: {}. \".format(FP))\n",
    "print(\"False Negatives (FN): we incorrectly predicted that it is not a fraud or Type II error: {}. \".format(FN))"
   ]
  },
  {
   "cell_type": "code",
   "execution_count": null,
   "metadata": {},
   "outputs": [],
   "source": [
    "# Classification Accuracy: Overall, how often is the classifier correct?\n",
    "\n",
    "print(\"Overall, how often is the classifier correct? {}. \".format((TP + TN) / float(TP + TN + FP + FN)))      \n",
    "print(\"Overall, how often is the classifier incorrect? {}. \".format((FP + FN) / float(TP + TN + FP + FN))) \n",
    "print(\"When the actual value is positive, how often is the prediction correct (sensitivity or recall)? {}.\".format(TP / float(FN + TP))) \n",
    "print(\"When the actual value is negative, how often is the prediction correct (specificity)? {}.\".format(TN / (TN + FP))) \n",
    "print(\"When the actual value is negative, how often is the prediction incorrect (false positive rate)? {}.\".format(FP / float(TN + FP))) \n",
    "print(\"When a positive value is predicted, how often is the prediction correct? {}.\".format(TP / float(TP + FP))) "
   ]
  },
  {
   "cell_type": "markdown",
   "metadata": {},
   "source": [
    "Gradient Boosting Classifier"
   ]
  },
  {
   "cell_type": "code",
   "execution_count": null,
   "metadata": {},
   "outputs": [],
   "source": []
  },
  {
   "cell_type": "code",
   "execution_count": null,
   "metadata": {},
   "outputs": [],
   "source": []
  },
  {
   "cell_type": "code",
   "execution_count": null,
   "metadata": {},
   "outputs": [],
   "source": []
  },
  {
   "cell_type": "code",
   "execution_count": null,
   "metadata": {},
   "outputs": [],
   "source": []
  }
 ],
 "metadata": {
  "kernelspec": {
   "display_name": "Python 3",
   "language": "python",
   "name": "python3"
  },
  "language_info": {
   "codemirror_mode": {
    "name": "ipython",
    "version": 3
   },
   "file_extension": ".py",
   "mimetype": "text/x-python",
   "name": "python",
   "nbconvert_exporter": "python",
   "pygments_lexer": "ipython3",
   "version": "3.6.5"
  }
 },
 "nbformat": 4,
 "nbformat_minor": 2
}
